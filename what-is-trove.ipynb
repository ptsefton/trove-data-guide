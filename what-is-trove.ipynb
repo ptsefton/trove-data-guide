{
 "cells": [
  {
   "cell_type": "markdown",
   "id": "04899595-349f-4a58-a459-c68846a54c55",
   "metadata": {},
   "source": [
    "# What is Trove?"
   ]
  },
  {
   "cell_type": "markdown",
   "id": "12d30f6d-b978-4284-8faf-e14b4c422ede",
   "metadata": {},
   "source": [
    "Trove is not one thing."
   ]
  },
  {
   "cell_type": "code",
   "execution_count": null,
   "id": "5b98611b-7c7c-41e6-85e6-cd566c4144ba",
   "metadata": {},
   "outputs": [],
   "source": []
  }
 ],
 "metadata": {
  "jupytext": {
   "formats": "ipynb,md:myst"
  },
  "kernelspec": {
   "display_name": "Python 3 (ipykernel)",
   "language": "python",
   "name": "python3"
  },
  "language_info": {
   "codemirror_mode": {
    "name": "ipython",
    "version": 3
   },
   "file_extension": ".py",
   "mimetype": "text/x-python",
   "name": "python",
   "nbconvert_exporter": "python",
   "pygments_lexer": "ipython3",
   "version": "3.8.12"
  }
 },
 "nbformat": 4,
 "nbformat_minor": 5
}
