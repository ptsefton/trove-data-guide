{
 "cells": [
  {
   "cell_type": "markdown",
   "id": "db08f061-13d5-47d7-942b-90a3d928a16a",
   "metadata": {
    "editable": true,
    "slideshow": {
     "slide_type": ""
    },
    "tags": []
   },
   "source": [
    "# Accessing data from digitised oral histories\n",
    "\n",
    "Note about licence.\n",
    "\n",
    "To get a list of audio files (and other info), load JS from url like this: https://nla.gov.au/tarkine/listen/transcript/nla.obj-219744819.js (changing the ID as required)\n",
    "\n",
    "The JS also includes fields indicating if there's a timed summary or full transcript, and the timecoded summary itself.\n",
    "\n",
    "All the 'collection' browse links I've tried give 404 errors. Eg: https://nla.gov.au/nla.obj-221466843 (from https://trove.nla.gov.au/work/19002018)\n",
    "\n",
    "Work record with multiple 'versions' pointing to different recordings with same people: https://api.trove.nla.gov.au/v3/work/19002018?encoding=json&include=workversions,links\n",
    "\n",
    "To find more just search using holdingsCount: https://trove.nla.gov.au/search/category/music?keyword=%22nla.obj%22%20holdingsCount%3A4&l-format=Sound%2FInterview,%20lecture,%20talk&l-availability=y"
   ]
  },
  {
   "cell_type": "markdown",
   "id": "d98b3ec1-8834-48a8-a709-4064416c0d29",
   "metadata": {
    "editable": true,
    "slideshow": {
     "slide_type": ""
    },
    "tags": []
   },
   "source": [
    "## Metadata\n",
    "\n",
    "Search params:\n",
    "\n",
    "``` python\n",
    "params = {\n",
    "    \"q\": '\"nla.obj\"',\n",
    "    \"l-availability\": \"y\",\n",
    "    \"l-format\": \"Sound/Interview, lecture, talk\",\n",
    "}\n",
    "```"
   ]
  },
  {
   "cell_type": "markdown",
   "id": "b77a5df1-4e55-476f-bbd5-a097844ef66a",
   "metadata": {
    "editable": true,
    "slideshow": {
     "slide_type": ""
    },
    "tags": []
   },
   "source": [
    "Use standard method:\n",
    "\n",
    "- there are links to collection pages but these are currently broken, assume that individual items have work records\n",
    "- multiple interviews can be grouped as versions of a work -- eg multiple interviews over a period of time\n",
    "\n",
    "Additional metadata:\n",
    "\n",
    "- additional info scraped from web page\n",
    "- details from JS"
   ]
  },
  {
   "cell_type": "markdown",
   "id": "c5b51a89-438b-4997-b063-84495bf4157a",
   "metadata": {},
   "source": [
    "## Transcripts and summaries\n",
    "\n",
    "Using nla.obj id"
   ]
  },
  {
   "cell_type": "markdown",
   "id": "e7fc5746-3d3c-45be-a076-022807ecd83d",
   "metadata": {
    "editable": true,
    "slideshow": {
     "slide_type": ""
    },
    "tags": []
   },
   "source": [
    "## Audio files\n",
    "\n",
    "Get file ids from javascript"
   ]
  },
  {
   "cell_type": "code",
   "execution_count": null,
   "id": "63083980-b7e2-4e1a-b883-058f45e81211",
   "metadata": {
    "editable": true,
    "slideshow": {
     "slide_type": ""
    },
    "tags": []
   },
   "outputs": [],
   "source": []
  }
 ],
 "metadata": {
  "kernelspec": {
   "display_name": "Python 3 (ipykernel)",
   "language": "python",
   "name": "python3"
  },
  "language_info": {
   "codemirror_mode": {
    "name": "ipython",
    "version": 3
   },
   "file_extension": ".py",
   "mimetype": "text/x-python",
   "name": "python",
   "nbconvert_exporter": "python",
   "pygments_lexer": "ipython3",
   "version": "3.8.12"
  }
 },
 "nbformat": 4,
 "nbformat_minor": 5
}
