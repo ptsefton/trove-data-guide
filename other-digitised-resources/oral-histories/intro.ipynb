{
 "cells": [
  {
   "cell_type": "markdown",
   "id": "1b0c3b63-c5be-4063-8f26-11eead974b98",
   "metadata": {
    "editable": true,
    "slideshow": {
     "slide_type": ""
    },
    "tags": []
   },
   "source": [
    "# Oral histories"
   ]
  },
  {
   "cell_type": "markdown",
   "id": "675e40e0-2dec-4f8e-9f68-ac9cdb010e01",
   "metadata": {
    "editable": true,
    "slideshow": {
     "slide_type": ""
    },
    "tags": []
   },
   "source": [
    "To get a list of audio files (and other info), load JS from url like this: https://nla.gov.au/tarkine/listen/transcript/nla.obj-219744819.js (changing the ID as required)"
   ]
  }
 ],
 "metadata": {
  "kernelspec": {
   "display_name": "Python 3 (ipykernel)",
   "language": "python",
   "name": "python3"
  },
  "language_info": {
   "codemirror_mode": {
    "name": "ipython",
    "version": 3
   },
   "file_extension": ".py",
   "mimetype": "text/x-python",
   "name": "python",
   "nbconvert_exporter": "python",
   "pygments_lexer": "ipython3",
   "version": "3.8.12"
  }
 },
 "nbformat": 4,
 "nbformat_minor": 5
}
