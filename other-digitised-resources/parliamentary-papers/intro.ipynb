{
 "cells": [
  {
   "cell_type": "markdown",
   "id": "421a5512-fcca-4ddc-93e2-8c1c4709c530",
   "metadata": {
    "editable": true,
    "slideshow": {
     "slide_type": ""
    },
    "tags": []
   },
   "source": [
    "# Parliamentary Papers\n",
    "\n",
    "The NLA has digitised a large collection of reports and papers presented to the Commonwealth Parliament. "
   ]
  },
  {
   "cell_type": "code",
   "execution_count": 1,
   "id": "c00c369c-a3a3-47a8-a715-ffe2540eaff9",
   "metadata": {
    "editable": true,
    "slideshow": {
     "slide_type": ""
    },
    "tags": [
     "remove-cell"
    ]
   },
   "outputs": [
    {
     "data": {
      "text/plain": [
       "True"
      ]
     },
     "execution_count": 1,
     "metadata": {},
     "output_type": "execute_result"
    }
   ],
   "source": [
    "import os\n",
    "import time\n",
    "\n",
    "import altair as alt\n",
    "import pandas as pd\n",
    "import requests\n",
    "from dotenv import load_dotenv\n",
    "from myst_nb import glue\n",
    "\n",
    "load_dotenv()"
   ]
  },
  {
   "cell_type": "code",
   "execution_count": 2,
   "id": "4efa431d-c1f1-4e94-922e-14289e161844",
   "metadata": {
    "editable": true,
    "slideshow": {
     "slide_type": ""
    },
    "tags": [
     "remove-cell"
    ]
   },
   "outputs": [],
   "source": [
    "YOUR_API_KEY = os.getenv(\"TROVE_API_KEY\")"
   ]
  },
  {
   "cell_type": "markdown",
   "id": "02cf919d-f99b-48b5-a145-1c862a732753",
   "metadata": {
    "editable": true,
    "slideshow": {
     "slide_type": ""
    },
    "tags": []
   },
   "source": [
    "## Finding Parliamentary Papers\n",
    "\n",
    "As documented in [](/understanding-search/finding-digitised-content), you can find NLA digitised resources by searching for `\"nla.obj\"` and selecting the 'Online' facet (if you're using the API set `l-availability` to `y`). To further limit the results to digitised Parliamentary Papers the best option seems to be adding `series:\"Parliamentary paper (Australia. Parliament)` to your search query.\n",
    "\n",
    "[![Try it!](https://troveconsole.herokuapp.com/static/img/try-trove-api-console.svg)](https://troveconsole.herokuapp.com/v3/?url=https%3A%2F%2Fapi.trove.nla.gov.au%2Fv3%2Fresult%3Fq%3D%22nla.obj%22+series%3A%22Parliamentary+paper+%28Australia.+Parliament%29%22%26category%3Dall%26l-availability%3Dy%26encoding%3Djson%26bulkHarvest%3Dtrue&comment=)\n",
    "\n",
    "The `series` index is generated from the `isPartOf` field. This approach seems to return more Parliamentary Papers and much less noise than other options, such as setting `format` to `Government publication`.\n",
    "\n",
    "Using this query, you can find the total number of work-level records describing digitised Parliamentary Papers in Trove."
   ]
  },
  {
   "cell_type": "code",
   "execution_count": 27,
   "id": "40f209ab-44e4-4763-b6e8-242cb84fe75e",
   "metadata": {
    "editable": true,
    "slideshow": {
     "slide_type": ""
    },
    "tags": [
     "hide-input"
    ]
   },
   "outputs": [
    {
     "name": "stdout",
     "output_type": "stream",
     "text": [
      "There are 229,410 work records!\n"
     ]
    }
   ],
   "source": [
    "params = {\n",
    "    \"q\": '\"nla.obj\" series:\"Parliamentary paper (Australia. Parliament)\"',\n",
    "    \"category\": \"all\", # Get results from all categories\n",
    "    \"l-availability\": \"y\",\n",
    "    \"encoding\": \"json\",\n",
    "    \"n\": 0,\n",
    "    \"bulkHarvest\": \"true\" # This will combine the results from all categories\n",
    "}\n",
    "\n",
    "headers = {\"X-API-KEY\": YOUR_API_KEY}\n",
    "\n",
    "response = requests.get(\n",
    "    \"https://api.trove.nla.gov.au/v3/result\", params=params, headers=headers\n",
    ")\n",
    "data = response.json()\n",
    "\n",
    "print(f'There are {data[\"category\"][0][\"records\"][\"total\"]:,} work records!')"
   ]
  },
  {
   "cell_type": "markdown",
   "id": "6abf2a66-b4d2-492f-945b-a46d3bffd978",
   "metadata": {
    "editable": true,
    "slideshow": {
     "slide_type": ""
    },
    "tags": []
   },
   "source": [
    "That's a lot of records! But before you take that number at face value, it's worth examining how those records are distributed across categories and formats.\n",
    "\n",
    "Here's the number of records in each category. Remember that records can be duplicated across categories, so if you add up the category totals it'll be more than the total number calculated above."
   ]
  },
  {
   "cell_type": "code",
   "execution_count": 23,
   "id": "5c40b90e-62dd-433e-a76e-9f7b40b700c0",
   "metadata": {
    "editable": true,
    "slideshow": {
     "slide_type": ""
    },
    "tags": [
     "hide-input"
    ]
   },
   "outputs": [
    {
     "data": {
      "text/html": [
       "<style type=\"text/css\">\n",
       "</style>\n",
       "<table id=\"T_1ee57\">\n",
       "  <thead>\n",
       "    <tr>\n",
       "      <th id=\"T_1ee57_level0_col0\" class=\"col_heading level0 col0\" >category</th>\n",
       "      <th id=\"T_1ee57_level0_col1\" class=\"col_heading level0 col1\" >total</th>\n",
       "    </tr>\n",
       "  </thead>\n",
       "  <tbody>\n",
       "    <tr>\n",
       "      <td id=\"T_1ee57_row0_col0\" class=\"data row0 col0\" >book</td>\n",
       "      <td id=\"T_1ee57_row0_col1\" class=\"data row0 col1\" >13,667</td>\n",
       "    </tr>\n",
       "    <tr>\n",
       "      <td id=\"T_1ee57_row1_col0\" class=\"data row1 col0\" >diary</td>\n",
       "      <td id=\"T_1ee57_row1_col1\" class=\"data row1 col1\" >15</td>\n",
       "    </tr>\n",
       "    <tr>\n",
       "      <td id=\"T_1ee57_row2_col0\" class=\"data row2 col0\" >image</td>\n",
       "      <td id=\"T_1ee57_row2_col1\" class=\"data row2 col1\" >12</td>\n",
       "    </tr>\n",
       "    <tr>\n",
       "      <td id=\"T_1ee57_row3_col0\" class=\"data row3 col0\" >list</td>\n",
       "      <td id=\"T_1ee57_row3_col1\" class=\"data row3 col1\" >0</td>\n",
       "    </tr>\n",
       "    <tr>\n",
       "      <td id=\"T_1ee57_row4_col0\" class=\"data row4 col0\" >magazine</td>\n",
       "      <td id=\"T_1ee57_row4_col1\" class=\"data row4 col1\" >206,382</td>\n",
       "    </tr>\n",
       "    <tr>\n",
       "      <td id=\"T_1ee57_row5_col0\" class=\"data row5 col0\" >music</td>\n",
       "      <td id=\"T_1ee57_row5_col1\" class=\"data row5 col1\" >7</td>\n",
       "    </tr>\n",
       "    <tr>\n",
       "      <td id=\"T_1ee57_row6_col0\" class=\"data row6 col0\" >newspaper</td>\n",
       "      <td id=\"T_1ee57_row6_col1\" class=\"data row6 col1\" >0</td>\n",
       "    </tr>\n",
       "    <tr>\n",
       "      <td id=\"T_1ee57_row7_col0\" class=\"data row7 col0\" >people</td>\n",
       "      <td id=\"T_1ee57_row7_col1\" class=\"data row7 col1\" >0</td>\n",
       "    </tr>\n",
       "    <tr>\n",
       "      <td id=\"T_1ee57_row8_col0\" class=\"data row8 col0\" >research</td>\n",
       "      <td id=\"T_1ee57_row8_col1\" class=\"data row8 col1\" >189,206</td>\n",
       "    </tr>\n",
       "  </tbody>\n",
       "</table>\n"
      ],
      "text/plain": [
       "<pandas.io.formats.style.Styler at 0x7f431eaeb100>"
      ]
     },
     "execution_count": 23,
     "metadata": {},
     "output_type": "execute_result"
    }
   ],
   "source": [
    "params = {\n",
    "    \"q\": '\"nla.obj\" series:\"Parliamentary paper (Australia. Parliament)\"',\n",
    "    \"category\": \"all\",\n",
    "    \"l-availability\": \"y\",\n",
    "    \"encoding\": \"json\",\n",
    "    \"n\": 0\n",
    "}\n",
    "\n",
    "headers = {\"X-API-KEY\": YOUR_API_KEY}\n",
    "\n",
    "response = requests.get(\n",
    "    \"https://api.trove.nla.gov.au/v3/result\", params=params, headers=headers\n",
    ")\n",
    "data = response.json()\n",
    "\n",
    "totals = [{\"category\": c[\"code\"], \"total\": c[\"records\"][\"total\"]} for c in data[\"category\"]]\n",
    "pd.DataFrame(totals).style.format(thousands=\",\").hide()"
   ]
  },
  {
   "cell_type": "markdown",
   "id": "2c0a37ed-eca4-4cf0-b837-62b8c758a2c0",
   "metadata": {
    "editable": true,
    "slideshow": {
     "slide_type": ""
    },
    "tags": []
   },
   "source": [
    "And here's the number of records by format. Remember that digitised resources can be [merged with other versions into works](/what-is-trove/works-and-versions), resulting in an odd mix of formats."
   ]
  },
  {
   "cell_type": "code",
   "execution_count": 22,
   "id": "892103fb-d1a4-4c5b-993d-aaa834c157fe",
   "metadata": {
    "editable": true,
    "slideshow": {
     "slide_type": ""
    },
    "tags": [
     "hide-input"
    ]
   },
   "outputs": [
    {
     "data": {
      "text/html": [
       "<style type=\"text/css\">\n",
       "</style>\n",
       "<table id=\"T_9ab78\">\n",
       "  <thead>\n",
       "    <tr>\n",
       "      <th id=\"T_9ab78_level0_col0\" class=\"col_heading level0 col0\" >format</th>\n",
       "      <th id=\"T_9ab78_level0_col1\" class=\"col_heading level0 col1\" >total</th>\n",
       "    </tr>\n",
       "  </thead>\n",
       "  <tbody>\n",
       "    <tr>\n",
       "      <td id=\"T_9ab78_row0_col0\" class=\"data row0 col0\" >Article</td>\n",
       "      <td id=\"T_9ab78_row0_col1\" class=\"data row0 col1\" >217,655</td>\n",
       "    </tr>\n",
       "    <tr>\n",
       "      <td id=\"T_9ab78_row1_col0\" class=\"data row1 col0\" >Book</td>\n",
       "      <td id=\"T_9ab78_row1_col1\" class=\"data row1 col1\" >13,146</td>\n",
       "    </tr>\n",
       "    <tr>\n",
       "      <td id=\"T_9ab78_row2_col0\" class=\"data row2 col0\" >Government publication</td>\n",
       "      <td id=\"T_9ab78_row2_col1\" class=\"data row2 col1\" >11,350</td>\n",
       "    </tr>\n",
       "    <tr>\n",
       "      <td id=\"T_9ab78_row3_col0\" class=\"data row3 col0\" >Periodical</td>\n",
       "      <td id=\"T_9ab78_row3_col1\" class=\"data row3 col1\" >606</td>\n",
       "    </tr>\n",
       "    <tr>\n",
       "      <td id=\"T_9ab78_row4_col0\" class=\"data row4 col0\" >Microform</td>\n",
       "      <td id=\"T_9ab78_row4_col1\" class=\"data row4 col1\" >102</td>\n",
       "    </tr>\n",
       "    <tr>\n",
       "      <td id=\"T_9ab78_row5_col0\" class=\"data row5 col0\" >Conference Proceedings</td>\n",
       "      <td id=\"T_9ab78_row5_col1\" class=\"data row5 col1\" >73</td>\n",
       "    </tr>\n",
       "    <tr>\n",
       "      <td id=\"T_9ab78_row6_col0\" class=\"data row6 col0\" >Archived website</td>\n",
       "      <td id=\"T_9ab78_row6_col1\" class=\"data row6 col1\" >60</td>\n",
       "    </tr>\n",
       "    <tr>\n",
       "      <td id=\"T_9ab78_row7_col0\" class=\"data row7 col0\" >Published</td>\n",
       "      <td id=\"T_9ab78_row7_col1\" class=\"data row7 col1\" >12</td>\n",
       "    </tr>\n",
       "    <tr>\n",
       "      <td id=\"T_9ab78_row8_col0\" class=\"data row8 col0\" >Map</td>\n",
       "      <td id=\"T_9ab78_row8_col1\" class=\"data row8 col1\" >11</td>\n",
       "    </tr>\n",
       "    <tr>\n",
       "      <td id=\"T_9ab78_row9_col0\" class=\"data row9 col0\" >Audio book</td>\n",
       "      <td id=\"T_9ab78_row9_col1\" class=\"data row9 col1\" >6</td>\n",
       "    </tr>\n",
       "    <tr>\n",
       "      <td id=\"T_9ab78_row10_col0\" class=\"data row10 col0\" >Thesis</td>\n",
       "      <td id=\"T_9ab78_row10_col1\" class=\"data row10 col1\" >6</td>\n",
       "    </tr>\n",
       "    <tr>\n",
       "      <td id=\"T_9ab78_row11_col0\" class=\"data row11 col0\" >Unpublished</td>\n",
       "      <td id=\"T_9ab78_row11_col1\" class=\"data row11 col1\" >3</td>\n",
       "    </tr>\n",
       "    <tr>\n",
       "      <td id=\"T_9ab78_row12_col0\" class=\"data row12 col0\" >Object</td>\n",
       "      <td id=\"T_9ab78_row12_col1\" class=\"data row12 col1\" >1</td>\n",
       "    </tr>\n",
       "    <tr>\n",
       "      <td id=\"T_9ab78_row13_col0\" class=\"data row13 col0\" >Sound</td>\n",
       "      <td id=\"T_9ab78_row13_col1\" class=\"data row13 col1\" >1</td>\n",
       "    </tr>\n",
       "  </tbody>\n",
       "</table>\n"
      ],
      "text/plain": [
       "<pandas.io.formats.style.Styler at 0x7f431edcef40>"
      ]
     },
     "execution_count": 22,
     "metadata": {},
     "output_type": "execute_result"
    }
   ],
   "source": [
    "params = {\n",
    "    \"q\": '\"nla.obj\" series:\"Parliamentary paper (Australia. Parliament)\"',\n",
    "    \"category\": \"all\",\n",
    "    \"l-availability\": \"y\",\n",
    "    \"encoding\": \"json\",\n",
    "    \"n\": 0,\n",
    "    \"facet\": \"format\",\n",
    "    \"bulkHarvest\": \"true\"\n",
    "}\n",
    "\n",
    "headers = {\"X-API-KEY\": YOUR_API_KEY}\n",
    "\n",
    "response = requests.get(\n",
    "    \"https://api.trove.nla.gov.au/v3/result\", params=params, headers=headers\n",
    ")\n",
    "data = response.json()\n",
    "\n",
    "facets = [{\"format\": f[\"search\"], \"total\": f[\"count\"]} for f in data[\"category\"][0][\"facets\"][\"facet\"][0][\"term\"]]\n",
    "\n",
    "pd.DataFrame(facets).style.format(thousands=\",\").hide()"
   ]
  },
  {
   "cell_type": "markdown",
   "id": "60440131-ea6c-4b42-9fbc-2886807eccab",
   "metadata": {
    "editable": true,
    "slideshow": {
     "slide_type": ""
    },
    "tags": []
   },
   "source": [
    "Looking at the tables above, you can see that most of the records relating to Parliamentary Papers have been assigned the `Article` format and can be found in the **Magazines & Newsletters** category. It also looks like many of these records are duplicated in **Research & Reports**.\n",
    "\n",
    "You might be wondering why Parliamentary Papers would be described as 'articles'. If you look at [the results in the **Magazines & Newsletters** category](https://trove.nla.gov.au/search/category/magazines?keyword=%22nla.obj%22%20series%3A%22Parliamentary%20paper%20%28Australia.%20Parliament%29%22&l-availability=y), you'll see that the records describe *sections* of Parliamentary Papers, not complete publications. In other words, **the Parliamentary Papers are being treated like issues of a periodical** – the contents of each paper is being split up into sections (like articles in a journal), and a record is being created for each individual section.\n",
    "\n",
    "This generates some odd 'articles', such as contents pages and appendices. When combined with the grouping of versions into works, it can also have some unfortunate consequences. For example, [here's a record](https://trove.nla.gov.au/work/237938382) where the 'Table of contents' sections of different Parliamentary Papers have been grouped as a single work!\n",
    "\n",
    "The splitting of Parliamentary Papers into 'articles' also inflates the number of records. As a result, the total number of Parliamentary Papers will be considerably less than the total number of work-level records. \n",
    "\n",
    "How then can you limit the search to only show complete Parliamentary Papers and exclude the 'articles'? I don't think you can. If you add `NOT format:Article` to your search you'll exclude reports with the format `Article/Report`, and probably lose other publications that are grouped with `Article` records. You could just ignore the **Magazines & Newsletters** category, but many of the 'articles' are also in **Research & Reports** where they're mixed with other publication formats. There's no way to drop the 'articles' without losing other, more relevant, records.\n",
    "\n",
    "To create a dataset that only contains details of complete Parliamentary Papers, you need to harvest metadata from the search above and then inspect the details of each record to exclude the ones you don't want. But this is further complicated by the different ways Parliamentary Papers are grouped and described in Trove."
   ]
  },
  {
   "cell_type": "markdown",
   "id": "86af388a-5e95-41af-aec4-ccb2137d2f56",
   "metadata": {
    "editable": true,
    "slideshow": {
     "slide_type": ""
    },
    "tags": []
   },
   "source": [
    "## Grouping and describing Parliamentary Papers\n",
    "\n",
    "The way digitised Parliamentary Papers are grouped and described in Trove is inconsistent and sometimes confusing.\n",
    "\n",
    "As noted above, individual Parliamentary Papers are often treated as issues of a periodical. But not always. Sometimes they are described as standalone works. This [report by the Australian Science and Technology Council on 'Marine sciences and technologies in Australia'](https://trove.nla.gov.au/work/9710970?) is treated like a book, and is linked to a single digitised resource. It might have been grouped with a [follow-up report from the next year](https://trove.nla.gov.au/work/9988298), but it doesn't really matter as they're both easily discoverable.\n",
    "\n",
    "Sometimes individual Parliamentary Papers are not described at all. While attempting to harvest a full list of Parliamentary Papers, I noticed that I couldn't find the parent publications of some 'articles'. These publications are digitised and accessible, but they don't turn up in Trove's search results. The only way to find them, in either the web interface or API, is to navigate upwards from an 'article'.\n",
    "\n",
    "Trove represents collections of resources in [a number of different ways](/what-is-trove/collections). Where Parliamentary Papers are grouped together as 'issues' (for example, all the annual reports of an agency), they're generally created as collections within the digitised item viewer. For example, the work record for [Report of the Senate Select Committee on Superannuation](https://trove.nla.gov.au/work/22095680) links to a page with a **Browse this collection** button. Clicking on the button displays details of 28 different reports published between 1992 and 2001.\n",
    "\n",
    "In this case, both the collection and the individual reports within it have their own separate work records. So the digitised version of the 1993 report on the *Super Complaints Tribunal* can be accessed directly from [this work record](https://trove.nla.gov.au/work/237349942), or by using the **Browse this collection** page.\n",
    "\n",
    "However, there are other examples where there are only work records for the collection, not the individual reports. This means you can only find and access the reports from the collection page, or in disaggregated form as separate articles.\n",
    "\n",
    "All of this means that search results in the Parliamentary Papers are a mix of different types of things – collections, publications, and articles – and it can be difficult to figure out what it is that you're actually searching.\n",
    "\n",
    "The quality of the metadata also varies. The report on the *Super Complaints Tribunal*, for example, actually has the title 'PP no. 388 of 1993, Report no. 10', and so won't be returned by a title search for 'super complaints tribunal'. Added to that, there are a large number of duplicate records. \n",
    "\n",
    "## Research implications\n",
    "\n",
    "Search - can't assume everything will be in results, drill down through collections\n",
    "\n",
    "API \n"
   ]
  },
  {
   "cell_type": "markdown",
   "id": "61e10ecb-8d6c-407a-b999-00f46f131c3a",
   "metadata": {
    "editable": true,
    "slideshow": {
     "slide_type": ""
    },
    "tags": []
   },
   "source": [
    "## Overview of Parliamentary Papers\n",
    "\n",
    "Using harvested dataset -- visualise by year etc."
   ]
  },
  {
   "cell_type": "markdown",
   "id": "971fdef6-2ee8-4898-ae22-c01bf44fbe6b",
   "metadata": {
    "editable": true,
    "slideshow": {
     "slide_type": ""
    },
    "tags": []
   },
   "source": [
    "## Problems\n",
    "\n",
    "\n",
    "Reports grouped as collections\n",
    "\n",
    "Duplicates\n",
    "\n",
    "Records for articles not issues\n",
    "\n",
    "Lots of articles from reports -- hard to exclude, 'Report' is a child of 'Article'\n",
    "\n",
    "- most records 'Article'\n",
    "- most articles in both research and magazine\n",
    "\n",
    "Are the entries that point to sections only in magazine?\n",
    "\n",
    "----\n",
    "\n",
    "Individual publications -- eg: https://trove.nla.gov.au/work/9988298 (format Article, Government publication), similar report not grouped into collection https://trove.nla.gov.au/work/9710970; https://trove.nla.gov.au/work/10010110\n",
    "\n",
    "Versions of works: https://api.trove.nla.gov.au/v3/work/11860613?encoding=json&include=workversions,links\n",
    "\n",
    "Collections (ie of annual reports over time)\n",
    "\n",
    "- some have work records for individual parts eg: collection - https://trove.nla.gov.au/work/22095680 and part - https://trove.nla.gov.au/work/237581960 and duplicate of part - https://trove.nla.gov.au/work/10005796\n",
    "- some don't have individual records eg: https://trove.nla.gov.au/work/10055730\n",
    "\n",
    "Sections of individual reports (or issues), treated like journal articles, can look like issues\n",
    "\n",
    "Difficult to distinguish between these and find way to full digitised publication. GW approach -- testing for pages, testing for text."
   ]
  },
  {
   "cell_type": "markdown",
   "id": "ae318f3d-dd96-4299-98d6-074ca24478a7",
   "metadata": {
    "editable": true,
    "slideshow": {
     "slide_type": ""
    },
    "tags": []
   },
   "source": [
    "Use harvested data set."
   ]
  },
  {
   "cell_type": "code",
   "execution_count": 96,
   "id": "f3759c54-f0e9-45f1-a5bc-bff61eb97a58",
   "metadata": {
    "editable": true,
    "slideshow": {
     "slide_type": ""
    },
    "tags": []
   },
   "outputs": [],
   "source": [
    "df = pd.read_csv(\"https://github.com/GLAM-Workbench/trove-parliamentary-papers-data/raw/main/trove-parliamentary-papers.csv\")"
   ]
  },
  {
   "cell_type": "code",
   "execution_count": 97,
   "id": "fec04beb-19d8-41cb-849c-52b8fe5debed",
   "metadata": {},
   "outputs": [
    {
     "data": {
      "text/html": [
       "<style type=\"text/css\">\n",
       "</style>\n",
       "<table id=\"T_b831b\">\n",
       "  <thead>\n",
       "    <tr>\n",
       "      <th id=\"T_b831b_level0_col0\" class=\"col_heading level0 col0\" >subject</th>\n",
       "      <th id=\"T_b831b_level0_col1\" class=\"col_heading level0 col1\" >count</th>\n",
       "    </tr>\n",
       "  </thead>\n",
       "  <tbody>\n",
       "    <tr>\n",
       "      <td id=\"T_b831b_row0_col0\" class=\"data row0 col0\" >Australia</td>\n",
       "      <td id=\"T_b831b_row0_col1\" class=\"data row0 col1\" >6,560</td>\n",
       "    </tr>\n",
       "    <tr>\n",
       "      <td id=\"T_b831b_row1_col0\" class=\"data row1 col0\" >Australian</td>\n",
       "      <td id=\"T_b831b_row1_col1\" class=\"data row1 col1\" >6,558</td>\n",
       "    </tr>\n",
       "    <tr>\n",
       "      <td id=\"T_b831b_row2_col0\" class=\"data row2 col0\" >Finance, Public -- Australia -- Accounting -- Periodicals</td>\n",
       "      <td id=\"T_b831b_row2_col1\" class=\"data row2 col1\" >1,568</td>\n",
       "    </tr>\n",
       "    <tr>\n",
       "      <td id=\"T_b831b_row3_col0\" class=\"data row3 col0\" >Tariff--Australia</td>\n",
       "      <td id=\"T_b831b_row3_col1\" class=\"data row3 col1\" >1,563</td>\n",
       "    </tr>\n",
       "    <tr>\n",
       "      <td id=\"T_b831b_row4_col0\" class=\"data row4 col0\" >Administrative agencies -- Australia -- Auditing -- Periodicals</td>\n",
       "      <td id=\"T_b831b_row4_col1\" class=\"data row4 col1\" >1,165</td>\n",
       "    </tr>\n",
       "    <tr>\n",
       "      <td id=\"T_b831b_row5_col0\" class=\"data row5 col0\" >Finance, Public -- Australia -- Auditing</td>\n",
       "      <td id=\"T_b831b_row5_col1\" class=\"data row5 col1\" >1,139</td>\n",
       "    </tr>\n",
       "    <tr>\n",
       "      <td id=\"T_b831b_row6_col0\" class=\"data row6 col0\" >Finance, Public -- Auditing</td>\n",
       "      <td id=\"T_b831b_row6_col1\" class=\"data row6 col1\" >1,135</td>\n",
       "    </tr>\n",
       "    <tr>\n",
       "      <td id=\"T_b831b_row7_col0\" class=\"data row7 col0\" >Executive departments -- Australia -- Auditing -- Periodicals</td>\n",
       "      <td id=\"T_b831b_row7_col1\" class=\"data row7 col1\" >1,135</td>\n",
       "    </tr>\n",
       "    <tr>\n",
       "      <td id=\"T_b831b_row8_col0\" class=\"data row8 col0\" >Tariff Australia</td>\n",
       "      <td id=\"T_b831b_row8_col1\" class=\"data row8 col1\" >1,115</td>\n",
       "    </tr>\n",
       "    <tr>\n",
       "      <td id=\"T_b831b_row9_col0\" class=\"data row9 col0\" >Federal issue</td>\n",
       "      <td id=\"T_b831b_row9_col1\" class=\"data row9 col1\" >1,112</td>\n",
       "    </tr>\n",
       "    <tr>\n",
       "      <td id=\"T_b831b_row10_col0\" class=\"data row10 col0\" >Legislative auditing -- Australia -- Periodicals</td>\n",
       "      <td id=\"T_b831b_row10_col1\" class=\"data row10 col1\" >1,106</td>\n",
       "    </tr>\n",
       "    <tr>\n",
       "      <td id=\"T_b831b_row11_col0\" class=\"data row11 col0\" >Australia -- Appropriations and expenditures -- Periodicals</td>\n",
       "      <td id=\"T_b831b_row11_col1\" class=\"data row11 col1\" >1,097</td>\n",
       "    </tr>\n",
       "    <tr>\n",
       "      <td id=\"T_b831b_row12_col0\" class=\"data row12 col0\" >Public works -- Australia -- Periodicals</td>\n",
       "      <td id=\"T_b831b_row12_col1\" class=\"data row12 col1\" >947</td>\n",
       "    </tr>\n",
       "    <tr>\n",
       "      <td id=\"T_b831b_row13_col0\" class=\"data row13 col0\" >Australia. Parliament. Standing Committee on Public Works -- Periodicals</td>\n",
       "      <td id=\"T_b831b_row13_col1\" class=\"data row13 col1\" >910</td>\n",
       "    </tr>\n",
       "    <tr>\n",
       "      <td id=\"T_b831b_row14_col0\" class=\"data row14 col0\" >Public buildings -- Australia -- Periodicals</td>\n",
       "      <td id=\"T_b831b_row14_col1\" class=\"data row14 col1\" >862</td>\n",
       "    </tr>\n",
       "    <tr>\n",
       "      <td id=\"T_b831b_row15_col0\" class=\"data row15 col0\" >Industries -- Australia -- Periodicals</td>\n",
       "      <td id=\"T_b831b_row15_col1\" class=\"data row15 col1\" >756</td>\n",
       "    </tr>\n",
       "    <tr>\n",
       "      <td id=\"T_b831b_row16_col0\" class=\"data row16 col0\" >Finance, Public -- Australia -- Periodicals</td>\n",
       "      <td id=\"T_b831b_row16_col1\" class=\"data row16 col1\" >754</td>\n",
       "    </tr>\n",
       "    <tr>\n",
       "      <td id=\"T_b831b_row17_col0\" class=\"data row17 col0\" >Australia -- Industries -- Periodicals</td>\n",
       "      <td id=\"T_b831b_row17_col1\" class=\"data row17 col1\" >678</td>\n",
       "    </tr>\n",
       "    <tr>\n",
       "      <td id=\"T_b831b_row18_col0\" class=\"data row18 col0\" >Tariff -- Australia</td>\n",
       "      <td id=\"T_b831b_row18_col1\" class=\"data row18 col1\" >557</td>\n",
       "    </tr>\n",
       "    <tr>\n",
       "      <td id=\"T_b831b_row19_col0\" class=\"data row19 col0\" >Tariff -- Australia -- Periodicals</td>\n",
       "      <td id=\"T_b831b_row19_col1\" class=\"data row19 col1\" >551</td>\n",
       "    </tr>\n",
       "  </tbody>\n",
       "</table>\n"
      ],
      "text/plain": [
       "<pandas.io.formats.style.Styler at 0x7f430dbe22e0>"
      ]
     },
     "execution_count": 97,
     "metadata": {},
     "output_type": "execute_result"
    }
   ],
   "source": [
    "subjects = df[\"subject\"].str.split(\"|\").explode().to_frame()\n",
    "subjects[\"subject\"] = subjects[\"subject\"].str.strip(\".\")\n",
    "subjects[\"subject\"].value_counts().to_frame().reset_index()[:20].style.format(thousands=\",\").hide()"
   ]
  },
  {
   "cell_type": "code",
   "execution_count": 98,
   "id": "99aa62bc-abe4-48ac-bbe8-0517eaab28a1",
   "metadata": {},
   "outputs": [
    {
     "data": {
      "text/html": [
       "<style type=\"text/css\">\n",
       "</style>\n",
       "<table id=\"T_0db15\">\n",
       "  <thead>\n",
       "    <tr>\n",
       "      <th id=\"T_0db15_level0_col0\" class=\"col_heading level0 col0\" >cleaned</th>\n",
       "      <th id=\"T_0db15_level0_col1\" class=\"col_heading level0 col1\" >count</th>\n",
       "    </tr>\n",
       "  </thead>\n",
       "  <tbody>\n",
       "    <tr>\n",
       "      <td id=\"T_0db15_row0_col0\" class=\"data row0 col0\" >Australia. Tariff Board</td>\n",
       "      <td id=\"T_0db15_row0_col1\" class=\"data row0 col1\" >3,799</td>\n",
       "    </tr>\n",
       "    <tr>\n",
       "      <td id=\"T_0db15_row1_col0\" class=\"data row1 col0\" >Australia. Parliament</td>\n",
       "      <td id=\"T_0db15_row1_col1\" class=\"data row1 col1\" >3,275</td>\n",
       "    </tr>\n",
       "    <tr>\n",
       "      <td id=\"T_0db15_row2_col0\" class=\"data row2 col0\" >Australian National Audit Office</td>\n",
       "      <td id=\"T_0db15_row2_col1\" class=\"data row2 col1\" >3,012</td>\n",
       "    </tr>\n",
       "    <tr>\n",
       "      <td id=\"T_0db15_row3_col0\" class=\"data row3 col0\" >Australia. Parliament. Standing Committee on Public Works</td>\n",
       "      <td id=\"T_0db15_row3_col1\" class=\"data row3 col1\" >2,041</td>\n",
       "    </tr>\n",
       "    <tr>\n",
       "      <td id=\"T_0db15_row4_col0\" class=\"data row4 col0\" >Australia. Industries Assistance Commission</td>\n",
       "      <td id=\"T_0db15_row4_col1\" class=\"data row4 col1\" >1,049</td>\n",
       "    </tr>\n",
       "    <tr>\n",
       "      <td id=\"T_0db15_row5_col0\" class=\"data row5 col0\" >Australia. Parliament. Joint Committee of Public Accounts</td>\n",
       "      <td id=\"T_0db15_row5_col1\" class=\"data row5 col1\" >820</td>\n",
       "    </tr>\n",
       "    <tr>\n",
       "      <td id=\"T_0db15_row6_col0\" class=\"data row6 col0\" >Australia. Parliament. issuing body</td>\n",
       "      <td id=\"T_0db15_row6_col1\" class=\"data row6 col1\" >787</td>\n",
       "    </tr>\n",
       "    <tr>\n",
       "      <td id=\"T_0db15_row7_col0\" class=\"data row7 col0\" >Australia</td>\n",
       "      <td id=\"T_0db15_row7_col1\" class=\"data row7 col1\" >417</td>\n",
       "    </tr>\n",
       "    <tr>\n",
       "      <td id=\"T_0db15_row8_col0\" class=\"data row8 col0\" >Australia. Parliament. Senate. Committee of Privileges</td>\n",
       "      <td id=\"T_0db15_row8_col1\" class=\"data row8 col1\" >388</td>\n",
       "    </tr>\n",
       "    <tr>\n",
       "      <td id=\"T_0db15_row9_col0\" class=\"data row9 col0\" >Australia. Parliament. Joint Standing Committee on Treaties</td>\n",
       "      <td id=\"T_0db15_row9_col1\" class=\"data row9 col1\" >341</td>\n",
       "    </tr>\n",
       "    <tr>\n",
       "      <td id=\"T_0db15_row10_col0\" class=\"data row10 col0\" >Australia. Parliament. House of Representatives, issuing body</td>\n",
       "      <td id=\"T_0db15_row10_col1\" class=\"data row10 col1\" >305</td>\n",
       "    </tr>\n",
       "    <tr>\n",
       "      <td id=\"T_0db15_row11_col0\" class=\"data row11 col0\" >Australia. Parliament,</td>\n",
       "      <td id=\"T_0db15_row11_col1\" class=\"data row11 col1\" >295</td>\n",
       "    </tr>\n",
       "    <tr>\n",
       "      <td id=\"T_0db15_row12_col0\" class=\"data row12 col0\" >Australia. Royal Commission into Aboriginal Deaths in Custody</td>\n",
       "      <td id=\"T_0db15_row12_col1\" class=\"data row12 col1\" >284</td>\n",
       "    </tr>\n",
       "    <tr>\n",
       "      <td id=\"T_0db15_row13_col0\" class=\"data row13 col0\" >Australia. Inter-State Commission</td>\n",
       "      <td id=\"T_0db15_row13_col1\" class=\"data row13 col1\" >276</td>\n",
       "    </tr>\n",
       "    <tr>\n",
       "      <td id=\"T_0db15_row14_col0\" class=\"data row14 col0\" >Australia. Special Advisory Authority</td>\n",
       "      <td id=\"T_0db15_row14_col1\" class=\"data row14 col1\" >240</td>\n",
       "    </tr>\n",
       "    <tr>\n",
       "      <td id=\"T_0db15_row15_col0\" class=\"data row15 col0\" >Australia. Inter-state Commission</td>\n",
       "      <td id=\"T_0db15_row15_col1\" class=\"data row15 col1\" >239</td>\n",
       "    </tr>\n",
       "    <tr>\n",
       "      <td id=\"T_0db15_row16_col0\" class=\"data row16 col0\" >Australia. Treasury</td>\n",
       "      <td id=\"T_0db15_row16_col1\" class=\"data row16 col1\" >233</td>\n",
       "    </tr>\n",
       "    <tr>\n",
       "      <td id=\"T_0db15_row17_col0\" class=\"data row17 col0\" >Australia. Parliament. Senate. Standing Committee on Regulations and Ordinances</td>\n",
       "      <td id=\"T_0db15_row17_col1\" class=\"data row17 col1\" >218</td>\n",
       "    </tr>\n",
       "    <tr>\n",
       "      <td id=\"T_0db15_row18_col0\" class=\"data row18 col0\" >Australia. Parliament. The Senate, issuing body</td>\n",
       "      <td id=\"T_0db15_row18_col1\" class=\"data row18 col1\" >212</td>\n",
       "    </tr>\n",
       "    <tr>\n",
       "      <td id=\"T_0db15_row19_col0\" class=\"data row19 col0\" >Australia. Office of the Aboriginal Land Commissioner</td>\n",
       "      <td id=\"T_0db15_row19_col1\" class=\"data row19 col1\" >206</td>\n",
       "    </tr>\n",
       "  </tbody>\n",
       "</table>\n"
      ],
      "text/plain": [
       "<pandas.io.formats.style.Styler at 0x7f430d20c550>"
      ]
     },
     "execution_count": 98,
     "metadata": {},
     "output_type": "execute_result"
    }
   ],
   "source": [
    "def clean_contributor(value):\n",
    "    if cleaned := re.search(r\"(.*?) [0-9]+ [0-9a-z\\-]+$\", str(value)):\n",
    "        return cleaned.group(1).strip(\".\")\n",
    "    else:\n",
    "        return str(value).strip(\".\")\n",
    "\n",
    "import re\n",
    "contributors = df[\"contributor\"].str.split(\"|\").explode().to_frame()\n",
    "contributors[\"cleaned\"] = contributors[\"contributor\"]\n",
    "contributors[\"cleaned\"] = contributors[\"contributor\"].apply(clean_contributor)\n",
    "contributors.dropna()[\"cleaned\"].value_counts().to_frame().reset_index()[:20].style.format(thousands=\",\").hide()"
   ]
  },
  {
   "cell_type": "code",
   "execution_count": 99,
   "id": "e554dd7e-658d-44e4-869b-d99aa7f37b13",
   "metadata": {},
   "outputs": [
    {
     "data": {
      "text/html": [
       "\n",
       "<style>\n",
       "  #altair-viz-800ec7586c234495ad3899f223a11d26.vega-embed {\n",
       "    width: 100%;\n",
       "    display: flex;\n",
       "  }\n",
       "\n",
       "  #altair-viz-800ec7586c234495ad3899f223a11d26.vega-embed details,\n",
       "  #altair-viz-800ec7586c234495ad3899f223a11d26.vega-embed details summary {\n",
       "    position: relative;\n",
       "  }\n",
       "</style>\n",
       "<div id=\"altair-viz-800ec7586c234495ad3899f223a11d26\"></div>\n",
       "<script type=\"text/javascript\">\n",
       "  var VEGA_DEBUG = (typeof VEGA_DEBUG == \"undefined\") ? {} : VEGA_DEBUG;\n",
       "  (function(spec, embedOpt){\n",
       "    let outputDiv = document.currentScript.previousElementSibling;\n",
       "    if (outputDiv.id !== \"altair-viz-800ec7586c234495ad3899f223a11d26\") {\n",
       "      outputDiv = document.getElementById(\"altair-viz-800ec7586c234495ad3899f223a11d26\");\n",
       "    }\n",
       "    const paths = {\n",
       "      \"vega\": \"https://cdn.jsdelivr.net/npm/vega@5?noext\",\n",
       "      \"vega-lib\": \"https://cdn.jsdelivr.net/npm/vega-lib?noext\",\n",
       "      \"vega-lite\": \"https://cdn.jsdelivr.net/npm/vega-lite@5.8.0?noext\",\n",
       "      \"vega-embed\": \"https://cdn.jsdelivr.net/npm/vega-embed@6?noext\",\n",
       "    };\n",
       "\n",
       "    function maybeLoadScript(lib, version) {\n",
       "      var key = `${lib.replace(\"-\", \"\")}_version`;\n",
       "      return (VEGA_DEBUG[key] == version) ?\n",
       "        Promise.resolve(paths[lib]) :\n",
       "        new Promise(function(resolve, reject) {\n",
       "          var s = document.createElement('script');\n",
       "          document.getElementsByTagName(\"head\")[0].appendChild(s);\n",
       "          s.async = true;\n",
       "          s.onload = () => {\n",
       "            VEGA_DEBUG[key] = version;\n",
       "            return resolve(paths[lib]);\n",
       "          };\n",
       "          s.onerror = () => reject(`Error loading script: ${paths[lib]}`);\n",
       "          s.src = paths[lib];\n",
       "        });\n",
       "    }\n",
       "\n",
       "    function showError(err) {\n",
       "      outputDiv.innerHTML = `<div class=\"error\" style=\"color:red;\">${err}</div>`;\n",
       "      throw err;\n",
       "    }\n",
       "\n",
       "    function displayChart(vegaEmbed) {\n",
       "      vegaEmbed(outputDiv, spec, embedOpt)\n",
       "        .catch(err => showError(`Javascript Error: ${err.message}<br>This usually means there's a typo in your chart specification. See the javascript console for the full traceback.`));\n",
       "    }\n",
       "\n",
       "    if(typeof define === \"function\" && define.amd) {\n",
       "      requirejs.config({paths});\n",
       "      require([\"vega-embed\"], displayChart, err => showError(`Error loading script: ${err.message}`));\n",
       "    } else {\n",
       "      maybeLoadScript(\"vega\", \"5\")\n",
       "        .then(() => maybeLoadScript(\"vega-lite\", \"5.8.0\"))\n",
       "        .then(() => maybeLoadScript(\"vega-embed\", \"6\"))\n",
       "        .catch(showError)\n",
       "        .then(() => displayChart(vegaEmbed));\n",
       "    }\n",
       "  })({\"config\": {\"view\": {\"continuousWidth\": 300, \"continuousHeight\": 300}}, \"data\": {\"name\": \"data-642b118b05e6711faca82b99423e6b05\"}, \"mark\": {\"type\": \"bar\"}, \"encoding\": {\"x\": {\"field\": \"year\", \"type\": \"temporal\"}, \"y\": {\"field\": \"count\", \"type\": \"quantitative\"}}, \"width\": \"container\", \"$schema\": \"https://vega.github.io/schema/vega-lite/v5.8.0.json\", \"datasets\": {\"data-642b118b05e6711faca82b99423e6b05\": [{\"year\": \"2002\", \"count\": 627}, {\"year\": \"2008\", \"count\": 582}, {\"year\": \"1992\", \"count\": 546}, {\"year\": \"1985\", \"count\": 510}, {\"year\": \"1989\", \"count\": 502}, {\"year\": \"1995\", \"count\": 499}, {\"year\": \"2005\", \"count\": 490}, {\"year\": \"2011\", \"count\": 489}, {\"year\": \"1991\", \"count\": 485}, {\"year\": \"1994\", \"count\": 485}, {\"year\": \"2000\", \"count\": 482}, {\"year\": \"2012\", \"count\": 479}, {\"year\": \"1997\", \"count\": 469}, {\"year\": \"1999\", \"count\": 463}, {\"year\": \"2009\", \"count\": 463}, {\"year\": \"1993\", \"count\": 457}, {\"year\": \"1982\", \"count\": 456}, {\"year\": \"1986\", \"count\": 451}, {\"year\": \"1990\", \"count\": 446}, {\"year\": \"1987\", \"count\": 445}, {\"year\": \"2006\", \"count\": 444}, {\"year\": \"2003\", \"count\": 442}, {\"year\": \"1996\", \"count\": 441}, {\"year\": \"2010\", \"count\": 437}, {\"year\": \"1978\", \"count\": 436}, {\"year\": \"1976\", \"count\": 419}, {\"year\": \"2004\", \"count\": 419}, {\"year\": \"1979\", \"count\": 417}, {\"year\": \"1988\", \"count\": 413}, {\"year\": \"1983\", \"count\": 408}, {\"year\": \"1998\", \"count\": 403}, {\"year\": \"1980\", \"count\": 402}, {\"year\": \"1981\", \"count\": 364}, {\"year\": \"1977\", \"count\": 358}, {\"year\": \"1974\", \"count\": 338}, {\"year\": \"1973\", \"count\": 334}, {\"year\": \"1984\", \"count\": 328}, {\"year\": \"1975\", \"count\": 299}, {\"year\": \"1972\", \"count\": 285}, {\"year\": \"1971\", \"count\": 284}, {\"year\": \"1970\", \"count\": 250}, {\"year\": \"1968\", \"count\": 246}, {\"year\": \"2001\", \"count\": 239}, {\"year\": \"2007\", \"count\": 214}, {\"year\": \"1967\", \"count\": 207}, {\"year\": \"1969\", \"count\": 204}, {\"year\": \"1915\", \"count\": 195}, {\"year\": \"1907\", \"count\": 168}, {\"year\": \"1962\", \"count\": 167}, {\"year\": \"1963\", \"count\": 150}, {\"year\": \"1930\", \"count\": 143}, {\"year\": \"1927\", \"count\": 142}, {\"year\": \"1931\", \"count\": 141}, {\"year\": \"1961\", \"count\": 136}, {\"year\": \"1935\", \"count\": 136}, {\"year\": \"1964\", \"count\": 133}, {\"year\": \"1939\", \"count\": 133}, {\"year\": \"1938\", \"count\": 128}, {\"year\": \"1965\", \"count\": 127}, {\"year\": \"1906\", \"count\": 127}, {\"year\": \"1937\", \"count\": 121}, {\"year\": \"1934\", \"count\": 120}, {\"year\": \"1966\", \"count\": 116}, {\"year\": \"1959\", \"count\": 115}, {\"year\": \"1916\", \"count\": 110}, {\"year\": \"1908\", \"count\": 108}, {\"year\": \"1960\", \"count\": 106}, {\"year\": \"1933\", \"count\": 105}, {\"year\": \"1918\", \"count\": 105}, {\"year\": \"1932\", \"count\": 104}, {\"year\": \"1953\", \"count\": 101}, {\"year\": \"1921\", \"count\": 95}, {\"year\": \"1905\", \"count\": 94}, {\"year\": \"1955\", \"count\": 94}, {\"year\": \"1924\", \"count\": 94}, {\"year\": \"1951\", \"count\": 93}, {\"year\": \"1914\", \"count\": 92}, {\"year\": \"1912\", \"count\": 89}, {\"year\": \"1920\", \"count\": 89}, {\"year\": \"1956\", \"count\": 88}, {\"year\": \"1929\", \"count\": 84}, {\"year\": \"1913\", \"count\": 81}, {\"year\": \"1909\", \"count\": 81}, {\"year\": \"1954\", \"count\": 80}, {\"year\": \"1910\", \"count\": 80}, {\"year\": \"1922\", \"count\": 80}, {\"year\": \"1936\", \"count\": 78}, {\"year\": \"1957\", \"count\": 77}, {\"year\": \"1926\", \"count\": 76}, {\"year\": \"1917\", \"count\": 76}, {\"year\": \"1925\", \"count\": 75}, {\"year\": \"1901\", \"count\": 75}, {\"year\": \"1911\", \"count\": 74}, {\"year\": \"1952\", \"count\": 73}, {\"year\": \"1904\", \"count\": 71}, {\"year\": \"1958\", \"count\": 68}, {\"year\": \"1903\", \"count\": 68}, {\"year\": \"1923\", \"count\": 64}, {\"year\": \"1949\", \"count\": 60}, {\"year\": \"1919\", \"count\": 58}, {\"year\": \"1948\", \"count\": 58}, {\"year\": \"1928\", \"count\": 57}, {\"year\": \"1940\", \"count\": 55}, {\"year\": \"1902\", \"count\": 54}, {\"year\": \"1946\", \"count\": 52}, {\"year\": \"1950\", \"count\": 51}, {\"year\": \"1941\", \"count\": 50}, {\"year\": \"1947\", \"count\": 50}, {\"year\": \"1945\", \"count\": 44}, {\"year\": \"1944\", \"count\": 40}, {\"year\": \"1942\", \"count\": 25}, {\"year\": \"1943\", \"count\": 18}, {\"year\": \"1892\", \"count\": 1}, {\"year\": \"1900\", \"count\": 1}, {\"year\": \"1898\", \"count\": 1}, {\"year\": \"1897\", \"count\": 1}, {\"year\": \"1896\", \"count\": 1}, {\"year\": \"1895\", \"count\": 1}, {\"year\": \"1894\", \"count\": 1}, {\"year\": \"1893\", \"count\": 1}, {\"year\": \"1888\", \"count\": 1}, {\"year\": \"1891\", \"count\": 1}, {\"year\": \"1890\", \"count\": 1}, {\"year\": \"1889\", \"count\": 1}, {\"year\": \"2016\", \"count\": 1}, {\"year\": \"2015\", \"count\": 1}, {\"year\": \"2014\", \"count\": 1}, {\"year\": \"2013\", \"count\": 1}, {\"year\": \"2019\", \"count\": 1}]}}, {\"mode\": \"vega-lite\"});\n",
       "</script>"
      ],
      "text/plain": [
       "alt.Chart(...)"
      ]
     },
     "execution_count": 99,
     "metadata": {},
     "output_type": "execute_result"
    }
   ],
   "source": [
    "import altair as alt\n",
    "\n",
    "df[\"year\"] = df[\"date\"].str.extract(r\"\\b(\\d{4})$\")\n",
    "years = df[\"year\"].value_counts().to_frame().reset_index()\n",
    "\n",
    "alt.Chart(years).mark_bar().encode(\n",
    "    x=\"year:T\",\n",
    "    y=\"count:Q\"\n",
    ").properties(width=\"container\")"
   ]
  },
  {
   "cell_type": "code",
   "execution_count": null,
   "id": "106a625b-5c33-425b-8633-ab14b92b9d6b",
   "metadata": {},
   "outputs": [],
   "source": []
  }
 ],
 "metadata": {
  "kernelspec": {
   "display_name": "Python 3 (ipykernel)",
   "language": "python",
   "name": "python3"
  },
  "language_info": {
   "codemirror_mode": {
    "name": "ipython",
    "version": 3
   },
   "file_extension": ".py",
   "mimetype": "text/x-python",
   "name": "python",
   "nbconvert_exporter": "python",
   "pygments_lexer": "ipython3",
   "version": "3.8.12"
  }
 },
 "nbformat": 4,
 "nbformat_minor": 5
}
