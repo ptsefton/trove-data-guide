{
 "cells": [
  {
   "cell_type": "markdown",
   "id": "421a5512-fcca-4ddc-93e2-8c1c4709c530",
   "metadata": {
    "editable": true,
    "slideshow": {
     "slide_type": ""
    },
    "tags": []
   },
   "source": [
    "# Parliamentary Papers\n",
    "\n",
    "The NLA has digitised a large collection of reports and papers presented to the Commonwealth Parliament. "
   ]
  },
  {
   "cell_type": "code",
   "execution_count": 1,
   "id": "c00c369c-a3a3-47a8-a715-ffe2540eaff9",
   "metadata": {
    "editable": true,
    "slideshow": {
     "slide_type": ""
    },
    "tags": [
     "remove-cell"
    ]
   },
   "outputs": [
    {
     "data": {
      "text/plain": [
       "True"
      ]
     },
     "execution_count": 1,
     "metadata": {},
     "output_type": "execute_result"
    }
   ],
   "source": [
    "import os\n",
    "import time\n",
    "\n",
    "import altair as alt\n",
    "import pandas as pd\n",
    "import requests\n",
    "from dotenv import load_dotenv\n",
    "from myst_nb import glue\n",
    "\n",
    "load_dotenv()"
   ]
  },
  {
   "cell_type": "code",
   "execution_count": 2,
   "id": "4efa431d-c1f1-4e94-922e-14289e161844",
   "metadata": {
    "editable": true,
    "slideshow": {
     "slide_type": ""
    },
    "tags": [
     "remove-cell"
    ]
   },
   "outputs": [],
   "source": [
    "YOUR_API_KEY = os.getenv(\"TROVE_API_KEY\")"
   ]
  },
  {
   "cell_type": "markdown",
   "id": "02cf919d-f99b-48b5-a145-1c862a732753",
   "metadata": {
    "editable": true,
    "slideshow": {
     "slide_type": ""
    },
    "tags": []
   },
   "source": [
    "## Finding Parliamentary Papers\n",
    "\n",
    "As documented in [](/understanding-search/finding-digitised-content), you can find NLA digitised resources by searching for `\"nla.obj\"` and selecting the 'Online' facet (if you're using the API set `l-availability` to `y`). To further limit the results to Parliamentary Papers there are a couple of possibilities:\n",
    "\n",
    "- Use the 'Format' facet to select `Government publication` (in the API set `l-format` to `Government publication` – this will return many Parliamentary Papers, but it will also include other digitised resources (such as maps) that have been created by government agencies.\n",
    "- Add `series:\"Parliamentary paper (Australia. Parliament)` to your search query – this searches the `isPartOf` field and seems to return more Parliamentary Papers and much less noise.\n",
    "\n",
    "Using the latter method, you can find the total number of work-level records describing digitised Parliamentary Papers in Trove."
   ]
  },
  {
   "cell_type": "code",
   "execution_count": 27,
   "id": "40f209ab-44e4-4763-b6e8-242cb84fe75e",
   "metadata": {
    "editable": true,
    "slideshow": {
     "slide_type": ""
    },
    "tags": [
     "hide-input"
    ]
   },
   "outputs": [
    {
     "name": "stdout",
     "output_type": "stream",
     "text": [
      "There are 229,410 work records!\n"
     ]
    }
   ],
   "source": [
    "params = {\n",
    "    \"q\": '\"nla.obj\" series:\"Parliamentary paper (Australia. Parliament)\"',\n",
    "    \"category\": \"all\", # Get results from all categories\n",
    "    \"l-availability\": \"y\",\n",
    "    \"encoding\": \"json\",\n",
    "    \"n\": 0,\n",
    "    \"bulkHarvest\": \"true\" # This will combine the results from all categories\n",
    "}\n",
    "\n",
    "headers = {\"X-API-KEY\": YOUR_API_KEY}\n",
    "\n",
    "response = requests.get(\n",
    "    \"https://api.trove.nla.gov.au/v3/result\", params=params, headers=headers\n",
    ")\n",
    "data = response.json()\n",
    "\n",
    "print(f'There are {data[\"category\"][0][\"records\"][\"total\"]:,} work records!')"
   ]
  },
  {
   "cell_type": "markdown",
   "id": "6abf2a66-b4d2-492f-945b-a46d3bffd978",
   "metadata": {
    "editable": true,
    "slideshow": {
     "slide_type": ""
    },
    "tags": []
   },
   "source": [
    "That's a lot of records! But before you take that number at face value, it's worth examining how those records are distributed across categories and formats.\n",
    "\n",
    "Here's the number of records in each category. Remember that records can be duplicated across categories, so if you add up the category totals it'll be more than the total number calculated above."
   ]
  },
  {
   "cell_type": "code",
   "execution_count": 23,
   "id": "5c40b90e-62dd-433e-a76e-9f7b40b700c0",
   "metadata": {
    "editable": true,
    "slideshow": {
     "slide_type": ""
    },
    "tags": [
     "hide-input"
    ]
   },
   "outputs": [
    {
     "data": {
      "text/html": [
       "<style type=\"text/css\">\n",
       "</style>\n",
       "<table id=\"T_1ee57\">\n",
       "  <thead>\n",
       "    <tr>\n",
       "      <th id=\"T_1ee57_level0_col0\" class=\"col_heading level0 col0\" >category</th>\n",
       "      <th id=\"T_1ee57_level0_col1\" class=\"col_heading level0 col1\" >total</th>\n",
       "    </tr>\n",
       "  </thead>\n",
       "  <tbody>\n",
       "    <tr>\n",
       "      <td id=\"T_1ee57_row0_col0\" class=\"data row0 col0\" >book</td>\n",
       "      <td id=\"T_1ee57_row0_col1\" class=\"data row0 col1\" >13,667</td>\n",
       "    </tr>\n",
       "    <tr>\n",
       "      <td id=\"T_1ee57_row1_col0\" class=\"data row1 col0\" >diary</td>\n",
       "      <td id=\"T_1ee57_row1_col1\" class=\"data row1 col1\" >15</td>\n",
       "    </tr>\n",
       "    <tr>\n",
       "      <td id=\"T_1ee57_row2_col0\" class=\"data row2 col0\" >image</td>\n",
       "      <td id=\"T_1ee57_row2_col1\" class=\"data row2 col1\" >12</td>\n",
       "    </tr>\n",
       "    <tr>\n",
       "      <td id=\"T_1ee57_row3_col0\" class=\"data row3 col0\" >list</td>\n",
       "      <td id=\"T_1ee57_row3_col1\" class=\"data row3 col1\" >0</td>\n",
       "    </tr>\n",
       "    <tr>\n",
       "      <td id=\"T_1ee57_row4_col0\" class=\"data row4 col0\" >magazine</td>\n",
       "      <td id=\"T_1ee57_row4_col1\" class=\"data row4 col1\" >206,382</td>\n",
       "    </tr>\n",
       "    <tr>\n",
       "      <td id=\"T_1ee57_row5_col0\" class=\"data row5 col0\" >music</td>\n",
       "      <td id=\"T_1ee57_row5_col1\" class=\"data row5 col1\" >7</td>\n",
       "    </tr>\n",
       "    <tr>\n",
       "      <td id=\"T_1ee57_row6_col0\" class=\"data row6 col0\" >newspaper</td>\n",
       "      <td id=\"T_1ee57_row6_col1\" class=\"data row6 col1\" >0</td>\n",
       "    </tr>\n",
       "    <tr>\n",
       "      <td id=\"T_1ee57_row7_col0\" class=\"data row7 col0\" >people</td>\n",
       "      <td id=\"T_1ee57_row7_col1\" class=\"data row7 col1\" >0</td>\n",
       "    </tr>\n",
       "    <tr>\n",
       "      <td id=\"T_1ee57_row8_col0\" class=\"data row8 col0\" >research</td>\n",
       "      <td id=\"T_1ee57_row8_col1\" class=\"data row8 col1\" >189,206</td>\n",
       "    </tr>\n",
       "  </tbody>\n",
       "</table>\n"
      ],
      "text/plain": [
       "<pandas.io.formats.style.Styler at 0x7f431eaeb100>"
      ]
     },
     "execution_count": 23,
     "metadata": {},
     "output_type": "execute_result"
    }
   ],
   "source": [
    "params = {\n",
    "    \"q\": '\"nla.obj\" series:\"Parliamentary paper (Australia. Parliament)\"',\n",
    "    \"category\": \"all\",\n",
    "    \"l-availability\": \"y\",\n",
    "    \"encoding\": \"json\",\n",
    "    \"n\": 0\n",
    "}\n",
    "\n",
    "headers = {\"X-API-KEY\": YOUR_API_KEY}\n",
    "\n",
    "response = requests.get(\n",
    "    \"https://api.trove.nla.gov.au/v3/result\", params=params, headers=headers\n",
    ")\n",
    "data = response.json()\n",
    "\n",
    "totals = [{\"category\": c[\"code\"], \"total\": c[\"records\"][\"total\"]} for c in data[\"category\"]]\n",
    "pd.DataFrame(totals).style.format(thousands=\",\").hide()"
   ]
  },
  {
   "cell_type": "markdown",
   "id": "2c0a37ed-eca4-4cf0-b837-62b8c758a2c0",
   "metadata": {
    "editable": true,
    "slideshow": {
     "slide_type": ""
    },
    "tags": []
   },
   "source": [
    "And here's the number of records by format. Remember that digitised resources can be [merged with other versions into works](what-is-trove/works-and-versions), resulting in an odd mix of formats."
   ]
  },
  {
   "cell_type": "code",
   "execution_count": 22,
   "id": "892103fb-d1a4-4c5b-993d-aaa834c157fe",
   "metadata": {
    "editable": true,
    "slideshow": {
     "slide_type": ""
    },
    "tags": [
     "hide-input"
    ]
   },
   "outputs": [
    {
     "data": {
      "text/html": [
       "<style type=\"text/css\">\n",
       "</style>\n",
       "<table id=\"T_9ab78\">\n",
       "  <thead>\n",
       "    <tr>\n",
       "      <th id=\"T_9ab78_level0_col0\" class=\"col_heading level0 col0\" >format</th>\n",
       "      <th id=\"T_9ab78_level0_col1\" class=\"col_heading level0 col1\" >total</th>\n",
       "    </tr>\n",
       "  </thead>\n",
       "  <tbody>\n",
       "    <tr>\n",
       "      <td id=\"T_9ab78_row0_col0\" class=\"data row0 col0\" >Article</td>\n",
       "      <td id=\"T_9ab78_row0_col1\" class=\"data row0 col1\" >217,655</td>\n",
       "    </tr>\n",
       "    <tr>\n",
       "      <td id=\"T_9ab78_row1_col0\" class=\"data row1 col0\" >Book</td>\n",
       "      <td id=\"T_9ab78_row1_col1\" class=\"data row1 col1\" >13,146</td>\n",
       "    </tr>\n",
       "    <tr>\n",
       "      <td id=\"T_9ab78_row2_col0\" class=\"data row2 col0\" >Government publication</td>\n",
       "      <td id=\"T_9ab78_row2_col1\" class=\"data row2 col1\" >11,350</td>\n",
       "    </tr>\n",
       "    <tr>\n",
       "      <td id=\"T_9ab78_row3_col0\" class=\"data row3 col0\" >Periodical</td>\n",
       "      <td id=\"T_9ab78_row3_col1\" class=\"data row3 col1\" >606</td>\n",
       "    </tr>\n",
       "    <tr>\n",
       "      <td id=\"T_9ab78_row4_col0\" class=\"data row4 col0\" >Microform</td>\n",
       "      <td id=\"T_9ab78_row4_col1\" class=\"data row4 col1\" >102</td>\n",
       "    </tr>\n",
       "    <tr>\n",
       "      <td id=\"T_9ab78_row5_col0\" class=\"data row5 col0\" >Conference Proceedings</td>\n",
       "      <td id=\"T_9ab78_row5_col1\" class=\"data row5 col1\" >73</td>\n",
       "    </tr>\n",
       "    <tr>\n",
       "      <td id=\"T_9ab78_row6_col0\" class=\"data row6 col0\" >Archived website</td>\n",
       "      <td id=\"T_9ab78_row6_col1\" class=\"data row6 col1\" >60</td>\n",
       "    </tr>\n",
       "    <tr>\n",
       "      <td id=\"T_9ab78_row7_col0\" class=\"data row7 col0\" >Published</td>\n",
       "      <td id=\"T_9ab78_row7_col1\" class=\"data row7 col1\" >12</td>\n",
       "    </tr>\n",
       "    <tr>\n",
       "      <td id=\"T_9ab78_row8_col0\" class=\"data row8 col0\" >Map</td>\n",
       "      <td id=\"T_9ab78_row8_col1\" class=\"data row8 col1\" >11</td>\n",
       "    </tr>\n",
       "    <tr>\n",
       "      <td id=\"T_9ab78_row9_col0\" class=\"data row9 col0\" >Audio book</td>\n",
       "      <td id=\"T_9ab78_row9_col1\" class=\"data row9 col1\" >6</td>\n",
       "    </tr>\n",
       "    <tr>\n",
       "      <td id=\"T_9ab78_row10_col0\" class=\"data row10 col0\" >Thesis</td>\n",
       "      <td id=\"T_9ab78_row10_col1\" class=\"data row10 col1\" >6</td>\n",
       "    </tr>\n",
       "    <tr>\n",
       "      <td id=\"T_9ab78_row11_col0\" class=\"data row11 col0\" >Unpublished</td>\n",
       "      <td id=\"T_9ab78_row11_col1\" class=\"data row11 col1\" >3</td>\n",
       "    </tr>\n",
       "    <tr>\n",
       "      <td id=\"T_9ab78_row12_col0\" class=\"data row12 col0\" >Object</td>\n",
       "      <td id=\"T_9ab78_row12_col1\" class=\"data row12 col1\" >1</td>\n",
       "    </tr>\n",
       "    <tr>\n",
       "      <td id=\"T_9ab78_row13_col0\" class=\"data row13 col0\" >Sound</td>\n",
       "      <td id=\"T_9ab78_row13_col1\" class=\"data row13 col1\" >1</td>\n",
       "    </tr>\n",
       "  </tbody>\n",
       "</table>\n"
      ],
      "text/plain": [
       "<pandas.io.formats.style.Styler at 0x7f431edcef40>"
      ]
     },
     "execution_count": 22,
     "metadata": {},
     "output_type": "execute_result"
    }
   ],
   "source": [
    "params = {\n",
    "    \"q\": '\"nla.obj\" series:\"Parliamentary paper (Australia. Parliament)\"',\n",
    "    \"category\": \"all\",\n",
    "    \"l-availability\": \"y\",\n",
    "    \"encoding\": \"json\",\n",
    "    \"n\": 0,\n",
    "    \"facet\": \"format\",\n",
    "    \"bulkHarvest\": \"true\"\n",
    "}\n",
    "\n",
    "headers = {\"X-API-KEY\": YOUR_API_KEY}\n",
    "\n",
    "response = requests.get(\n",
    "    \"https://api.trove.nla.gov.au/v3/result\", params=params, headers=headers\n",
    ")\n",
    "data = response.json()\n",
    "\n",
    "facets = [{\"format\": f[\"search\"], \"total\": f[\"count\"]} for f in data[\"category\"][0][\"facets\"][\"facet\"][0][\"term\"]]\n",
    "\n",
    "pd.DataFrame(facets).style.format(thousands=\",\").hide()"
   ]
  },
  {
   "cell_type": "markdown",
   "id": "60440131-ea6c-4b42-9fbc-2886807eccab",
   "metadata": {
    "editable": true,
    "slideshow": {
     "slide_type": ""
    },
    "tags": []
   },
   "source": [
    "From the tables above, it seems that most of the records relating to Parliamentary Papers describe resources in `Article` format and can be found in the **Magazines & Newsletters** category. It also looks like many of these records are duplicated in **Research & Reports**.\n",
    "\n",
    "This seems a bit odd. Why would Parliamentary Papers be described as 'articles'? If you look at the results in the **Magazines & Newsletters** category, you'll see that the records describe *sections* of Parliamentary Papers, not complete publications. In other words, **the Parliamentary Papers are being treated like issues of a periodical** – the contents of each paper is being split up into sections, and a record is being created for each individual section.\n",
    "\n",
    "This generates some odd 'articles', like contents pages and appendices. When combined with the grouping of versions into works, it can also have some unfortunate consequences. For example, [here's a record](https://trove.nla.gov.au/work/237938382) where the 'Table of contents' sections of different Parliamentary Papers have been grouped as a single work. \n",
    "\n",
    "It also explains why there are so many records! The total number of Parliamentary Papers will be considerably less than the total number of work-level records.\n",
    "\n",
    "How then do we limit the search to only show complete Parliamentary Papers and exclude the 'articles'? I don't think you can. If you add `NOT format:Article` to your search you'll exclude reports with the format `Article/Report`, and probably lose other publications that are grouped with `Article` records. You could just ignore the **Magazines & Newsletters** category, but many of the 'articles' are also in **Research & Reports** where they're mixed with other publication formats. There's no way to drop the 'articles' without losing other, more relevant, records.\n",
    "\n",
    "To create a dataset that only contains details of complete Parliamentary Papers, you need to harvest metadata from the search above, and then inspect the details of each record to exclude the ones you don't want. This is further complicated by the different ways Parliamentary Papers are grouped and described in Trove."
   ]
  },
  {
   "cell_type": "markdown",
   "id": "86af388a-5e95-41af-aec4-ccb2137d2f56",
   "metadata": {
    "editable": true,
    "slideshow": {
     "slide_type": ""
    },
    "tags": []
   },
   "source": [
    "## Grouping and describing Parliamentary Papers\n",
    "\n",
    "The way digitised Parliamentary Papers are grouped and described in Trove is inconsistent and sometimes confusing.\n",
    "\n",
    "As noted above, individual Parliamentary Papers are often treated as issues of a periodical. But not always. Sometimes they are described as standalone works. This [report by the Australian Science and Technology Council on 'Marine sciences and technologies in Australia'](https://trove.nla.gov.au/work/9710970?) is treated like a book, and is linked to a single digitised resource. It might have been grouped with a [follow-up report from the next year](https://trove.nla.gov.au/work/9988298), but it doesn't really matter as they're both easily discoverable.\n",
    "\n",
    "[](/what-is-trove/collections) outlines the different ways Trove tries to represent collections of resources. Where Parliamentary Papers are grouped together as 'issues', they're generally created as collections within the digitised item viewer. For example, the work record for [Report of the Senate Select Committee on Superannuation](https://trove.nla.gov.au/work/22095680) links to a page with a **Browse this collection** button. Clicking on the button displays details of 28 different reports published between 1992 and 2001.\n",
    "\n",
    "In this case, both the collection and the individual reports within it have their own separate work records. So the digitised version of the 1993 report on the *Super Complaints Tribunal* can be accessed directly from [this work record](https://trove.nla.gov.au/work/237349942), or by using the **Browse this collection** page.\n",
    "\n",
    "However, there are other examples where there are only work records for the collection, not the individual reports. This means you can only find and access the reports from the collection page, or in disaggregated form as separate articles.\n",
    "\n",
    "All of this means that search results in the Parliamentary Papers are a mix of different types of things – collections, publications, and articles – and it can be difficult to figure out what it is that you're actually searching.\n",
    "\n",
    "The quality of the metadata also varies. The report on the *Super Complaints Tribunal*, for example, actually has the title 'PP no. 388 of 1993, Report no. 10', and so won't be returned by a title search for 'super complaints tribunal'. Added to that, there are a large number of duplicate records. \n",
    "\n",
    "## Research implications\n",
    "\n",
    "Search - can't assume everything will be in results, drill down through collections\n",
    "\n",
    "API \n"
   ]
  },
  {
   "cell_type": "markdown",
   "id": "61e10ecb-8d6c-407a-b999-00f46f131c3a",
   "metadata": {
    "editable": true,
    "slideshow": {
     "slide_type": ""
    },
    "tags": []
   },
   "source": [
    "## Overview of Parliamentary Papers\n",
    "\n",
    "Using harvested dataset -- visualise by year etc."
   ]
  },
  {
   "cell_type": "markdown",
   "id": "971fdef6-2ee8-4898-ae22-c01bf44fbe6b",
   "metadata": {
    "editable": true,
    "slideshow": {
     "slide_type": ""
    },
    "tags": []
   },
   "source": [
    "## Problems\n",
    "\n",
    "\n",
    "Reports grouped as collections\n",
    "\n",
    "Duplicates\n",
    "\n",
    "Records for articles not issues\n",
    "\n",
    "Lots of articles from reports -- hard to exclude, 'Report' is a child of 'Article'\n",
    "\n",
    "- most records 'Article'\n",
    "- most articles in both research and magazine\n",
    "\n",
    "Are the entries that point to sections only in magazine?\n",
    "\n",
    "----\n",
    "\n",
    "Individual publications -- eg: https://trove.nla.gov.au/work/9988298 (format Article, Government publication), similar report not grouped into collection https://trove.nla.gov.au/work/9710970; https://trove.nla.gov.au/work/10010110\n",
    "\n",
    "Versions of works: https://api.trove.nla.gov.au/v3/work/11860613?encoding=json&include=workversions,links\n",
    "\n",
    "Collections (ie of annual reports over time)\n",
    "\n",
    "- some have work records for individual parts eg: collection - https://trove.nla.gov.au/work/22095680 and part - https://trove.nla.gov.au/work/237581960 and duplicate of part - https://trove.nla.gov.au/work/10005796\n",
    "- some don't have individual records eg: https://trove.nla.gov.au/work/10055730\n",
    "\n",
    "Sections of individual reports (or issues), treated like journal articles, can look like issues\n",
    "\n",
    "Difficult to distinguish between these and find way to full digitised publication. GW approach -- testing for pages, testing for text."
   ]
  },
  {
   "cell_type": "markdown",
   "id": "ae318f3d-dd96-4299-98d6-074ca24478a7",
   "metadata": {
    "editable": true,
    "slideshow": {
     "slide_type": ""
    },
    "tags": []
   },
   "source": [
    "Use harvested data set."
   ]
  },
  {
   "cell_type": "code",
   "execution_count": null,
   "id": "f3759c54-f0e9-45f1-a5bc-bff61eb97a58",
   "metadata": {
    "editable": true,
    "slideshow": {
     "slide_type": ""
    },
    "tags": []
   },
   "outputs": [],
   "source": []
  }
 ],
 "metadata": {
  "kernelspec": {
   "display_name": "Python 3 (ipykernel)",
   "language": "python",
   "name": "python3"
  },
  "language_info": {
   "codemirror_mode": {
    "name": "ipython",
    "version": 3
   },
   "file_extension": ".py",
   "mimetype": "text/x-python",
   "name": "python",
   "nbconvert_exporter": "python",
   "pygments_lexer": "ipython3",
   "version": "3.8.12"
  }
 },
 "nbformat": 4,
 "nbformat_minor": 5
}
