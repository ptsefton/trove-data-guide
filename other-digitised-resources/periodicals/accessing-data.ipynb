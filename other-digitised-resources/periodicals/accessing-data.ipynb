{
 "cells": [
  {
   "cell_type": "markdown",
   "id": "d91ee1c2-bef4-4614-a542-751e64b4a51d",
   "metadata": {
    "editable": true,
    "slideshow": {
     "slide_type": ""
    },
    "tags": []
   },
   "source": [
    "# Accessing data from periodicals"
   ]
  },
  {
   "cell_type": "markdown",
   "id": "94c8bfb9-b107-4d33-b614-47e9045781b2",
   "metadata": {},
   "source": [
    "## Articles\n",
    "\n",
    "### Metadata\n",
    "\n",
    "`/search` in `magazine` category and `/work` endpoints \n",
    "\n",
    "\n",
    "`bibliographicCitation` in article records has structured publication metadata\n",
    "\n",
    "Advertisements on multiple pages in an issue grouped as a single work record for discovery: https://trove.nla.gov.au/work/232859472?keyword=fullTextInd%3Ay\n",
    "\n",
    "Can access as separate versions via the API: https://troveconsole.herokuapp.com/v3/?url=https%3A%2F%2Fapi.trove.nla.gov.au%2Fv3%2Fwork%2F232859472%3Fencoding%3Djson%26include%3Dall&comment=\n",
    "\n",
    "### Text\n",
    "\n",
    "Via API\n",
    "\n",
    "### Images and PDFs\n",
    "\n",
    "Page images"
   ]
  },
  {
   "cell_type": "markdown",
   "id": "4ec53928-bf9f-4483-ba0c-115dfda61ec4",
   "metadata": {},
   "source": [
    "## Issues\n",
    "\n",
    "### Metadata\n",
    "\n",
    "API provides `/magazine/titles` and `/magazine/title/[ID]` endpoints \n",
    "\n",
    "Been prodding the new `/magazine/title` endpoint that was added to #Trove API v3. It provides details on periodical titles and issues (other than newspapers). So it's very useful, but also very not...\n",
    "\n",
    "Of the 2,504 titles, 1,538 point to sets of parliamentary papers. I suppose annual reports count as periodicals, but it would be good to be able to separate them out. In any case I've already got a full harvest of PPs.\n",
    "\n",
    "Of the 966 left, 114 have no issues. That seems to be either because they're actually issues rather than titles, or they're just brokened. \n",
    "\n",
    "Another 124 titles have incomplete lists of issues, either because some of the issues have no date, or they're just brokened.\n",
    "\n",
    "So as with just about everything involving Trove data, I'll have to develop a series of workarounds to deal with the problems and inconsistences. This is my life now. #TroveDataGuide #GLAM #digitalHumanities\n",
    "\n",
    "#### Format `periodical` and \"nla.obj\"\n",
    "\n",
    "There are 2,500 titles in the title endpoint, but only about 1,000 when you search for `\"nla.obj\"` & `l-format=periodical`. Is there any way to reconcile? Is it because of PP?\n",
    "\n",
    "Check by getting ids from title endpoint, then extracting embedded metadata? Will that help?\n",
    "\n",
    "Get lists of nla.obj ids from both methods and compare -- see what the difference is.\n",
    "\n",
    "#### `/magazine/titles`\n",
    "\n",
    "- paginated using `limit` and `offset`\n",
    "\n",
    "Example record:\n",
    "\n",
    "``` json\n",
    "{\n",
    "    \"id\": \"nla.obj-8423556\",\n",
    "    \"title\": \"\\\"Coo-ee!\\\" : the journal of the Bishops Knoll Hospital, Bristol.\",\n",
    "    \"publisher\": \"Partridge & Love Ltd.\",\n",
    "    \"troveUrl\": \"https://nla.gov.au/nla.obj-8423556\",\n",
    "    \"startDate\": \"1916-01-01\",\n",
    "    \"endDate\": \"1917-10-20\"\n",
    "}\n",
    "```\n",
    "\n",
    "#### `/magazine/title/[ID]`\n",
    "\n",
    "- [ID] can either be a nla.obj id or a numeric work id (however the work ids aren't in the returned records)\n",
    "- Get a list of issues by using `include=years` and `range=YYYYMMDD-YYYYMMDD`\n",
    "- issues returned grouped by year\n",
    "\n",
    "Example issue:\n",
    "\n",
    "``` json\n",
    "{\n",
    "    \"id\": \"nla.obj-8447243\",\n",
    "    \"date\": \"1916-11-10\",\n",
    "    \"url\": \"https://nla.gov.au/nla.obj-8447243\"\n",
    "},\n",
    "\n",
    "Issue id"
   ]
  },
  {
   "cell_type": "code",
   "execution_count": null,
   "id": "07a13cd7-e85e-40b6-b593-673b0b33854b",
   "metadata": {},
   "outputs": [],
   "source": []
  }
 ],
 "metadata": {
  "kernelspec": {
   "display_name": "Python 3 (ipykernel)",
   "language": "python",
   "name": "python3"
  },
  "language_info": {
   "codemirror_mode": {
    "name": "ipython",
    "version": 3
   },
   "file_extension": ".py",
   "mimetype": "text/x-python",
   "name": "python",
   "nbconvert_exporter": "python",
   "pygments_lexer": "ipython3",
   "version": "3.8.12"
  }
 },
 "nbformat": 4,
 "nbformat_minor": 5
}
