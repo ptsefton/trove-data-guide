{
 "cells": [
  {
   "cell_type": "markdown",
   "id": "cef5bf33-6f7d-42bd-97bc-e5f9069b99b6",
   "metadata": {},
   "source": [
    "# Use the bulk export option to save the results of a search"
   ]
  },
  {
   "cell_type": "markdown",
   "id": "ced83907-4b6a-4c58-906f-f596098099e3",
   "metadata": {},
   "source": [
    "```{attention}\n",
    "This guide is currently under development. For more information and discussion see [the list of issues](https://github.com/wragge/trove-data-guide/issues) on GitHub. Comments are welcome.\n",
    "```"
   ]
  },
  {
   "cell_type": "markdown",
   "id": "b7ed05d6-f318-4243-9aba-841a6ebe6768",
   "metadata": {},
   "source": [
    "<mark>==Include more info once official documentation is available==</mark>\n",
    "\n",
    "<mark>==Note that there are some differences in fields from the API==</mark>\n",
    "\n",
    "- metadata only (no fulltext or versions), 1 million article limit\n",
    "- different fields to API? Perhaps generated from internal API rather than public one? How to reconcile?"
   ]
  },
  {
   "cell_type": "code",
   "execution_count": null,
   "id": "dacd177c-17d5-40ce-a81b-c9258bbd1579",
   "metadata": {},
   "outputs": [],
   "source": []
  }
 ],
 "metadata": {
  "kernelspec": {
   "display_name": "Python 3 (ipykernel)",
   "language": "python",
   "name": "python3"
  },
  "language_info": {
   "codemirror_mode": {
    "name": "ipython",
    "version": 3
   },
   "file_extension": ".py",
   "mimetype": "text/x-python",
   "name": "python",
   "nbconvert_exporter": "python",
   "pygments_lexer": "ipython3",
   "version": "3.8.12"
  }
 },
 "nbformat": 4,
 "nbformat_minor": 5
}
