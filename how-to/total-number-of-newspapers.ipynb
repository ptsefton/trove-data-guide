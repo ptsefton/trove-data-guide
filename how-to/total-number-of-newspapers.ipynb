{
 "cells": [
  {
   "cell_type": "markdown",
   "id": "c6b767b5-0620-429a-ba08-5f910fe3ed77",
   "metadata": {
    "editable": true,
    "slideshow": {
     "slide_type": ""
    },
    "tags": []
   },
   "source": [
    "# Get the total number of newspapers and gazettes"
   ]
  },
  {
   "cell_type": "code",
   "execution_count": 2,
   "id": "c810d32d-1610-40d1-825e-2800a17ca2f8",
   "metadata": {
    "editable": true,
    "slideshow": {
     "slide_type": ""
    },
    "tags": []
   },
   "outputs": [],
   "source": [
    "import requests"
   ]
  },
  {
   "cell_type": "code",
   "execution_count": 5,
   "id": "c6e84b5d-6ae9-4183-acc0-f21cf67dbd10",
   "metadata": {
    "editable": true,
    "slideshow": {
     "slide_type": ""
    },
    "tags": [
     "remove-cell"
    ]
   },
   "outputs": [],
   "source": [
    "import os\n",
    "from dotenv import load_dotenv\n",
    "from myst_nb import glue\n",
    "\n",
    "load_dotenv()\n",
    "YOUR_API_KEY = os.getenv(\"TROVE_API_KEY\")"
   ]
  },
  {
   "cell_type": "code",
   "execution_count": 7,
   "id": "7792ee01-8554-460e-83df-4d49d8101374",
   "metadata": {
    "editable": true,
    "slideshow": {
     "slide_type": ""
    },
    "tags": []
   },
   "outputs": [
    {
     "name": "stdout",
     "output_type": "stream",
     "text": [
      "1805\n"
     ]
    }
   ],
   "source": [
    "# Set encoding parameter to JSON\n",
    "params = {\"encoding\": \"json\"}\n",
    "# Supply API key using headers\n",
    "headers = {\"X-API-KEY\": YOUR_API_KEY}\n",
    "\n",
    "# Make the request\n",
    "response = requests.get(\n",
    "    \"https://api.trove.nla.gov.au/v3/newspaper/titles\", params=params, headers=headers\n",
    ")\n",
    "# Get the JSON data from the response\n",
    "newspaper_data = response.json()\n",
    "\n",
    "newspapers_total = newspaper_data[\"total\"]\n",
    "print(newspapers_total)"
   ]
  },
  {
   "cell_type": "code",
   "execution_count": 6,
   "id": "7f3e3d4b-e54d-441b-b150-ca6ada495ae0",
   "metadata": {
    "editable": true,
    "slideshow": {
     "slide_type": ""
    },
    "tags": [
     "remove-cell"
    ]
   },
   "outputs": [
    {
     "data": {
      "text/plain": [
       "1805"
      ]
     },
     "metadata": {
      "scrapbook": {
       "mime_prefix": "",
       "name": "newspapers_total"
      }
     },
     "output_type": "display_data"
    }
   ],
   "source": [
    "glue('newspapers_total', newspapers_total)\n"
   ]
  },
  {
   "cell_type": "markdown",
   "id": "2bb49cf7-6c94-4866-99a6-d3d59c3e8006",
   "metadata": {
    "editable": true,
    "slideshow": {
     "slide_type": ""
    },
    "tags": []
   },
   "source": [
    "The `newspaper/titles` endpoint tells us that there are {glue:}`newspapers_total` titles, but, due to a bug, this includes gazette titles as well. To find the number of newspapers we'll have to subtract the number of gazettes from {glue:}`newspapers_total`."
   ]
  },
  {
   "cell_type": "code",
   "execution_count": 8,
   "id": "6c6f8027-fb1b-4851-ad97-1fe4a6bcf835",
   "metadata": {
    "editable": true,
    "slideshow": {
     "slide_type": ""
    },
    "tags": []
   },
   "outputs": [
    {
     "name": "stdout",
     "output_type": "stream",
     "text": [
      "38\n"
     ]
    }
   ],
   "source": [
    "# Make the request\n",
    "response = requests.get(\n",
    "    \"https://api.trove.nla.gov.au/v3/gazette/titles\", params=params, headers=headers\n",
    ")\n",
    "# Get the JSON data from the response\n",
    "gazette_data = response.json()\n",
    "\n",
    "gazettes_total = gazette_data[\"total\"]\n",
    "print(gazettes_total)"
   ]
  },
  {
   "cell_type": "code",
   "execution_count": 9,
   "id": "aaac3d79-46f5-4703-a316-5450a969b0f1",
   "metadata": {
    "editable": true,
    "slideshow": {
     "slide_type": ""
    },
    "tags": []
   },
   "outputs": [
    {
     "data": {
      "text/plain": [
       "1767"
      ]
     },
     "execution_count": 9,
     "metadata": {},
     "output_type": "execute_result"
    }
   ],
   "source": [
    "newspapers_total - gazettes_total"
   ]
  },
  {
   "cell_type": "code",
   "execution_count": null,
   "id": "725bb2c2-2daa-43ea-83bd-46913f39b6b0",
   "metadata": {
    "editable": true,
    "slideshow": {
     "slide_type": ""
    },
    "tags": []
   },
   "outputs": [],
   "source": []
  }
 ],
 "metadata": {
  "kernelspec": {
   "display_name": "Python 3 (ipykernel)",
   "language": "python",
   "name": "python3"
  },
  "language_info": {
   "codemirror_mode": {
    "name": "ipython",
    "version": 3
   },
   "file_extension": ".py",
   "mimetype": "text/x-python",
   "name": "python",
   "nbconvert_exporter": "python",
   "pygments_lexer": "ipython3",
   "version": "3.8.12"
  }
 },
 "nbformat": 4,
 "nbformat_minor": 5
}
