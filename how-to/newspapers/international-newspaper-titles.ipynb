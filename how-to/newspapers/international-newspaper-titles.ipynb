{
 "cells": [
  {
   "cell_type": "markdown",
   "id": "6c8bcb2d-1611-49f1-88ef-afbaef38dedf",
   "metadata": {
    "editable": true,
    "slideshow": {
     "slide_type": ""
    },
    "tags": []
   },
   "source": [
    "# Get a list of 'International' newspapers and gazettes"
   ]
  },
  {
   "cell_type": "code",
   "execution_count": 1,
   "id": "12522ffc-b1d2-4615-8479-27594dc4205b",
   "metadata": {
    "editable": true,
    "slideshow": {
     "slide_type": ""
    },
    "tags": []
   },
   "outputs": [],
   "source": [
    "import requests"
   ]
  },
  {
   "cell_type": "code",
   "execution_count": 7,
   "id": "c6e84b5d-6ae9-4183-acc0-f21cf67dbd10",
   "metadata": {
    "editable": true,
    "slideshow": {
     "slide_type": ""
    },
    "tags": [
     "remove-cell"
    ]
   },
   "outputs": [],
   "source": [
    "import os\n",
    "from dotenv import load_dotenv\n",
    "from myst_nb import glue\n",
    "\n",
    "load_dotenv()\n",
    "YOUR_API_KEY = os.getenv(\"TROVE_API_KEY\")"
   ]
  },
  {
   "cell_type": "code",
   "execution_count": 8,
   "id": "f757b1fb-566b-4d55-9d8f-096545958569",
   "metadata": {
    "editable": true,
    "slideshow": {
     "slide_type": ""
    },
    "tags": []
   },
   "outputs": [],
   "source": [
    "# Set encoding parameter to JSON\n",
    "params = {\"encoding\": \"json\"}\n",
    "\n",
    "# Supply API key using headers\n",
    "headers = {\"X-API-KEY\": YOUR_API_KEY}\n",
    "\n",
    "# Make the request\n",
    "response = requests.get(\n",
    "    \"https://api.trove.nla.gov.au/v3/newspaper/titles\", params=params, headers=headers\n",
    ")\n",
    "\n",
    "# Get the JSON data from the response\n",
    "data = response.json()\n",
    "\n",
    "# Get the list of newspapers\n",
    "newspapers = data[\"newspaper\"]"
   ]
  },
  {
   "cell_type": "code",
   "execution_count": 9,
   "id": "1260a422-9232-4f95-b26f-348424b58434",
   "metadata": {
    "editable": true,
    "slideshow": {
     "slide_type": ""
    },
    "tags": []
   },
   "outputs": [
    {
     "data": {
      "text/plain": [
       "[{'id': '1498',\n",
       "  'title': 'A Voz de Timor (Dili, East Timor : 1970 - 1975)',\n",
       "  'state': 'International',\n",
       "  'issn': '2652080X',\n",
       "  'troveUrl': 'https://nla.gov.au/nla.news-title1498',\n",
       "  'startDate': '1970-06-11',\n",
       "  'endDate': '1975-08-09'},\n",
       " {'id': '1571',\n",
       "  'title': 'Administration Order (Nauru : 1921 - 1926)',\n",
       "  'state': 'International',\n",
       "  'issn': 'NDP00071',\n",
       "  'troveUrl': 'https://nla.gov.au/nla.news-title1571',\n",
       "  'startDate': '1924-05-03',\n",
       "  'endDate': '1924-05-31'},\n",
       " {'id': '1488',\n",
       "  'title': 'Bangkok Recorder (Thailand : 1865 - 1867)',\n",
       "  'state': 'International',\n",
       "  'issn': '22099964',\n",
       "  'troveUrl': 'https://nla.gov.au/nla.news-title1488',\n",
       "  'startDate': '1865-01-16',\n",
       "  'endDate': '1867-01-16'},\n",
       " {'id': '1283',\n",
       "  'title': 'Berita Repoeblik (Djakarta, Indonesia : 1945 - 1946)',\n",
       "  'state': 'International',\n",
       "  'issn': '2207208X',\n",
       "  'troveUrl': 'https://nla.gov.au/nla.news-title1283',\n",
       "  'startDate': '1945-11-17',\n",
       "  'endDate': '1946-11-15'},\n",
       " {'id': '1377',\n",
       "  'title': 'Guinea Gold (Papua New Guinea : 1942 - 1945)',\n",
       "  'state': 'International',\n",
       "  'issn': '22061134',\n",
       "  'troveUrl': 'https://nla.gov.au/nla.news-title1377',\n",
       "  'startDate': '1942-11-19',\n",
       "  'endDate': '1945-12-22'},\n",
       " {'id': '1372',\n",
       "  'title': 'Papua New Guinea Government Gazette (1971 - 1975)',\n",
       "  'state': 'International',\n",
       "  'issn': '22086870',\n",
       "  'troveUrl': 'https://nla.gov.au/nla.news-title1372',\n",
       "  'startDate': '1971-07-01',\n",
       "  'endDate': '1975-09-15'},\n",
       " {'id': '1376',\n",
       "  'title': 'Papua New Guinea Post-Courier (Port Moresby : 1969 - 1981)',\n",
       "  'state': 'International',\n",
       "  'issn': '22087427',\n",
       "  'troveUrl': 'https://nla.gov.au/nla.news-title1376',\n",
       "  'startDate': '1969-06-30',\n",
       "  'endDate': '1981-06-30'},\n",
       " {'id': '1375',\n",
       "  'title': 'Papuan Courier (Port Moresby, Papua New Guinea : 1917 - 1942)',\n",
       "  'state': 'International',\n",
       "  'issn': '22038302',\n",
       "  'troveUrl': 'https://nla.gov.au/nla.news-title1375',\n",
       "  'startDate': '1917-01-31',\n",
       "  'endDate': '1942-01-23'},\n",
       " {'id': '1373',\n",
       "  'title': 'Papuan Times (Kwato, Papua New Guinea : 1951 - 1954)',\n",
       "  'state': 'International',\n",
       "  'issn': '22093311',\n",
       "  'troveUrl': 'https://nla.gov.au/nla.news-title1373',\n",
       "  'startDate': '1951-02-02',\n",
       "  'endDate': '1954-09-02'},\n",
       " {'id': '1374',\n",
       "  'title': 'Papuan Times (Port Moresby, Papua New Guinea : 1911 - 1916)',\n",
       "  'state': 'International',\n",
       "  'issn': '22038280',\n",
       "  'troveUrl': 'https://nla.gov.au/nla.news-title1374',\n",
       "  'startDate': '1911-01-28',\n",
       "  'endDate': '1916-12-13'},\n",
       " {'id': '1329',\n",
       "  'title': 'South Australian Record (London, England : 1837 - 1840)',\n",
       "  'state': 'International',\n",
       "  'issn': '22089578',\n",
       "  'troveUrl': 'https://nla.gov.au/nla.news-title1329',\n",
       "  'startDate': '1837-11-08',\n",
       "  'endDate': '1840-02-15'},\n",
       " {'id': '1331',\n",
       "  'title': 'South Australian Record and Australasian and South African Chronicle (London, England : 1840 - 1841)',\n",
       "  'state': 'International',\n",
       "  'issn': '22089918',\n",
       "  'troveUrl': 'https://nla.gov.au/nla.news-title1331',\n",
       "  'startDate': '1840-05-09',\n",
       "  'endDate': '1841-04-17'},\n",
       " {'id': '1330',\n",
       "  'title': 'South Australian Record and Australasian Chronicle (London, England : 1840)',\n",
       "  'state': 'International',\n",
       "  'issn': '22089888',\n",
       "  'troveUrl': 'https://nla.gov.au/nla.news-title1330',\n",
       "  'startDate': '1840-02-22',\n",
       "  'endDate': '1840-05-02'},\n",
       " {'id': '1371',\n",
       "  'title': 'Territory of Papua and New Guinea Government Gazette (1949 - 1971)',\n",
       "  'state': 'International',\n",
       "  'issn': '22086803',\n",
       "  'troveUrl': 'https://nla.gov.au/nla.news-title1371',\n",
       "  'startDate': '1949-07-01',\n",
       "  'endDate': '1971-06-25'},\n",
       " {'id': '1369',\n",
       "  'title': 'Territory of Papua Government Gazette (Papua New Guinea : 1906 - 1942)',\n",
       "  'state': 'International',\n",
       "  'issn': '22086730',\n",
       "  'troveUrl': 'https://nla.gov.au/nla.news-title1369',\n",
       "  'startDate': '1906-09-01',\n",
       "  'endDate': '1942-02-14'},\n",
       " {'id': '1370',\n",
       "  'title': 'Territory of Papua-New Guinea Government Gazette (1945 - 1949)',\n",
       "  'state': 'International',\n",
       "  'issn': '22086757',\n",
       "  'troveUrl': 'https://nla.gov.au/nla.news-title1370',\n",
       "  'startDate': '1945-11-07',\n",
       "  'endDate': '1949-06-08'},\n",
       " {'id': '1030',\n",
       "  'title': \"The South Australian Colonist and Settlers' Weekly Record of British, Foreign and Colonial Intelligence (London, England : 1840)\",\n",
       "  'state': 'International',\n",
       "  'issn': '1461426X',\n",
       "  'troveUrl': 'https://nla.gov.au/nla.news-title1030',\n",
       "  'startDate': '1840-03-10',\n",
       "  'endDate': '1840-09-22'},\n",
       " {'id': '1391',\n",
       "  'title': 'The Tribune (Philippines : 1932 - 1945)',\n",
       "  'state': 'International',\n",
       "  'issn': '22092226',\n",
       "  'troveUrl': 'https://nla.gov.au/nla.news-title1391',\n",
       "  'startDate': '1932-01-03',\n",
       "  'endDate': '1945-02-03'}]"
      ]
     },
     "execution_count": 9,
     "metadata": {},
     "output_type": "execute_result"
    }
   ],
   "source": [
    "international_newspapers = [n for n in newspapers if n[\"state\"] == \"International\"]\n",
    "\n",
    "international_newspapers"
   ]
  },
  {
   "cell_type": "code",
   "execution_count": null,
   "id": "e67dae01-cb59-422d-bc57-2112754251bf",
   "metadata": {
    "editable": true,
    "slideshow": {
     "slide_type": ""
    },
    "tags": []
   },
   "outputs": [],
   "source": []
  }
 ],
 "metadata": {
  "kernelspec": {
   "display_name": "Python 3 (ipykernel)",
   "language": "python",
   "name": "python3"
  },
  "language_info": {
   "codemirror_mode": {
    "name": "ipython",
    "version": 3
   },
   "file_extension": ".py",
   "mimetype": "text/x-python",
   "name": "python",
   "nbconvert_exporter": "python",
   "pygments_lexer": "ipython3",
   "version": "3.8.12"
  }
 },
 "nbformat": 4,
 "nbformat_minor": 5
}
