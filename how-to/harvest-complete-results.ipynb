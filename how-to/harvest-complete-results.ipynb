{
 "cells": [
  {
   "cell_type": "markdown",
   "id": "997fc7c5-5ff7-4a34-bedb-3e63e6af4feb",
   "metadata": {},
   "source": [
    "# Harvest a complete set of search results using the API"
   ]
  },
  {
   "cell_type": "code",
   "execution_count": 2,
   "id": "b0208f47-b5ed-4049-85fb-1eb65cca0012",
   "metadata": {
    "editable": true,
    "slideshow": {
     "slide_type": ""
    },
    "tags": [
     "remove-cell"
    ]
   },
   "outputs": [],
   "source": [
    "import os\n",
    "\n",
    "import requests\n",
    "from dotenv import load_dotenv\n",
    "\n",
    "load_dotenv()\n",
    "API_KEY = os.getenv(\"TROVE_API_KEY\")"
   ]
  },
  {
   "cell_type": "markdown",
   "id": "f293cf93-8efa-496b-9425-3e3b471c193d",
   "metadata": {},
   "source": [
    "A common task you might want to undertake using the Trove API is to harvest a complete set of search results. "
   ]
  },
  {
   "cell_type": "markdown",
   "id": "a8adccfe-9aaa-48cb-a3ea-ee7fff83bf70",
   "metadata": {},
   "source": [
    "## Using the `bulkHarvest` parameter\n",
    "\n",
    "If you're harvesting a large result set you need to set the `bulkHarvest` parameter to `true`. Why? By default, Trove returns search results in relevance order. However, assigning consistent relevance scores is tricky in massive collections like Trove, and the scores of individual records can vary between API requests. This means that if you harvest results in relevance order you can sometimes get duplicate records, or miss records completely. Setting `bulkHarvest=true` sorts records by their identifiers, rather than their relevance. This ensures that you get everything."
   ]
  },
  {
   "cell_type": "markdown",
   "id": "f7cffece-6b39-412d-a661-b3bc68f9f576",
   "metadata": {},
   "source": [
    "## Understanding pagination\n",
    "\n",
    "To harvest a large set of results you need to break it up into manageable chunks – requesting and downloading each chunk in turn. This is known as pagination. There are a couple of query parameters and results fields you need to understand to control the pagination process.\n",
    "\n",
    "You can set the number of results in each chunk using the `n` parameter. The default is only `20`, so you probably want to increase that to `100`.\n",
    "\n",
    "After you've harvested a chunk of results, your next API request needs to tell Trove *where you are* in the results set. Trove has no memory of your harvest. If you don't tell it where to start from, you'll get the same chunk over and over again. You can set the starting point using the `s` parameter, but what value do you give it?\n",
    "\n",
    "Search results from the Trove API include a field labelled `nextStart`. These values look like a random collection of letters, numbers, and punctuation, but they are actually tokens that pinpoint your current position within a set of results. To retrieve the next chunk of results from the API, you assign the `nextStart` value from the current chunk to the `s` parameter of your next request. Of course, you'll have no `nextStart` value when you make your first request, so just set `s` to `*` (an asterisk).\n",
    "\n",
    "For example, your first request sets `s` to `*`:\n",
    "\n",
    "```\n",
    "https://api.trove.nla.gov.au/v3/result?q=wragge&category=newspaper&encoding=json&bulkHarvest=true&n=100&s=*\n",
    "```\n",
    "\n",
    "The API response includes a `nextStart` value:\n",
    "\n",
    "```json\n",
    "\"nextStart\": \"AoEpMTAwMjY2NzIx\"\n",
    "```\n",
    "\n",
    "Next request sets `s` to the value of `nextStart`:\n",
    "\n",
    "```\n",
    "https://api.trove.nla.gov.au/v3/result?q=wragge&category=newspaper&encoding=json&bulkHarvest=true&n=100&s=AoEpMTAwMjY2NzIx\n",
    "```\n",
    "\n",
    "And so on until you reach the end of the dataset. You'll know you've reached the end when there's no `nextStart` value in the API response."
   ]
  },
  {
   "cell_type": "markdown",
   "id": "92654f04-2fd7-46c0-bc52-bd0cc3aa478d",
   "metadata": {},
   "source": [
    "## Handling results\n",
    "\n",
    "If your aim is to download a complete set of search results, then obviously you need to have some way of saving the responses you get back from the Trove API! How you do this depends on the data you actually want and the form you want it in. For example, if you only wanted to save the titles and dates of newspaper articles, you might just extract them from the JSON responses and save them in a CSV file. There are many possibilities!\n",
    "\n",
    "This example will save the complete JSON item records in a newline delimited JSON file (NDJSON). As the name suggests, NDJSON files have one JSON object per line. It's a convenient and scalable method as you can simply add each new record to the end of an existing file. You can decide later on what fields you want to extract from the JSON, or simply load the whole dataset into a tool like Pandas."
   ]
  },
  {
   "cell_type": "markdown",
   "id": "1f24a102-3774-4de4-a821-9a4644ec15b6",
   "metadata": {},
   "source": [
    "## Full example"
   ]
  },
  {
   "cell_type": "code",
   "execution_count": 3,
   "id": "81c5f80a-93eb-4b48-9a1a-794ef2ddffed",
   "metadata": {},
   "outputs": [],
   "source": [
    "from pathlib import Path\n",
    "import json\n",
    "import requests\n",
    "\n",
    "params = {\n",
    "    \"q\": \"wragge\",\n",
    "    \"category\": \"magazine\",\n",
    "    \"encoding\": \"json\",\n",
    "    \"bulkHarvest\": \"true\",\n",
    "    \"n\": 100,\n",
    "}\n",
    "\n",
    "headers = {\"X-API-KEY\": API_KEY}\n",
    "\n",
    "start = \"*\"\n",
    "\n",
    "with Path(\"results.ndjson\").open(\"a\") as ndjson_file:\n",
    "    while start:\n",
    "        params[\"s\"] = start\n",
    "        response = requests.get(\n",
    "            \"https://api.trove.nla.gov.au/v3/result\", params=params, headers=headers\n",
    "        )\n",
    "        data = response.json()\n",
    "        records = data[\"category\"][0][\"records\"].get(\"work\", [])\n",
    "        for record in records:\n",
    "            ndjson_file.write(f\"{json.dumps(record)}\\n\")\n",
    "        try:\n",
    "            start = data[\"category\"][0][\"records\"][\"nextStart\"]\n",
    "        except KeyError:\n",
    "            start = None\n",
    "    "
   ]
  },
  {
   "cell_type": "code",
   "execution_count": null,
   "id": "1ab1c118-063d-4dd9-b0a8-a1c61e73179a",
   "metadata": {},
   "outputs": [],
   "source": []
  }
 ],
 "metadata": {
  "kernelspec": {
   "display_name": "Python 3 (ipykernel)",
   "language": "python",
   "name": "python3"
  },
  "language_info": {
   "codemirror_mode": {
    "name": "ipython",
    "version": 3
   },
   "file_extension": ".py",
   "mimetype": "text/x-python",
   "name": "python",
   "nbconvert_exporter": "python",
   "pygments_lexer": "ipython3",
   "version": "3.8.12"
  }
 },
 "nbformat": 4,
 "nbformat_minor": 5
}
