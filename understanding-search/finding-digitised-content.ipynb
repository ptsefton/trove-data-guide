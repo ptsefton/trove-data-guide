{
 "cells": [
  {
   "cell_type": "markdown",
   "id": "25891f58-f3ac-4c78-9e67-848dddd3a4e7",
   "metadata": {},
   "source": [
    "# Finding digitised content you can download"
   ]
  },
  {
   "cell_type": "markdown",
   "id": "530577be-6930-42e3-9c93-3cfcb0c8a48d",
   "metadata": {
    "editable": true,
    "slideshow": {
     "slide_type": ""
    },
    "tags": []
   },
   "source": [
    "```{attention}\n",
    "This guide is currently under development. For more information and discussion see [the list of issues](https://github.com/wragge/trove-data-guide/issues) on GitHub. Comments are welcome.\n",
    "```"
   ]
  },
  {
   "cell_type": "markdown",
   "id": "821e822b-0523-4a15-933d-864d24f06338",
   "metadata": {},
   "source": [
    "Still much harder than it should be (except for `magazine` & `newspaper` categories of course).\n",
    "\n",
    "Various combinations of:\n",
    "\n",
    "- searching for \"nla.obj\"\n",
    "- `nuc:\"ANL:TDL\"`\n",
    "- NOT `nuc:\"ANL:NED\"`?\n",
    "- `fullTextInd:y` (not just NLA, not always accessible)\n",
    "- `l-availability` -- to get what's online\n",
    "- `has:correctabletext`\n",
    "\n",
    "Need to test these combinations to see what works..."
   ]
  },
  {
   "cell_type": "code",
   "execution_count": null,
   "id": "b18d7101-ccb0-4275-b72d-8b0306aa8dc3",
   "metadata": {},
   "outputs": [],
   "source": []
  }
 ],
 "metadata": {
  "kernelspec": {
   "display_name": "Python 3 (ipykernel)",
   "language": "python",
   "name": "python3"
  },
  "language_info": {
   "codemirror_mode": {
    "name": "ipython",
    "version": 3
   },
   "file_extension": ".py",
   "mimetype": "text/x-python",
   "name": "python",
   "nbconvert_exporter": "python",
   "pygments_lexer": "ipython3",
   "version": "3.8.12"
  }
 },
 "nbformat": 4,
 "nbformat_minor": 5
}
