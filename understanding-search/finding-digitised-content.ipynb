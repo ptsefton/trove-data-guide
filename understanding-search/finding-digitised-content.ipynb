{
 "cells": [
  {
   "cell_type": "markdown",
   "id": "25891f58-f3ac-4c78-9e67-848dddd3a4e7",
   "metadata": {},
   "source": [
    "# Finding NLA digitised content you can download"
   ]
  },
  {
   "cell_type": "markdown",
   "id": "530577be-6930-42e3-9c93-3cfcb0c8a48d",
   "metadata": {
    "editable": true,
    "slideshow": {
     "slide_type": ""
    },
    "tags": []
   },
   "source": [
    "```{attention}\n",
    "This guide is currently under development. For more information and discussion see [the list of issues](https://github.com/wragge/trove-data-guide/issues) on GitHub. Comments are welcome.\n",
    "```"
   ]
  },
  {
   "cell_type": "code",
   "execution_count": 1,
   "id": "d40bc442-3a39-4945-a7df-7099fd0e6ef8",
   "metadata": {},
   "outputs": [],
   "source": [
    "import os\n",
    "from datetime import datetime\n",
    "\n",
    "import pandas as pd\n",
    "import requests\n",
    "from dotenv import load_dotenv\n",
    "from myst_nb import glue\n",
    "\n",
    "load_dotenv()\n",
    "YOUR_API_KEY = os.getenv(\"TROVE_API_KEY\")"
   ]
  },
  {
   "cell_type": "code",
   "execution_count": 2,
   "id": "70d132d9-0af2-4c87-b8fe-3ce59faac988",
   "metadata": {
    "editable": true,
    "slideshow": {
     "slide_type": ""
    },
    "tags": []
   },
   "outputs": [
    {
     "data": {
      "application/papermill.record/text/plain": "'20 September 2023'"
     },
     "metadata": {
      "scrapbook": {
       "mime_prefix": "application/papermill.record/",
       "name": "today"
      }
     },
     "output_type": "display_data"
    }
   ],
   "source": [
    "today = datetime.now().strftime(\"%d %B %Y\")\n",
    "\n",
    "glue(\"today\", today, display=False)"
   ]
  },
  {
   "cell_type": "markdown",
   "id": "80d43155-b457-4fbb-9fe1-509b2aafed97",
   "metadata": {},
   "source": [
    "Trove provides a platform for the delivery of digitised content from the National Library of Australia and its partners. This digitised content is easy to find in the *Newspapers & gazettes* and *Magazines & newsletters* categories – they're full of it! But it's not so easy to find digitised content in other categories where it's mixed with works aggregated from a range of different sources.\n",
    "\n",
    "There are a few different approaches to finding digitised content. They all have potential problems, so it's a matter of working out what will best meet your research needs.\n",
    "\n",
    "### Limit results to the 'Trove Digital Library'\n",
    "\n",
    "In the Advanced Search form for the *Books & Libraries*, *Research & Reports*, *Images, Maps & Artefacts*, *Diaries, Letters & Archives*, and *Music, Audio & Video* categories, there's an option to limit the source of the records in your results by selecting from a list of 'Organisations'. Hidden away in this list is the 'Trove Digital Library'. Unfortunately, selecting 'Trove Digital Library' in Advanced Search doesn't work at the moment because of a bug in the web interface, but once you know it exists you can manually add it to your searches.\n",
    "\n",
    "```{figure} /images/advanced_search_orgs.png\n",
    ":name: advanced-search-orgs\n",
    ":width: 600\n",
    "Selecting 'Trove Digital Library' in the Advanced Search form – note the NUC identifier in brackets\n",
    "```\n",
    "\n",
    "Like other contributing organisations, the 'Trove Digital Library' has it's own NUC identifier: `ANL:DL`. You can use this to limit your search by adding `nuc:\"ANL:DL\"` to the simple search box in the web interface, or to the `q` parameter in an API request.\n",
    "\n",
    "Here's the number of results per category on {glue:text}`today`:"
   ]
  },
  {
   "cell_type": "code",
   "execution_count": 5,
   "id": "c63d21b6-0e58-42d8-9d46-182298a5ce41",
   "metadata": {
    "editable": true,
    "slideshow": {
     "slide_type": ""
    },
    "tags": [
     "hide-input"
    ]
   },
   "outputs": [
    {
     "data": {
      "text/html": [
       "<style type=\"text/css\">\n",
       "</style>\n",
       "<table id=\"T_b4161\">\n",
       "  <thead>\n",
       "    <tr>\n",
       "      <th id=\"T_b4161_level0_col0\" class=\"col_heading level0 col0\" >category</th>\n",
       "      <th id=\"T_b4161_level0_col1\" class=\"col_heading level0 col1\" >total</th>\n",
       "    </tr>\n",
       "  </thead>\n",
       "  <tbody>\n",
       "    <tr>\n",
       "      <td id=\"T_b4161_row0_col0\" class=\"data row0 col0\" >book</td>\n",
       "      <td id=\"T_b4161_row0_col1\" class=\"data row0 col1\" >30,269</td>\n",
       "    </tr>\n",
       "    <tr>\n",
       "      <td id=\"T_b4161_row1_col0\" class=\"data row1 col0\" >diary</td>\n",
       "      <td id=\"T_b4161_row1_col1\" class=\"data row1 col1\" >38,898</td>\n",
       "    </tr>\n",
       "    <tr>\n",
       "      <td id=\"T_b4161_row2_col0\" class=\"data row2 col0\" >image</td>\n",
       "      <td id=\"T_b4161_row2_col1\" class=\"data row2 col1\" >36,163</td>\n",
       "    </tr>\n",
       "    <tr>\n",
       "      <td id=\"T_b4161_row3_col0\" class=\"data row3 col0\" >magazine</td>\n",
       "      <td id=\"T_b4161_row3_col1\" class=\"data row3 col1\" >1,807,248</td>\n",
       "    </tr>\n",
       "    <tr>\n",
       "      <td id=\"T_b4161_row4_col0\" class=\"data row4 col0\" >music</td>\n",
       "      <td id=\"T_b4161_row4_col1\" class=\"data row4 col1\" >17,850</td>\n",
       "    </tr>\n",
       "    <tr>\n",
       "      <td id=\"T_b4161_row5_col0\" class=\"data row5 col0\" >research</td>\n",
       "      <td id=\"T_b4161_row5_col1\" class=\"data row5 col1\" >277,379</td>\n",
       "    </tr>\n",
       "  </tbody>\n",
       "</table>\n"
      ],
      "text/plain": [
       "<pandas.io.formats.style.Styler at 0x7fd8bf679160>"
      ]
     },
     "execution_count": 5,
     "metadata": {},
     "output_type": "execute_result"
    }
   ],
   "source": [
    "params = {\"q\": 'nuc:\"ANL:DL\"', \"category\": \"all\", \"encoding\": \"json\", \"n\": 0}\n",
    "\n",
    "headers = {\"X-API-KEY\": YOUR_API_KEY}\n",
    "totals_anl_dl = []\n",
    "\n",
    "response = requests.get(\n",
    "    \"https://api.trove.nla.gov.au/v3/result\", params=params, headers=headers\n",
    ")\n",
    "data = response.json()\n",
    "for cat in data[\"category\"]:\n",
    "    total = cat[\"records\"][\"total\"]\n",
    "    if total:\n",
    "        totals_anl_dl.append({\"category\": cat[\"code\"], \"total\": total})\n",
    "df_anl_dl = pd.DataFrame(totals_anl_dl)\n",
    "\n",
    "df_anl_dl.style.format(thousands=\",\").hide()"
   ]
  },
  {
   "cell_type": "markdown",
   "id": "7b244938-31aa-4822-b76b-49aef49a94fa",
   "metadata": {},
   "source": [
    "[![Try it!](https://troveconsole.herokuapp.com/static/img/try-trove-api-console.svg)](https://troveconsole.herokuapp.com/v3/?url=https%3A%2F%2Fapi.trove.nla.gov.au%2Fv3%2Fresult%3Fq%3Dnuc%3A%22ANL%3ADL%22%26category%3Dall%26encoding%3Djson%26n%3D0&comment=)\n",
    "\n",
    "The results look ok, but the problem is that there are some digitised publications that aren't part of the 'Trove Digital Library' – here's [some examples](https://trove.nla.gov.au/search/category/books?keyword=%22nla.obj%22%20NOT%20nuc%3A%22ANL%3ADL%22%20NOT%20nuc%3A%22ANL%3ANED%22&l-availability=y%2Ff) from the *Books & Libraries* category. It's just not clear what a search for `nuc:\"ANL:DL\"` actually includes (or excludes)."
   ]
  },
  {
   "cell_type": "markdown",
   "id": "3b06d5ac-7baf-4d01-8980-a04d92d73ce4",
   "metadata": {},
   "source": [
    "### Search for records including `nla.obj`\n",
    "\n",
    "All of the digitised resources in Trove (except for *Newspapers & Gazettes*) have NLA identifiers of the form `nla.obj-[NUMBER]`. So a search for `nla.obj` should return all digitised resources."
   ]
  },
  {
   "cell_type": "code",
   "execution_count": 6,
   "id": "a89b6f97-3745-4691-bb07-816d554b3d47",
   "metadata": {},
   "outputs": [
    {
     "data": {
      "text/html": [
       "<style type=\"text/css\">\n",
       "</style>\n",
       "<table id=\"T_23231\">\n",
       "  <thead>\n",
       "    <tr>\n",
       "      <th id=\"T_23231_level0_col0\" class=\"col_heading level0 col0\" >category</th>\n",
       "      <th id=\"T_23231_level0_col1\" class=\"col_heading level0 col1\" >total</th>\n",
       "    </tr>\n",
       "  </thead>\n",
       "  <tbody>\n",
       "    <tr>\n",
       "      <td id=\"T_23231_row0_col0\" class=\"data row0 col0\" >book</td>\n",
       "      <td id=\"T_23231_row0_col1\" class=\"data row0 col1\" >637,998</td>\n",
       "    </tr>\n",
       "    <tr>\n",
       "      <td id=\"T_23231_row1_col0\" class=\"data row1 col0\" >diary</td>\n",
       "      <td id=\"T_23231_row1_col1\" class=\"data row1 col1\" >163,867</td>\n",
       "    </tr>\n",
       "    <tr>\n",
       "      <td id=\"T_23231_row2_col0\" class=\"data row2 col0\" >image</td>\n",
       "      <td id=\"T_23231_row2_col1\" class=\"data row2 col1\" >281,885</td>\n",
       "    </tr>\n",
       "    <tr>\n",
       "      <td id=\"T_23231_row3_col0\" class=\"data row3 col0\" >list</td>\n",
       "      <td id=\"T_23231_row3_col1\" class=\"data row3 col1\" >4</td>\n",
       "    </tr>\n",
       "    <tr>\n",
       "      <td id=\"T_23231_row4_col0\" class=\"data row4 col0\" >magazine</td>\n",
       "      <td id=\"T_23231_row4_col1\" class=\"data row4 col1\" >1,807,247</td>\n",
       "    </tr>\n",
       "    <tr>\n",
       "      <td id=\"T_23231_row5_col0\" class=\"data row5 col0\" >music</td>\n",
       "      <td id=\"T_23231_row5_col1\" class=\"data row5 col1\" >57,408</td>\n",
       "    </tr>\n",
       "    <tr>\n",
       "      <td id=\"T_23231_row6_col0\" class=\"data row6 col0\" >people</td>\n",
       "      <td id=\"T_23231_row6_col1\" class=\"data row6 col1\" >38</td>\n",
       "    </tr>\n",
       "    <tr>\n",
       "      <td id=\"T_23231_row7_col0\" class=\"data row7 col0\" >research</td>\n",
       "      <td id=\"T_23231_row7_col1\" class=\"data row7 col1\" >361,275</td>\n",
       "    </tr>\n",
       "  </tbody>\n",
       "</table>\n"
      ],
      "text/plain": [
       "<pandas.io.formats.style.Styler at 0x7fd8f9914e80>"
      ]
     },
     "execution_count": 6,
     "metadata": {},
     "output_type": "execute_result"
    }
   ],
   "source": [
    "params = {\"q\": 'text:\"nla.obj\"', \"category\": \"all\", \"encoding\": \"json\", \"n\": 0}\n",
    "\n",
    "headers = {\"X-API-KEY\": YOUR_API_KEY}\n",
    "totals_nlaobj = []\n",
    "\n",
    "response = requests.get(\n",
    "    \"https://api.trove.nla.gov.au/v3/result\", params=params, headers=headers\n",
    ")\n",
    "data = response.json()\n",
    "for cat in data[\"category\"]:\n",
    "    total = cat[\"records\"][\"total\"]\n",
    "    if total:\n",
    "        totals_nlaobj.append({\"category\": cat[\"code\"], \"total\": total})\n",
    "df_nlaobj = pd.DataFrame(totals_nlaobj)\n",
    "\n",
    "df_nlaobj.style.format(thousands=\",\").hide()"
   ]
  },
  {
   "cell_type": "markdown",
   "id": "6c0ff155-54bf-4921-9a43-84c29e7735bf",
   "metadata": {},
   "source": [
    "The problem with this approach is not that things are missing from the results, but that so much is included. There are significantly more resources in most categories than were returned by the `nuc:\"ANL:DL\"`, but the appearance of the `people` and `list` categories indicates that this search is pulling in some records that don't describe digitised works.\n",
    "\n",
    "If you look closer at the [results for the *Book & Libraries* category](https://trove.nla.gov.au/search/category/books?keyword=%22nla.obj%22) you'll see that most of the works are 'Not available online'. That seems weird. Digging deeper, it seems that some of them have been digitised but not made available online. These records include a note saying something like 'Digital master available ; National Library of Australia' with a `nla.obj` identifier. But the majority of the 'not online' records are actually empty – ghostly remnants of some past processing failure.\n",
    "\n",
    "If your aim is to harvest details of all digitised works in Trove, you'd probably want to exclude the 'not online' records. One way to do this is to set the `l-availability` facet to `y`.\n",
    "\n",
    "Another potential problem is that a search for `nla.obj` returns born digital works submitted through the National E-Deposit scheme, as well as digitised resources. Some of the NED resources can only be viewed onsite at a participating library. To exclude these from your results you can set `l-availability` to `y/f` (free access).\n",
    "\n",
    "Other NED resources are freely accessible, but only available as PDFs or in an e-book format. If you're collecting data about digitised resources that you plan to harvest images or text from, then you might want to exclude *all* NED resources. The NED collection has its own NUC identifier, so you can exclude it from your search by adding `NOT nuc:\"ANL:NED\"` to the simple search box, or to the `q` parameter in an API request.\n",
    "\n",
    "```{warning}\n",
    "It's possible that by excluding all NED resources, you might lose some of the NLA's digitised works. This could happen if there were multiple versions of a work, one of which had been digitised, and another that had been submitted via the National E-Deposit service. Setting `NOT nuc:\"ANL:NED\"` would exclude *all* versions from your results.\n",
    "```\n",
    "\n",
    "So what's the best approach? I'd suggest starting with \n",
    "\n",
    "Putting this all together, one way of searching for all resources digitised by the NLA would be to use the query `\"nla.obj\" NOT nuc:\"ANL:NED\"` and set `l-availability` to `y/f`.\n",
    "\n",
    "Discovery or analysis?"
   ]
  },
  {
   "cell_type": "markdown",
   "id": "d244b8e8-bdd4-41f3-ace3-cb373cfb0f46",
   "metadata": {},
   "source": [
    "### Other options\n",
    "\n",
    "There are a couple of other search indexes that can help identify digitised content:\n",
    "\n",
    "- `fullTextInd`\n",
    "- `ImageInd`\n",
    "- `has:correctabletext`\n",
    "\n"
   ]
  },
  {
   "cell_type": "markdown",
   "id": "821e822b-0523-4a15-933d-864d24f06338",
   "metadata": {},
   "source": [
    "Still much harder than it should be (except for `magazine` & `newspaper` categories of course).\n",
    "\n",
    "Various combinations of:\n",
    "\n",
    "- searching for \"nla.obj\"\n",
    "- `nuc:\"ANL:DL\"` \n",
    "- NOT `nuc:\"ANL:NED\"`?\n",
    "- `fullTextInd:y` (not just NLA, not always accessible)\n",
    "- `l-availability` -- to get what's online\n",
    "- `has:correctabletext`\n",
    "\n",
    "Need to test these combinations to see what works..."
   ]
  },
  {
   "cell_type": "markdown",
   "id": "16edfbdb-389d-4fa9-8866-17f1cb1d7206",
   "metadata": {},
   "source": [
    "## `fullTextInd:y`\n",
    "\n",
    "The API Version 2.1 introduction noted that this index allowed you to:\n",
    "\n",
    "> Locate items that include full text in Trove that you can access directly in the API record,\n",
    "particularly digitised books and journal articles\n",
    "\n",
    "However, only journal articles have full text in their API records. Access to full text of other resources is variable. Includes NED, repositories, Google Books, Internet Archive etc. Not clear when/why this index is checked.\n",
    "\n",
    "Current docs:\n",
    "\n",
    "> find digitised or born digital items that include full text, particularly digitised books & journal articles\n",
    "\n",
    "Searches in books:\n",
    "\n",
    "- [`fullTextInd:y`](https://trove.nla.gov.au/search/category/books?keyword=fullTextInd%3Ay): 2,804,463 results\n",
    "- [`fullTextInd:y AND has:correctabletext`](https://trove.nla.gov.au/search/category/books?keyword=fullTextInd%3Ay%20AND%20has%3Acorrectabletext): 27,161 results\n",
    "- [`has:correctabletext`](https://trove.nla.gov.au/search/category/books?keyword=has%3Acorrectabletext): 41,189 results\n",
    "- [`has:correctabletext NOT fullTextInd:y`](https://trove.nla.gov.au/search/category/books?keyword=has%3Acorrectabletext%20NOT%20fullTextInd%3Ay): 14,028 results (most empty, not online)\n",
    "- [`has:correctabletext NOT fullTextInd:y` and `l-availablity:n`](https://trove.nla.gov.au/search/category/books?keyword=has%3Acorrectabletext%20NOT%20fullTextInd%3Ay&l-availability=n): 13,905 (all empty)\n",
    "- [`has:correctabletext NOT fullTextInd:y` and `l-availablity:y`](https://trove.nla.gov.au/search/category/books?keyword=has%3Acorrectabletext%20NOT%20fullTextInd%3Ay&l-availability=y): 123 (these are digitised and could have text)\n",
    "- [`\"nla.obj\" NOT nuc:\"ANL:NED\"` and `l-availablity:y`](https://trove.nla.gov.au/search/category/books?keyword=%22nla.obj%22%20NOT%20nuc%3A%22ANL%3ANED%22&l-availability=y): 39,292\n",
    "- [`\"nla.obj\" has:correctabletext`](https://trove.nla.gov.au/search/category/books?keyword=%22nla.obj%22%20has%3Acorrectabletext): 41,189\n",
    "- [`\"nla.obj\" fullTextInd:y`](https://trove.nla.gov.au/search/category/books?keyword=%22nla.obj%22%20fullTextInd%3Ay): 57,898 (includes NED content without accessible text)\n",
    "- [`nuc:\"ANL:DL\"`](https://trove.nla.gov.au/search/category/books?keyword=nuc%3A%22ANL%3ADL%22): 30,268\n",
    "\n",
    "So fullTextInd not much use, lots of stuff without accessible text\n",
    "correctabletext seems pretty good? But not in diary category.\n",
    "nla.obj plus not NED also ok?\n",
    "ANL:DL gets some but not all\n",
    "\n",
    "Does `\"nla.obj\" NOT nuc:\"ANL:NED\"` and `l-availability=y` work best across all cats? Need the availability facet because of works that have a \"digital master\" and an \"nla.obj\" id but are not online\n",
    "\n",
    "Some nla.obj have been digitised but not put online\n",
    "\n",
    "fullTextInd:\n",
    "\n",
    "- NLA digitised with OCRd text?\n",
    "- aggregated context with fulltext links?\n",
    "\n",
    "\n",
    "```{list-table} Finding digitised content\n",
    ":header-rows: 1\n",
    ":name: finding-digitised-content\n",
    "* - Category\n",
    "  - Query\n",
    "  - Results\n",
    "  - Notes\n",
    "* - book\n",
    "  - [`fullTextInd:y`](https://trove.nla.gov.au/search/category/books?keyword=fullTextInd%3Ay)\n",
    "  - 2,804,463\n",
    "  - \n",
    "* - book\n",
    "  - [`has:correctabletext`](https://trove.nla.gov.au/search/category/books?keyword=has%3Acorrectabletext)\n",
    "  - 41,189\n",
    "  -\n",
    "* - book\n",
    "  - [`\"nla.obj\"`](https://trove.nla.gov.au/search/category/books?keyword=%22nla.obj%22)\n",
    "  - 603,141\n",
    "  - \n",
    "* - book\n",
    "  - [`fullTextInd:y AND has:correctabletext`](https://trove.nla.gov.au/search/category/books?keyword=fullTextInd%3Ay%20AND%20has%3Acorrectabletext)\n",
    "  - 27,161\n",
    "  - \n",
    "* - image\n",
    "  - [`fullTextInd:y`](https://trove.nla.gov.au/search/category/images?keyword=fullTextInd%3Ay)\n",
    "  - 75,950\n",
    "  - \n",
    "* - image\n",
    "  - [`has:correctabletext`](https://trove.nla.gov.au/search/category/images?keyword=has%3Acorrectabletext)\n",
    "  - 100\n",
    "  -\n",
    "* - image\n",
    "  - [`\"nla.obj\"`](https://trove.nla.gov.au/search/category/images?keyword=%22nla.obj%22)\n",
    "  - 281,890\n",
    "  - \n",
    "* - image\n",
    "  - [`\"nla.obj\"` and `l-availability=y`](https://trove.nla.gov.au/search/category/images?keyword=%22nla.obj%22&l-availability=y)\n",
    "  - 247,356\n",
    "  - \n",
    "```"
   ]
  },
  {
   "cell_type": "markdown",
   "id": "3aef8cb2-b459-4e3e-a8c0-ef57870e917e",
   "metadata": {},
   "source": [
    "## Journal articles\n",
    "\n",
    "Advertisements on multiple pages in an issue grouped as a single work record for discovery: https://trove.nla.gov.au/work/232859472?keyword=fullTextInd%3Ay\n",
    "\n",
    "Can access as separate versions via the API: https://troveconsole.herokuapp.com/v3/?url=https%3A%2F%2Fapi.trove.nla.gov.au%2Fv3%2Fwork%2F232859472%3Fencoding%3Djson%26include%3Dall&comment="
   ]
  },
  {
   "cell_type": "markdown",
   "id": "12bb3904-e878-4f70-ae76-687b18c76829",
   "metadata": {},
   "source": [
    "Digitised version doesn't load: https://trove.nla.gov.au/work/6827686/version/266742058\n",
    "\n",
    "492,000 ghost records: https://trove.nla.gov.au/search/category/books?keyword=%22nla.obj%22%20NOT%20nuc%3A%22ANL%3ANED%22&l-availability=n&l-format=Article%2FOther%20article"
   ]
  },
  {
   "cell_type": "code",
   "execution_count": null,
   "id": "cf8348f5-6c86-4f52-bacc-a166b45cacbe",
   "metadata": {},
   "outputs": [],
   "source": []
  }
 ],
 "metadata": {
  "kernelspec": {
   "display_name": "Python 3 (ipykernel)",
   "language": "python",
   "name": "python3"
  },
  "language_info": {
   "codemirror_mode": {
    "name": "ipython",
    "version": 3
   },
   "file_extension": ".py",
   "mimetype": "text/x-python",
   "name": "python",
   "nbconvert_exporter": "python",
   "pygments_lexer": "ipython3",
   "version": "3.8.12"
  }
 },
 "nbformat": 4,
 "nbformat_minor": 5
}
