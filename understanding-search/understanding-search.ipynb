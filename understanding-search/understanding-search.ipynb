{
 "cells": [
  {
   "cell_type": "markdown",
   "id": "3279be96-feed-49df-a37c-4c8272234b73",
   "metadata": {},
   "source": [
    "# Search as a research method\n",
    "\n",
    "```{attention}\n",
    "This guide is currently under development. For more information and discussion see [the list of issues](https://github.com/wragge/trove-data-guide/issues) on GitHub. Comments are welcome.\n",
    "```"
   ]
  },
  {
   "cell_type": "markdown",
   "id": "a2aa8668-d09f-4531-a6bc-5447ce79a0aa",
   "metadata": {},
   "source": [
    "Searching collections of digital resources is a research method. Need to understand options and plan approach, recognising the limits of any search interface.\n",
    "\n",
    "Search enables you to find items of relevance to your research and assemble a dataset for further analysis. Creating search queries is an iterative process – refining parameters, checking results etc.\n",
    "\n",
    "Focus here is on the 'simple search' option as the parameters are much the same between the web interface and API, and it's possible to replcate all 'Advanced' search options.\n",
    "\n",
    "Topics:\n",
    "\n",
    "- Discovery versus analysis – need to recognise that the aim of the search indexing is to present the user with items that *could be* of relevance, but this fuzziness might limit the usefulness of search results for analysis. Eg: user-added tags and comments are searched by default. Examine relevance ranking.\n",
    "- 'Simple' search and beyond – all the basics, adjusting the fuzziness of text searches, stemming, boolean operators, indexes etc\n",
    "- Using facets\n",
    "- Date searching – might be worth a separate section as there are a few complexities and different ways of achieving the same result\n",
    "- What are you searching? – leads on to next section on contexts and collections"
   ]
  }
 ],
 "metadata": {
  "jupytext": {
   "formats": "ipynb,md:myst"
  },
  "kernelspec": {
   "display_name": "Python 3 (ipykernel)",
   "language": "python",
   "name": "python3"
  },
  "language_info": {
   "codemirror_mode": {
    "name": "ipython",
    "version": 3
   },
   "file_extension": ".py",
   "mimetype": "text/x-python",
   "name": "python",
   "nbconvert_exporter": "python",
   "pygments_lexer": "ipython3",
   "version": "3.8.12"
  }
 },
 "nbformat": 4,
 "nbformat_minor": 5
}
