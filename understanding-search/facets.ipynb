{
 "cells": [
  {
   "cell_type": "markdown",
   "id": "56258430-ad31-4b1e-87fa-c958acca5643",
   "metadata": {},
   "source": [
    "# Facets"
   ]
  },
  {
   "cell_type": "markdown",
   "id": "6681f268-0ac4-42ca-94a0-465cc21f179c",
   "metadata": {
    "editable": true,
    "slideshow": {
     "slide_type": ""
    },
    "tags": []
   },
   "source": [
    "```{attention}\n",
    "This guide is currently under development. For more information and discussion see [the list of issues](https://github.com/wragge/trove-data-guide/issues) on GitHub. Comments are welcome.\n",
    "```"
   ]
  },
  {
   "cell_type": "markdown",
   "id": "d71426fe-a555-4229-9767-31bd342bb88f",
   "metadata": {},
   "source": [
    "Not sure where this belongs…\n",
    "\n",
    "Note that categories do not supply a full list of formats. It seems that they are filtered (particularly in Image, Sound) to only show those that are ‘relevant’. But if you explicitly search for a facet it will pop up in the list of facets, eg: <https://trove.nla.gov.au/search/category/images?keyword=&l-format=Book> (Book appears in facets) vs <https://trove.nla.gov.au/search/category/images?keyword=> (Book doesn’t appear in facets)\n",
    "\n",
    "Facet numbers don’t add up – relationship between parents and children complex. This is formats from Book category:\n",
    "\n",
    "```\n",
    "Book                      16601754\n",
    "Children                  7887342\n",
    "\n",
    "Article                   7202750\n",
    "Children                  7573654\n",
    "\n",
    "Periodical                1910987\n",
    "Children                  1912653\n",
    "\n",
    "Microform                 949350\n",
    "\n",
    "Conference Proceedings    472856\n",
    "\n",
    "Audio book                317054\n",
    "\n",
    "Government publication    218763\n",
    "\n",
    "Archived website          32983\n",
    "\n",
    "Thesis                    30434\n",
    "\n",
    "Data set                  27\n",
    "```\n",
    "\n",
    "The Book parent contains more than it’s children (which is what you’d expect), but ‘Article’ parent contains fewer. Why?"
   ]
  },
  {
   "cell_type": "markdown",
   "id": "7b2d9fe7-c45c-4c00-9be1-3c6dcb8d39fa",
   "metadata": {},
   "source": [
    "Magazines and newsletters:\n",
    "\n",
    "- difference between `title` and `contribCollection` facets"
   ]
  },
  {
   "cell_type": "code",
   "execution_count": null,
   "id": "e6824281-9321-4b43-a866-f0815998651b",
   "metadata": {},
   "outputs": [],
   "source": []
  }
 ],
 "metadata": {
  "kernelspec": {
   "display_name": "Python 3 (ipykernel)",
   "language": "python",
   "name": "python3"
  },
  "language_info": {
   "codemirror_mode": {
    "name": "ipython",
    "version": 3
   },
   "file_extension": ".py",
   "mimetype": "text/x-python",
   "name": "python",
   "nbconvert_exporter": "python",
   "pygments_lexer": "ipython3",
   "version": "3.8.12"
  }
 },
 "nbformat": 4,
 "nbformat_minor": 5
}
