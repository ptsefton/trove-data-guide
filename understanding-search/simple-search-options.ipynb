{
 "cells": [
  {
   "cell_type": "markdown",
   "id": "8811922a-d04d-41a5-89fa-dcef3835dbc8",
   "metadata": {},
   "source": [
    "# 'Simple' search options"
   ]
  },
  {
   "cell_type": "markdown",
   "id": "62f8f7f6-8aa1-44ae-ad35-dcb7678ae451",
   "metadata": {},
   "source": [
    "```{attention}\n",
    "This guide is currently under development. For more information and discussion see [the list of issues](https://github.com/wragge/trove-data-guide/issues) on GitHub. Comments are welcome.\n",
    "```"
   ]
  },
  {
   "cell_type": "markdown",
   "id": "b755db3b-be8c-42ad-9601-b25f6a2b00a7",
   "metadata": {},
   "source": [
    "<mark>==Include a note about `firstpageseq` and the fact that this will match pages from supplements as well. So supplements need to be filtered out after harvesting. Also note that not all issues start with page 1.==</mark>"
   ]
  },
  {
   "cell_type": "code",
   "execution_count": null,
   "id": "c817297f-e8df-4cc1-b1ec-7dfce9e07965",
   "metadata": {},
   "outputs": [],
   "source": []
  }
 ],
 "metadata": {
  "kernelspec": {
   "display_name": "Python 3 (ipykernel)",
   "language": "python",
   "name": "python3"
  },
  "language_info": {
   "codemirror_mode": {
    "name": "ipython",
    "version": 3
   },
   "file_extension": ".py",
   "mimetype": "text/x-python",
   "name": "python",
   "nbconvert_exporter": "python",
   "pygments_lexer": "ipython3",
   "version": "3.8.12"
  }
 },
 "nbformat": 4,
 "nbformat_minor": 5
}
