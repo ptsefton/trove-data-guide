{
 "cells": [
  {
   "cell_type": "markdown",
   "id": "8811922a-d04d-41a5-89fa-dcef3835dbc8",
   "metadata": {},
   "source": [
    "# 'Simple' search options"
   ]
  },
  {
   "cell_type": "markdown",
   "id": "62f8f7f6-8aa1-44ae-ad35-dcb7678ae451",
   "metadata": {},
   "source": [
    "```{attention}\n",
    "This guide is currently under development. For more information and discussion see [the list of issues](https://github.com/wragge/trove-data-guide/issues) on GitHub. Comments are welcome.\n",
    "```"
   ]
  },
  {
   "cell_type": "markdown",
   "id": "b755db3b-be8c-42ad-9601-b25f6a2b00a7",
   "metadata": {},
   "source": [
    "<mark>==Include a note about `firstpageseq` and the fact that this will match pages from supplements as well. So supplements need to be filtered out after harvesting. Also note that not all issues start with page 1.==</mark>"
   ]
  },
  {
   "cell_type": "markdown",
   "id": "382a8554-33ad-4423-b59f-507557563e26",
   "metadata": {},
   "source": [
    "## Available indexes\n",
    "\n",
    "```{list-table} Available search indexes\n",
    ":header-rows: 1\n",
    ":name: table-available-search indexes\n",
    "* - Index\n",
    "  - Description\n",
    "  - Example\n",
    "  - Notes\n",
    "* - `date`\n",
    "  - Search for articles within a given date range\n",
    "  - Example\n",
    "  - Notes\n",
    "* - `firstpageseq`\n",
    "  - Search for a specific page number\n",
    "  - `firstpageseq:2` – find articles published on page two\n",
    "  - Results combine newspaper body and separately-numbered supplements, so searches can return articles from multiple pages\n",
    "```\n",
    "\n",
    "Note that `fullTextInd` can be misleading and inaccurate -- doesn't always link to fulltext version, text not always available. Can be restricted (eg NED publications) or from a contributor where fulltext links are sometimes wrong. Need to combine with something like \"nla.obj\", and exclude NED, to find digitised resources reliably.\n",
    "\n"
   ]
  },
  {
   "cell_type": "markdown",
   "id": "11117f75-a0bb-44ec-9849-5feac776f275",
   "metadata": {},
   "source": [
    "(search-indexes-firstpageseq)=\n",
    "## Searching for articles on a specific page"
   ]
  },
  {
   "cell_type": "markdown",
   "id": "48cb518c-0924-401a-b8bd-42ed6454a49e",
   "metadata": {},
   "source": [
    "You can use the `firstpageseq` index to search for articles published on a particular page. For example, include `firstpageseq:1` in your query to find articles on page one. This works in both the web interface's simple search box and the `q` value of the API.\n",
    "\n",
    "[![Try it!](https://troveconsole.herokuapp.com/static/img/try-trove-api-console.svg)](https://troveconsole.herokuapp.com/v3/?url=https%3A//api.trove.nla.gov.au/v3/result%3Fq%3Dfirstpageseq%3A1%26category%3Dnewspaper%26encoding%3Djson&comment=)\n",
    "\n",
    "```{warning}\n",
    "Some newspapers include supplements that have their own independent pagination. This means, for example, that an issue could contain multiple pages numbered `1`. The `firstpageseq` index searches *both* the main body of the newspaper *and* any supplements, so the results could include articles published on more than one page within an issue. There's no way of searching just in the main body or in supplements, but you can filter the results after you've retrieved them from the API. Article results include fields labelled `page` and `pageSequence`. The `page` field contains just numbers, but if the page comes from a supplement, the `pageSequence` field will include an `S` after the number. You can use this to keep or discard articles from supplements. [](get-page-identifier-from-search) provides an example of filtering results using the `pageSequence` value.\n",
    "```"
   ]
  },
  {
   "cell_type": "markdown",
   "id": "8bc08559-0a66-49b2-b7b1-13ac7c6ade80",
   "metadata": {},
   "source": [
    "## Searching for articles within a given date range"
   ]
  },
  {
   "cell_type": "code",
   "execution_count": null,
   "id": "b9e383fd-45c2-49bf-8b5e-8cab555124a1",
   "metadata": {},
   "outputs": [],
   "source": []
  }
 ],
 "metadata": {
  "kernelspec": {
   "display_name": "Python 3 (ipykernel)",
   "language": "python",
   "name": "python3"
  },
  "language_info": {
   "codemirror_mode": {
    "name": "ipython",
    "version": 3
   },
   "file_extension": ".py",
   "mimetype": "text/x-python",
   "name": "python",
   "nbconvert_exporter": "python",
   "pygments_lexer": "ipython3",
   "version": "3.8.12"
  }
 },
 "nbformat": 4,
 "nbformat_minor": 5
}
