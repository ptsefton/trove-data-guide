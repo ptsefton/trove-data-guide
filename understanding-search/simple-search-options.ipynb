{
 "cells": [
  {
   "cell_type": "markdown",
   "id": "8811922a-d04d-41a5-89fa-dcef3835dbc8",
   "metadata": {},
   "source": [
    "# 'Simple' search options"
   ]
  },
  {
   "cell_type": "markdown",
   "id": "62f8f7f6-8aa1-44ae-ad35-dcb7678ae451",
   "metadata": {},
   "source": [
    "```{attention}\n",
    "This guide is currently under development. For more information and discussion see [the list of issues](https://github.com/wragge/trove-data-guide/issues) on GitHub. Comments are welcome.\n",
    "```\n"
   ]
  },
  {
   "cell_type": "code",
   "execution_count": null,
   "id": "2fb5d355-fe4a-47b4-9e27-4f266f2ef904",
   "metadata": {},
   "outputs": [],
   "source": []
  }
 ],
 "metadata": {
  "kernelspec": {
   "display_name": "Python 3 (ipykernel)",
   "language": "python",
   "name": "python3"
  },
  "language_info": {
   "codemirror_mode": {
    "name": "ipython",
    "version": 3
   },
   "file_extension": ".py",
   "mimetype": "text/x-python",
   "name": "python",
   "nbconvert_exporter": "python",
   "pygments_lexer": "ipython3",
   "version": "3.8.12"
  }
 },
 "nbformat": 4,
 "nbformat_minor": 5
}
