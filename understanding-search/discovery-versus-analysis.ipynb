{
 "cells": [
  {
   "cell_type": "markdown",
   "id": "25171640-8183-40c9-90f7-aab471749dcd",
   "metadata": {},
   "source": [
    "# Discovery versus analysis"
   ]
  },
  {
   "cell_type": "markdown",
   "id": "bd814e43-6fd6-42e3-97b9-bd20dfd4bde4",
   "metadata": {},
   "source": [
    "```{attention}\n",
    "This guide is currently under development. For more information and discussion see [the list of issues](https://github.com/wragge/trove-data-guide/issues) on GitHub. Comments are welcome.\n",
    "```"
   ]
  },
  {
   "cell_type": "markdown",
   "id": "bfa5f812-5caa-4e99-ae34-eee467db2b88",
   "metadata": {},
   "source": [
    "Need to recognise that the aim of the search indexing is to present the user with items that *could be* of relevance, but this fuzziness might limit the usefulness of search results for analysis. Eg: user-added tags and comments are searched by default. Examine relevance ranking."
   ]
  },
  {
   "cell_type": "code",
   "execution_count": null,
   "id": "a7777e36-bf25-49ed-9aff-b3efec941f96",
   "metadata": {},
   "outputs": [],
   "source": []
  }
 ],
 "metadata": {
  "kernelspec": {
   "display_name": "Python 3 (ipykernel)",
   "language": "python",
   "name": "python3"
  },
  "language_info": {
   "codemirror_mode": {
    "name": "ipython",
    "version": 3
   },
   "file_extension": ".py",
   "mimetype": "text/x-python",
   "name": "python",
   "nbconvert_exporter": "python",
   "pygments_lexer": "ipython3",
   "version": "3.8.12"
  }
 },
 "nbformat": 4,
 "nbformat_minor": 5
}
