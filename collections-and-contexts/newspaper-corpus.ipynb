{
 "cells": [
  {
   "cell_type": "markdown",
   "id": "6fbbb66d-c73e-4475-8a81-952fa3247f6e",
   "metadata": {},
   "source": [
    "# Understanding the newspaper corpus"
   ]
  },
  {
   "cell_type": "markdown",
   "id": "05610035-4c78-4610-ac1c-233186b04c02",
   "metadata": {
    "editable": true,
    "slideshow": {
     "slide_type": ""
    },
    "tags": []
   },
   "source": [
    "```{attention}\n",
    "This guide is currently under development. For more information and discussion see [the list of issues](https://github.com/wragge/trove-data-guide/issues) on GitHub. Comments are welcome.\n",
    "```"
   ]
  },
  {
   "cell_type": "markdown",
   "id": "0e031b2b-c693-498c-8f06-1fe1eab45278",
   "metadata": {},
   "source": [
    "This section will examine the way in which the Trove newspaper corpus has been constructed, and how its contents have changed over time."
   ]
  },
  {
   "cell_type": "markdown",
   "id": "e09cdbef-0315-4e8b-b29d-1c992acdc411",
   "metadata": {},
   "source": [
    "```{tableofcontents}\n",
    "```"
   ]
  },
  {
   "cell_type": "markdown",
   "id": "bf73e817-bdf3-4123-8d4d-773a8291c84c",
   "metadata": {},
   "source": [
    "- Example of a single advertising 'article' that spans multiple pages and includes many individual ads: https://trove.nla.gov.au/newspaper/article/101752752/10453662"
   ]
  }
 ],
 "metadata": {
  "kernelspec": {
   "display_name": "Python 3 (ipykernel)",
   "language": "python",
   "name": "python3"
  },
  "language_info": {
   "codemirror_mode": {
    "name": "ipython",
    "version": 3
   },
   "file_extension": ".py",
   "mimetype": "text/x-python",
   "name": "python",
   "nbconvert_exporter": "python",
   "pygments_lexer": "ipython3",
   "version": "3.8.12"
  }
 },
 "nbformat": 4,
 "nbformat_minor": 5
}
