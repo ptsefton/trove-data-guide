{
 "cells": [
  {
   "cell_type": "markdown",
   "id": "82c99d9d-c0bd-4f14-9b4c-d07c00ff713f",
   "metadata": {},
   "source": [
    "# Digitised manuscripts"
   ]
  },
  {
   "cell_type": "markdown",
   "id": "ab8ab004-31b0-4c9f-9094-a9e9906ef684",
   "metadata": {},
   "source": [
    "```{attention}\n",
    "This guide is currently under development. For more information and discussion see [the list of issues](https://github.com/wragge/trove-data-guide/issues) on GitHub. Comments are welcome.\n",
    "```"
   ]
  },
  {
   "cell_type": "markdown",
   "id": "7c66ff50-4b22-451e-950e-e2b8992b53fa",
   "metadata": {},
   "source": [
    "- What has been digitised?\n",
    "- What is searchable?\n",
    "- Collections, hierarchies, and finding aids"
   ]
  },
  {
   "cell_type": "markdown",
   "id": "6718cc9f-528d-4175-a804-b76ebb907dc9",
   "metadata": {},
   "source": [
    "See the [Trove Unpublished](https://glam-workbench.net/trove-unpublished/) section of the GLAM Workbench."
   ]
  },
  {
   "cell_type": "code",
   "execution_count": null,
   "id": "2ec1b6db-91cd-4d3c-a94b-629e86d92e16",
   "metadata": {},
   "outputs": [],
   "source": []
  }
 ],
 "metadata": {
  "kernelspec": {
   "display_name": "Python 3 (ipykernel)",
   "language": "python",
   "name": "python3"
  },
  "language_info": {
   "codemirror_mode": {
    "name": "ipython",
    "version": 3
   },
   "file_extension": ".py",
   "mimetype": "text/x-python",
   "name": "python",
   "nbconvert_exporter": "python",
   "pygments_lexer": "ipython3",
   "version": "3.8.12"
  }
 },
 "nbformat": 4,
 "nbformat_minor": 5
}
