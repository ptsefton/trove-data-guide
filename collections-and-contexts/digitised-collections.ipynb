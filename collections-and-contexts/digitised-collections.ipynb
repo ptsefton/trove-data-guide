{
 "cells": [
  {
   "cell_type": "markdown",
   "id": "b077feb9-4c33-4f5e-bd96-ea6e0154c2e5",
   "metadata": {},
   "source": [
    "# Digitised collections"
   ]
  },
  {
   "cell_type": "markdown",
   "id": "f5aa7e03-f9a9-4cb9-99c7-f864cb3dc385",
   "metadata": {},
   "source": [
    "```{attention}\n",
    "This guide is currently under development. For more information and discussion see [the list of issues](https://github.com/wragge/trove-data-guide/issues) on GitHub. Comments are welcome.\n",
    "```"
   ]
  },
  {
   "cell_type": "markdown",
   "id": "6021b0b8-1296-401f-84d8-5442fec4a54c",
   "metadata": {},
   "source": [
    "This section will explore digitised collections, other than newspapers."
   ]
  },
  {
   "cell_type": "markdown",
   "id": "5993e6f1-ad05-481a-9f31-8e518eabb37b",
   "metadata": {},
   "source": [
    "## Books"
   ]
  },
  {
   "cell_type": "markdown",
   "id": "d519ee02-4a30-4b92-a37a-3a73787fbfaf",
   "metadata": {},
   "source": [
    "- What books have been digitised?\n",
    "- Languages?\n",
    "- Copyright?\n",
    "- OCR?\n",
    "\n",
    "See [Trove Books](https://glam-workbench.net/trove-books/) section of GLAM Workbench."
   ]
  },
  {
   "cell_type": "markdown",
   "id": "ef1eacc3-e579-4ded-b3f6-42810e68bd4b",
   "metadata": {},
   "source": [
    "## Periodicals"
   ]
  },
  {
   "cell_type": "markdown",
   "id": "5cd9f67e-68ce-45e0-acb9-f4ff9be4beb9",
   "metadata": {},
   "source": [
    "## Manuscripts"
   ]
  },
  {
   "cell_type": "markdown",
   "id": "7c66ff50-4b22-451e-950e-e2b8992b53fa",
   "metadata": {},
   "source": [
    "- What has been digitised?\n",
    "- What is searchable?\n",
    "- Collections, hierarchies, and finding aids"
   ]
  },
  {
   "cell_type": "markdown",
   "id": "10dd5c5a-f191-47d8-8e7f-6c5880bcd0c9",
   "metadata": {},
   "source": [
    "## Maps"
   ]
  },
  {
   "cell_type": "markdown",
   "id": "50a5fc54-31fb-48dc-98e5-2ed2cecb356f",
   "metadata": {},
   "source": [
    "- individual and series\n",
    "- digitised\n",
    "- resolution"
   ]
  },
  {
   "cell_type": "markdown",
   "id": "ac20b8b4-2137-450a-a768-92543af933b7",
   "metadata": {},
   "source": [
    "## Oral histories"
   ]
  },
  {
   "cell_type": "markdown",
   "id": "f935b873",
   "metadata": {},
   "source": [
    "- What oral histories are available online?\n",
    "- Metadata?\n",
    "- Restrictions on use\n",
    "- transcripts? audio?\n",
    "\n"
   ]
  },
  {
   "cell_type": "code",
   "execution_count": null,
   "id": "cdc3458e-3847-426f-9387-215753c5466c",
   "metadata": {},
   "outputs": [],
   "source": []
  }
 ],
 "metadata": {
  "kernelspec": {
   "display_name": "Python 3 (ipykernel)",
   "language": "python",
   "name": "python3"
  },
  "language_info": {
   "codemirror_mode": {
    "name": "ipython",
    "version": 3
   },
   "file_extension": ".py",
   "mimetype": "text/x-python",
   "name": "python",
   "nbconvert_exporter": "python",
   "pygments_lexer": "ipython3",
   "version": "3.8.12"
  }
 },
 "nbformat": 4,
 "nbformat_minor": 5
}
