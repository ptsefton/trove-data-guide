{
 "cells": [
  {
   "cell_type": "markdown",
   "id": "b077feb9-4c33-4f5e-bd96-ea6e0154c2e5",
   "metadata": {},
   "source": [
    "# Digitised collections"
   ]
  },
  {
   "cell_type": "markdown",
   "id": "f5aa7e03-f9a9-4cb9-99c7-f864cb3dc385",
   "metadata": {},
   "source": [
    "```{attention}\n",
    "This guide is currently under development. For more information and discussion see [the list of issues](https://github.com/wragge/trove-data-guide/issues) on GitHub. Comments are welcome.\n",
    "```"
   ]
  },
  {
   "cell_type": "markdown",
   "id": "6021b0b8-1296-401f-84d8-5442fec4a54c",
   "metadata": {},
   "source": [
    "This section will explore digitised collections, other than newspapers. "
   ]
  },
  {
   "cell_type": "markdown",
   "id": "b06554c0-8636-4d50-8614-c87be2a6bf07",
   "metadata": {},
   "source": [
    "```{tableofcontents}\n",
    "```"
   ]
  }
 ],
 "metadata": {
  "kernelspec": {
   "display_name": "Python 3 (ipykernel)",
   "language": "python",
   "name": "python3"
  },
  "language_info": {
   "codemirror_mode": {
    "name": "ipython",
    "version": 3
   },
   "file_extension": ".py",
   "mimetype": "text/x-python",
   "name": "python",
   "nbconvert_exporter": "python",
   "pygments_lexer": "ipython3",
   "version": "3.8.12"
  }
 },
 "nbformat": 4,
 "nbformat_minor": 5
}
