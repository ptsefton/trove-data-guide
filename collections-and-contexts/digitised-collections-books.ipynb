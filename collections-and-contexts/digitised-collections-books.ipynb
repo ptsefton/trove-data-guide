{
 "cells": [
  {
   "cell_type": "markdown",
   "id": "ef96a187-afe1-463c-9a60-6583336e2d6b",
   "metadata": {},
   "source": [
    "# Digitised books"
   ]
  },
  {
   "cell_type": "markdown",
   "id": "1d0dd327-1679-4767-8dbc-c68946947924",
   "metadata": {},
   "source": [
    "```{attention}\n",
    "This guide is currently under development. For more information and discussion see [the list of issues](https://github.com/wragge/trove-data-guide/issues) on GitHub. Comments are welcome.\n",
    "```"
   ]
  },
  {
   "cell_type": "markdown",
   "id": "d519ee02-4a30-4b92-a37a-3a73787fbfaf",
   "metadata": {},
   "source": [
    "- What books have been digitised?\n",
    "- Languages?\n",
    "- Copyright?\n",
    "- OCR?\n",
    "\n",
    "See [Trove Books](https://glam-workbench.net/trove-books/) section of GLAM Workbench."
   ]
  },
  {
   "cell_type": "code",
   "execution_count": null,
   "id": "eeca16e9-c3da-466c-a30a-2d8f019ef1f7",
   "metadata": {},
   "outputs": [],
   "source": []
  }
 ],
 "metadata": {
  "kernelspec": {
   "display_name": "Python 3 (ipykernel)",
   "language": "python",
   "name": "python3"
  },
  "language_info": {
   "codemirror_mode": {
    "name": "ipython",
    "version": 3
   },
   "file_extension": ".py",
   "mimetype": "text/x-python",
   "name": "python",
   "nbconvert_exporter": "python",
   "pygments_lexer": "ipython3",
   "version": "3.8.12"
  }
 },
 "nbformat": 4,
 "nbformat_minor": 5
}
