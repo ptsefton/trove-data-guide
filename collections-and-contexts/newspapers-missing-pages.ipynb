{
 "cells": [
  {
   "cell_type": "markdown",
   "id": "cf82d50c-496a-4973-bd93-2266c328f149",
   "metadata": {},
   "source": [
    "# Missing newspaper pages and issues"
   ]
  },
  {
   "cell_type": "markdown",
   "id": "05610035-4c78-4610-ac1c-233186b04c02",
   "metadata": {
    "editable": true,
    "slideshow": {
     "slide_type": ""
    },
    "tags": []
   },
   "source": [
    "```{attention}\n",
    "This guide is currently under development. For more information and discussion see [the list of issues](https://github.com/wragge/trove-data-guide/issues) on GitHub. Comments are welcome.\n",
    "```"
   ]
  }
 ],
 "metadata": {
  "kernelspec": {
   "display_name": "Python 3 (ipykernel)",
   "language": "python",
   "name": "python3"
  },
  "language_info": {
   "codemirror_mode": {
    "name": "ipython",
    "version": 3
   },
   "file_extension": ".py",
   "mimetype": "text/x-python",
   "name": "python",
   "nbconvert_exporter": "python",
   "pygments_lexer": "ipython3",
   "version": "3.8.12"
  }
 },
 "nbformat": 4,
 "nbformat_minor": 5
}
