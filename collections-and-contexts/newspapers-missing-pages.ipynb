{
 "cells": [
  {
   "cell_type": "markdown",
   "id": "cf82d50c-496a-4973-bd93-2266c328f149",
   "metadata": {},
   "source": [
    "# Missing newspaper pages and issues"
   ]
  },
  {
   "cell_type": "markdown",
   "id": "05610035-4c78-4610-ac1c-233186b04c02",
   "metadata": {
    "editable": true,
    "slideshow": {
     "slide_type": ""
    },
    "tags": []
   },
   "source": [
    "```{attention}\n",
    "This guide is currently under development. For more information and discussion see [the list of issues](https://github.com/wragge/trove-data-guide/issues) on GitHub. Comments are welcome.\n",
    "```"
   ]
  },
  {
   "cell_type": "markdown",
   "id": "f6e78cd7-57a7-47dc-88de-992af0054c93",
   "metadata": {},
   "source": [
    "This section will attempt some analysis of missing pages and issues in Trove's newspapers. As of 11 August 2023, I'm running a very long harvest of essentially every article in Trove to try and get an idea of what's missing. This will never be precise, but it should at least provide a baseline and point to specific titles and periods that seem to be more affected.\n",
    "\n",
    "Here's a [quick example using the Canberra Times](https://hcommons.social/@wragge/110845292959103039)."
   ]
  },
  {
   "cell_type": "code",
   "execution_count": null,
   "id": "33c41876-83d8-4367-8d2a-d9cdab5dca3c",
   "metadata": {},
   "outputs": [],
   "source": []
  }
 ],
 "metadata": {
  "kernelspec": {
   "display_name": "Python 3 (ipykernel)",
   "language": "python",
   "name": "python3"
  },
  "language_info": {
   "codemirror_mode": {
    "name": "ipython",
    "version": 3
   },
   "file_extension": ".py",
   "mimetype": "text/x-python",
   "name": "python",
   "nbconvert_exporter": "python",
   "pygments_lexer": "ipython3",
   "version": "3.8.12"
  }
 },
 "nbformat": 4,
 "nbformat_minor": 5
}
