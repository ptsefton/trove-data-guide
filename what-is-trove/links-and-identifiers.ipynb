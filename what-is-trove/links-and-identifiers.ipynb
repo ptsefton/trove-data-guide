{
 "cells": [
  {
   "cell_type": "markdown",
   "id": "f87997dd-5e5a-4c2a-9c60-c70a63a0d080",
   "metadata": {
    "user_expressions": []
   },
   "source": [
    "# Links and identifiers\n",
    "\n",
    "```{attention}\n",
    "This guide is currently under development. For more information and discussion see [the list of issues](https://github.com/wragge/trove-data-guide/issues) on GitHub. Comments are welcome.\n",
    "```"
   ]
  },
  {
   "cell_type": "markdown",
   "id": "8451f92f-fad3-45b0-a4fa-c5799efb2ee5",
   "metadata": {},
   "source": [
    "obj ids can be anything\n",
    "\n",
    "https://nla.gov.au/anbd.bib-an000069848008\n",
    "\n",
    "https://nla.gov.au/nla.cat-vn2761394"
   ]
  },
  {
   "cell_type": "code",
   "execution_count": null,
   "id": "b3bd23cc-430d-4ab1-9a55-f3f09ec586ac",
   "metadata": {},
   "outputs": [],
   "source": []
  }
 ],
 "metadata": {
  "jupytext": {
   "formats": "ipynb,md:myst"
  },
  "kernelspec": {
   "display_name": "Python 3 (ipykernel)",
   "language": "python",
   "name": "python3"
  },
  "language_info": {
   "codemirror_mode": {
    "name": "ipython",
    "version": 3
   },
   "file_extension": ".py",
   "mimetype": "text/x-python",
   "name": "python",
   "nbconvert_exporter": "python",
   "pygments_lexer": "ipython3",
   "version": "3.8.12"
  }
 },
 "nbformat": 4,
 "nbformat_minor": 5
}
