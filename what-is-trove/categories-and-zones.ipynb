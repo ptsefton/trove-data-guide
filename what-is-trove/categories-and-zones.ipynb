{
 "cells": [
  {
   "cell_type": "markdown",
   "id": "6703ef7b-cc49-4923-8a8f-50a314767c60",
   "metadata": {
    "user_expressions": []
   },
   "source": [
    "# Categories and zones\n",
    "\n",
    "```{attention}\n",
    "This guide is currently under development. For more information and discussion see [the list of issues](https://github.com/wragge/trove-data-guide/issues) on GitHub. Comments are welcome.\n",
    "```"
   ]
  },
  {
   "cell_type": "markdown",
   "id": "8a074743-547e-46b0-938b-11cef64bd340",
   "metadata": {
    "tags": [],
    "user_expressions": []
   },
   "source": [
    "Trove’s resources are divided into **categories**. Understanding the nature and content of these categories will help you construct effective searches and access useful data.\n",
    "\n",
    "There are nine categories in Trove:\n",
    "\n",
    "- Books & Libraries\n",
    "- Diaries, Letters & Archives\n",
    "- Images, Maps & Artefacts\n",
    "- Lists\n",
    "- Magazines & Newsletters\n",
    "- Music, Audio & Video\n",
    "- Newspapers & Gazettes\n",
    "- People & Organisations\n",
    "- Research & Reports\n",
    "\n",
    "On the surface they seem to based on the format of resources – books in one category, newspapers in another. But it’s a bit more complicated than that. Categories are determined by the format of a resource, the source of data about the resource, and the way that data is managed within Trove. For example, newspaper articles are obviously in the Newspapers category, but part of the reason is that newspaper articles are added, described, and managed within their own separate system.\n",
    "\n",
    "```{admonition} The mysterious case of the Australian Women's Weekly\n",
    ":class: tip\n",
    "Ever wondered why the *Australian Women’s Weekly* is found in the Newspapers category and not with the Magazines? It’s because when the Women’s Weekly was digitised, the only way for Trove to ingest digitised publications was through the newspapers pipeline. Comparable systems for managing magazines, journals, books, images, and other digitised content came later. \n",
    "```"
   ]
  },
  {
   "cell_type": "markdown",
   "id": "fe52bbff-70ef-4ff3-a4ec-22336dcafffd",
   "metadata": {},
   "source": [
    "## All categories are not the same\n",
    "\n",
    "Broadly speaking, there are two types of categories in Trove: those that aggregate content, in various formats, from range of organisations and sources; and those that are limited to a specific type of resource created or managed by the NLA.\n",
    "\n",
    "Categories that contain aggregated content in a variety of formats:\n",
    "\n",
    "- Books & Libraries\n",
    "- Diaries, Letters &  Archives\n",
    "- Images, Maps & Artefacts\n",
    "- Music, Audio & Video\n",
    "- Research & Reports\n",
    "\n",
    "Categories limited to a specific type of resource:\n",
    "\n",
    "- Lists – created by Trove users\n",
    "- Magazines & Newsletters – digitised periodical articles\n",
    "- Newspapers & Gazettes – digitised newspapers\n",
    "- People & Organisations – identity records\n",
    "- Websites ­– archived copies of born-digital resources\n",
    "\n",
    "Trove being Trove, this distinction is not always clear cut. While newspapers and periodical articles have their own dedicated categories, the rest of the NLA's digitised content (books, maps, photographs etc) are lumped into the general resource pool. The **Magazines & Newsletters** category *almost* exclusively contains articles from periodicals digitised by the NLA, but if you [search for `NOT \"nla.obj\"`](https://trove.nla.gov.au/search/category/magazines?keyword=NOT%20%22nla.obj%22) you'll find a small amount of content from other sources – mostly issues of the *Tattersall's Club Magazine*. And while the 'People & Organisations' category only contains identity records minted by the NLA, these records aggregate and disambiguate data from a number of other sources. Nonetheless, the distinction mostly holds, and it's useful to keep in mind when you start exploring how categories actually work in Trove."
   ]
  },
  {
   "cell_type": "markdown",
   "id": "badb9ce6-3b3c-44a9-9fdb-cd857f8c455a",
   "metadata": {},
   "source": [
    "## Contexts not collections\n",
    "\n",
    "The categories that contain a specific type of resource, such as **Newspapers & Gazettes**, are relatively easy to understand – they operate as distinct collections with clear boundaries. But the categories that contain aggregated content are more complicated, and sometimes confusing.\n",
    "\n",
    "The first thing to note is that individual resources can appear in more than one of these categories. For example, if you search for [\"Tasmanian Mineral Chart Series\"](https://trove.nla.gov.au/search?keyword=title%3A%22Tasmania%20mineral%20chart%20series%22) you'll be presented with the same set of results in both the **Research & Reports** and **Images, Maps & Artefacts** categories. Why does this happen? The clue is in the formats of the matched resources – all of them are described both as `Map` and `Government publication`. Unsuprisingly, resources with the format `Map` end up in the **Images, Maps & Artefacts** category. But those described as `Government publication` are routed to **Research & Reports**. Rather than choosing between competing categories, Trove adds them to both.\n",
    "\n",
    "Similarly, a [search for the book *Atlas of Australia with all the gold regions*](https://trove.nla.gov.au/search?keyword=title%3A%22Atlas%20of%20Australia%20with%20all%20the%20gold%20regions%22) returns five results in **Books & Libraries**, with three of those results duplicated in **Images, Maps & Artefacts**. All of them have the format `Book`, but the three in **Images, Maps & Artefacts** also have the format `Map`.\n",
    "\n",
    "There are many examples where resources have multiple, competing formats: \n",
    "\n",
    "- 3,000 resources are both `Book` (Books & Libraries) and `Art work` (Images, Maps & Artefacts)\n",
    "- 22,000 resources are `Government publication` (Research & Reports) and `Video` (Music, Audio & Video)\n",
    "- 1,000 resources are `Object` (Images, Maps & Artefacts) and `Unpublished` (Diaries, Letters &  Archives)\n",
    "\n",
    "These overlaps become even more complex when mixed with Trove's [grouping of works and versions](works-and-versions).\n",
    "\n",
    "By duplicating results across categories, Trove is trying to make these resources easier to find, and that's good! The problem really is with the *idea* of 'categories'. Until 2020, Trove's categories were called 'zones', but during the initial design process they were referred to as 'collection views'.{cite:p}`cathroDevelopingTrovePolicy2010` The 'collection view' label provides a much clearer indication of the purpose of these top-level groupings – **they're not collections, they're contexts for discovery**.\n",
    "\n",
    "They key point is that aggregated resources don't really *belong* to a category. You might have noticed that individual work records in both the web interface and the API, don't tell you the category (or categories) that work belongs to. If you have a work record, the only way to find its associated categories is to run a search for it. Categories only make sense when you're searching. They're not buckets of content, they're windows onto a big pool of aggregated resources.\n",
    "\n",
    "<mark>==Note about the implications of working with data. Using the 'all' option with harvests.==</mark>"
   ]
  },
  {
   "cell_type": "markdown",
   "id": "f81c2d49-c9f8-4317-9965-6f8fe0a21bc4",
   "metadata": {},
   "source": [
    "## What ends up where?\n",
    "\n",
    "But how do formats get associated with categories? The following table is included in the [Trove Data Dictionary](https://trove.nla.gov.au/partners/partner-services/contribute/trove-data-dictionary) to help contributors prepare their metadata for ingest. The contents of the `type` field are used to determine categories, with **Books & Libraries** the default destination.\n",
    "\n",
    "| Category                    | Type                                                         |\n",
    "| :-------------------------- | :----------------------------------------------------------- |\n",
    "| Books & Libraries           | archived website, audio book, book, braille, dissertation,  doctorate, ebook, illustrat*, large print, monograph, musical score,  talking book, thesis |\n",
    "| Diaries, Letters & Archives | archiv*, business record, correspondence, financial record, letter, manuscript, personal papers, scrapbook |\n",
    "| Research & Reports          | data set, dataset, thesis, theses                            |\n",
    "| Music, Audio & Video        | audio, audio book, broadcast, broadcast transcript, lecture,  interview, motion picture, moving image, music, oral, radio score, sheet music, sound, speaking, story, talking book, video |\n",
    "| Images, Maps & Artefacts    | cartoon, chart, diagram, drawing, engraving, etching, flash card,  graph, image, ink, lithograph, object, original art work, painting,  pencil, photograph, postcard, poster, sketch, still image, table,  watercolo* , aerial photograph, atlas, globe |\n",
    "\n",
    "```{admonition} Confused about types and formats?\n",
    "Beware that `type` and `format` can have different meanings depending on where you are in Trove! In the web interface, 'Type' is used to distinguish between 'sub categories' such as `Newspaper' and `Gazette`, while 'Format' describes the resource's format. In the API, the format values are in the `type` field, although you use them with the `format` facet. There can also be a separate `format` field in work and version records that contains a physical description. \n",
    "```"
   ]
  },
  {
   "cell_type": "markdown",
   "id": "1beab3b1-f10f-432d-a631-4b7a55355fbe",
   "metadata": {},
   "source": [
    "## Exploring the contents of categories\n",
    "\n",
    "Use `format` facet.\n",
    "\n",
    "Main contributors."
   ]
  },
  {
   "cell_type": "markdown",
   "id": "528d0af0-203f-4c6f-a716-b41563f7fb04",
   "metadata": {},
   "source": [
    "## Working notes\n",
    "\n",
    "Zones were called \"collection views\" in development. More accurate.\n",
    "\n",
    "Exploration of overlaps\n",
    "\n",
    "Contributors per zone (facets, point to more complete data)\n",
    "\n",
    "Research and repositories\n",
    "\n",
    "Note that work records don’t tell you what category they’re in (infer from `type`?). Categories manage searches, they’re (mostly) not collections in themselves. **Categories are contexts for discovery.** \n",
    "\n",
    "Categories affected by `type`, `format`, and also the grouping of versions into works (eg an article and book with the same name and author might be grouped). Also the source.\n",
    "\n",
    "Is research the default for IRs?\n",
    "\n",
    "Newspapers, web archive, and people separate.\n",
    "\n",
    "Note that you can’t combine facet values etc because of overlaps.\n",
    "\n",
    "Categories contain a range of formats that aren’t included in the format facet – eg Book in the magazine category. Can illustrate by searching for `NOT format:”Book”`. They’re less obvious in results but still there.\n",
    "\n",
    "It looks like ‘Book/Illustrated’ for examples doesn’t go into Image. The ones in their seem to have something like ‘Art work’ or ‘map’ included.\n",
    "\n",
    "Also ‘formats’ are actually ‘types’ in the metadata. The format field includes physical description info. Perhaps confusing.\n",
    "\n",
    "So that means the `format` facet doesn’t provide a complete list of formats. It also means you might get formats you don’t expect if you harvest from a category (eg books in images)\n",
    "\n",
    "Oddities:\n",
    "\n",
    "- https://trove.nla.gov.au/work/36446349 – annual reports of the Royal Society of Tasmania, multiple years as ‘editions’, description is taken from one and used across all. API records contain 2 versions for each edition. \n",
    "\n",
    "## Categories\n",
    "\n",
    "\n",
    "\n",
    "\n",
    "\n",
    "But why does [this work](https://troveconsole.herokuapp.com/v3/?url=https%3A%2F%2Fapi.trove.nla.gov.au%2Fv3%2Fwork%2F9439997%3Freclevel%3Dfull%26include%3Dworkversions%2Choldings) show up in Research? No mention of data sets or theses, and not held by an IR. Because it’s a ‘Government publication’?\n",
    "\n",
    "[This record](https://troveconsole.herokuapp.com/v3/?url=https%3A%2F%2Fapi.trove.nla.gov.au%2Fv3%2Fwork%2F81126945%3Freclevel%3Dfull%26include%3Dworkversions) combines a book with a chapter from the book (held in an IR)."
   ]
  },
  {
   "cell_type": "code",
   "execution_count": null,
   "id": "a63c2c9a-010a-4a5a-ae9b-4b1274c61f26",
   "metadata": {},
   "outputs": [],
   "source": []
  }
 ],
 "metadata": {
  "jupytext": {
   "formats": "ipynb,md:myst"
  },
  "kernelspec": {
   "display_name": "Python 3 (ipykernel)",
   "language": "python",
   "name": "python3"
  },
  "language_info": {
   "codemirror_mode": {
    "name": "ipython",
    "version": 3
   },
   "file_extension": ".py",
   "mimetype": "text/x-python",
   "name": "python",
   "nbconvert_exporter": "python",
   "pygments_lexer": "ipython3",
   "version": "3.8.12"
  }
 },
 "nbformat": 4,
 "nbformat_minor": 5
}
