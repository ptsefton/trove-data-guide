{
 "cells": [
  {
   "cell_type": "markdown",
   "id": "6703ef7b-cc49-4923-8a8f-50a314767c60",
   "metadata": {
    "user_expressions": []
   },
   "source": [
    "# Categories and zones\n",
    "\n",
    "```{attention}\n",
    "This guide is currently under development. For more information and discussion see [the list of issues](https://github.com/wragge/trove-data-guide/issues) on GitHub. Comments are welcome.\n",
    "```"
   ]
  },
  {
   "cell_type": "markdown",
   "id": "8a074743-547e-46b0-938b-11cef64bd340",
   "metadata": {
    "tags": [],
    "user_expressions": []
   },
   "source": [
    "Trove’s resources are divided into **categories**. Understanding the nature and content of these categories will help you construct effective searches and access useful data.\n",
    "\n",
    "There are nine categories in Trove:\n",
    "\n",
    "- Books and libraries\n",
    "- Diaries, letters and archives\n",
    "- Images, maps and artefacts\n",
    "- Magazines and newsletters\n",
    "- Music, audio and video\n",
    "- Newspapers and gazettes\n",
    "- People and organisations\n",
    "- Research and reports\n",
    "- Websites\n",
    "\n",
    "On the surface they seem to based on the format of resources – books in one category, newspapers in another. But it’s a bit more complicated than that. Categories are determined both by the format of a resource and the way data about that resource is managed within Trove. For example, newspaper articles are obviously in the Newspapers category, but part of the reason is that newspaper articles are added, described, and managed within their own separate system.\n",
    "\n",
    "```{admonition} The mysterious case of the Australian Women's Weekly\n",
    ":class: tip\n",
    "Ever wondered why the *Australian Women’s Weekly* is found in the Newspapers category and not with the Magazines? It’s because when the Women’s Weekly was digitised, the only way for Trove to ingest digitised publications was through the newspapers pipeline. Systems for managing magazines, journals, books, images, and other digitised content came later. \n",
    "```"
   ]
  },
  {
   "cell_type": "markdown",
   "id": "528d0af0-203f-4c6f-a716-b41563f7fb04",
   "metadata": {},
   "source": [
    "## Working notes\n",
    "\n",
    "Zones were called \"collection views\" in development. More accurate.\n",
    "\n",
    "Exploration of overlaps\n",
    "\n",
    "Contributors per zone (facets, point to more complete data)\n",
    "\n",
    "Research and repositories\n",
    "\n",
    "Note that work records don’t tell you what category they’re in (infer from `type`?). Categories manage searches, they’re (mostly) not collections in themselves. **Categories are contexts for discovery.** \n",
    "\n",
    "Categories affected by `type`, `format`, and also the grouping of versions into works (eg an article and book with the same name and author might be grouped). Also the source.\n",
    "\n",
    "Is research the default for IRs?\n",
    "\n",
    "Newspapers, web archive, and people separate.\n",
    "\n",
    "Note that you can’t combine facet values etc because of overlaps.\n",
    "\n",
    "Categories contain a range of formats that aren’t included in the format facet – eg Book in the magazine category. Can illustrate by searching for `NOT format:”Book”`. They’re less obvious in results but still there.\n",
    "\n",
    "It looks like ‘Book/Illustrated’ for examples doesn’t go into Image. The ones in their seem to have something like ‘Art work’ or ‘map’ included.\n",
    "\n",
    "Also ‘formats’ are actually ‘types’ in the metadata. The format field includes physical description info. Perhaps confusing.\n",
    "\n",
    "So that means the `format` facet doesn’t provide a complete list of formats. It also means you might get formats you don’t expect if you harvest from a category (eg books in images)\n",
    "\n",
    "Oddities:\n",
    "\n",
    "- https://trove.nla.gov.au/work/36446349 – annual reports of the Royal Society of Tasmania, multiple years as ‘editions’, description is taken from one and used across all. API records contain 2 versions for each edition. \n",
    "\n",
    "## Categories\n",
    "\n",
    "Books & libraries is the default, then use type.\n",
    "\n",
    "| Category                    | Type                                                         |\n",
    "| :-------------------------- | :----------------------------------------------------------- |\n",
    "| Books & Libraries           | archived website, audio book, book, braille, dissertation,  doctorate, ebook, illustrat*, large print, monograph, musical score,  talking book, thesis |\n",
    "| Diaries, Letters & Archives | archiv*, business record, correspondence, financial record, letter, manuscript, personal papers, scrapbook |\n",
    "| Research & Reports          | data set, dataset, thesis, theses                            |\n",
    "| Music, Audio & Video        | audio, audio book, broadcast, broadcast transcript, lecture,  interview, motion picture, moving image, music, oral, radio score, sheet music, sound, speaking, story, talking book, video |\n",
    "| Images, Maps & Artefacts    | cartoon, chart, diagram, drawing, engraving, etching, flash card,  graph, image, ink, lithograph, object, original art work, painting,  pencil, photograph, postcard, poster, sketch, still image, table,  watercolo* , aerial photograph, atlas, globe |\n",
    "\n",
    "– from [Trove Data Dictionary](https://trove.nla.gov.au/partners/partner-services/contribute/trove-data-dictionary)  \n",
    "\n",
    "\n",
    "\n",
    "But why does [this work](https://troveconsole.herokuapp.com/v3/?url=https%3A%2F%2Fapi.trove.nla.gov.au%2Fv3%2Fwork%2F9439997%3Freclevel%3Dfull%26include%3Dworkversions%2Choldings) show up in Research? No mention of data sets or theses, and not held by an IR. Because it’s a ‘Government publication’?\n",
    "\n",
    "[This record](https://troveconsole.herokuapp.com/v3/?url=https%3A%2F%2Fapi.trove.nla.gov.au%2Fv3%2Fwork%2F81126945%3Freclevel%3Dfull%26include%3Dworkversions) combines a book with a chapter from the book (held in an IR)."
   ]
  },
  {
   "cell_type": "code",
   "execution_count": null,
   "id": "a63c2c9a-010a-4a5a-ae9b-4b1274c61f26",
   "metadata": {},
   "outputs": [],
   "source": []
  }
 ],
 "metadata": {
  "jupytext": {
   "formats": "ipynb,md:myst"
  },
  "kernelspec": {
   "display_name": "Python 3 (ipykernel)",
   "language": "python",
   "name": "python3"
  },
  "language_info": {
   "codemirror_mode": {
    "name": "ipython",
    "version": 3
   },
   "file_extension": ".py",
   "mimetype": "text/x-python",
   "name": "python",
   "nbconvert_exporter": "python",
   "pygments_lexer": "ipython3",
   "version": "3.8.12"
  }
 },
 "nbformat": 4,
 "nbformat_minor": 5
}
