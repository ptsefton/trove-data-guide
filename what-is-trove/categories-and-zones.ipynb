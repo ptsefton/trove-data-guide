{
 "cells": [
  {
   "cell_type": "markdown",
   "id": "6703ef7b-cc49-4923-8a8f-50a314767c60",
   "metadata": {
    "user_expressions": []
   },
   "source": [
    "# Categories and zones\n",
    "\n",
    "```{attention}\n",
    "This guide is currently under development. For more information and discussion see [the list of issues](https://github.com/wragge/trove-data-guide/issues) on GitHub. Comments are welcome.\n",
    "```\n",
    "\n",
    "```{tableofcontents}\n",
    "```"
   ]
  },
  {
   "cell_type": "markdown",
   "id": "8a074743-547e-46b0-938b-11cef64bd340",
   "metadata": {
    "tags": [],
    "user_expressions": []
   },
   "source": [
    "Trove’s resources are divided into **categories**. Understanding the nature and content of these categories will help you construct effective searches and access useful data.\n",
    "\n",
    "There are nine categories in Trove:\n",
    "\n",
    "- Books and libraries\n",
    "- Diaries, letters and archives\n",
    "- Images, maps and artefacts\n",
    "- Magazines and newsletters\n",
    "- Music, audio and video\n",
    "- Newspapers and gazettes\n",
    "- People and organisations\n",
    "- Research and reports\n",
    "- Websites\n",
    "\n",
    "On the surface they seem to based on the format of resources – books in one category, newspapers in another. But it’s a bit more complicated than that. Categories are determined both by the format of a resource and the way data about that resource is managed within Trove. For example, newspaper articles are obviously in the Newspapers category, but part of the reason is that newspaper articles are added, described, and managed within their own separate system.\n",
    "\n",
    "```{admonition} The mysterious case of the Australian Women's Weekly\n",
    ":class: tip\n",
    "Ever wondered why the *Australian Women’s Weekly* is found in the Newspapers category and not with the Magazines? It’s because when the Women’s Weekly was digitised, the only way for Trove to ingest digitised publications was through the newspapers pipeline. Systems for managing magazines, journals, books, images, and other digitised content came later. \n",
    "```\n"
   ]
  },
  {
   "cell_type": "code",
   "execution_count": null,
   "id": "b29154c7-c9a8-4e3e-add5-8cd65e225bc7",
   "metadata": {},
   "outputs": [],
   "source": []
  }
 ],
 "metadata": {
  "jupytext": {
   "formats": "ipynb,md:myst"
  },
  "kernelspec": {
   "display_name": "Python 3 (ipykernel)",
   "language": "python",
   "name": "python3"
  },
  "language_info": {
   "codemirror_mode": {
    "name": "ipython",
    "version": 3
   },
   "file_extension": ".py",
   "mimetype": "text/x-python",
   "name": "python",
   "nbconvert_exporter": "python",
   "pygments_lexer": "ipython3",
   "version": "3.8.12"
  }
 },
 "nbformat": 4,
 "nbformat_minor": 5
}
