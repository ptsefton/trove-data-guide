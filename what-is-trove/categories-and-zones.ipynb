{
 "cells": [
  {
   "cell_type": "markdown",
   "id": "6703ef7b-cc49-4923-8a8f-50a314767c60",
   "metadata": {
    "user_expressions": []
   },
   "source": [
    "# Categories and zones\n",
    "\n",
    "```{attention}\n",
    "This guide is currently under development. For more information and discussion see [the list of issues](https://github.com/wragge/trove-data-guide/issues) on GitHub. Comments are welcome.\n",
    "```"
   ]
  },
  {
   "cell_type": "code",
   "execution_count": 1,
   "id": "ba17632c-e07a-4cbb-aafd-cd520abcf873",
   "metadata": {},
   "outputs": [
    {
     "data": {
      "text/plain": [
       "True"
      ]
     },
     "execution_count": 1,
     "metadata": {},
     "output_type": "execute_result"
    }
   ],
   "source": [
    "import os\n",
    "import time\n",
    "\n",
    "import altair as alt\n",
    "import pandas as pd\n",
    "import requests\n",
    "from dotenv import load_dotenv\n",
    "from IPython.display import JSON\n",
    "\n",
    "load_dotenv()"
   ]
  },
  {
   "cell_type": "code",
   "execution_count": 2,
   "id": "dca90201-019a-4735-a61f-cd8c9da053f3",
   "metadata": {},
   "outputs": [],
   "source": [
    "YOUR_API_KEY = os.getenv(\"TROVE_API_KEY\")"
   ]
  },
  {
   "cell_type": "markdown",
   "id": "8a074743-547e-46b0-938b-11cef64bd340",
   "metadata": {
    "tags": [],
    "user_expressions": []
   },
   "source": [
    "Trove’s resources are divided into **categories**. Understanding the nature and content of these categories will help you construct effective searches and access useful data.\n",
    "\n",
    "There are ten categories in Trove:\n",
    "\n",
    "- Books & Libraries\n",
    "- Diaries, Letters & Archives\n",
    "- Images, Maps & Artefacts\n",
    "- Lists\n",
    "- Magazines & Newsletters\n",
    "- Music, Audio & Video\n",
    "- Newspapers & Gazettes\n",
    "- People & Organisations\n",
    "- Research & Reports\n",
    "- Websites\n",
    "\n",
    "On the surface they seem to based on the format of resources – books in one category, newspapers in another. But it’s a bit more complicated than that. Categories are determined by the format of a resource, the source of data about the resource, and the way that data is managed within Trove. For example, newspaper articles are obviously in the Newspapers category, but part of the reason is that newspaper articles are added, described, and managed within their own separate system.\n",
    "\n",
    "```{admonition} The mysterious case of the Australian Women's Weekly\n",
    ":class: tip\n",
    "Ever wondered why the *Australian Women’s Weekly* is found in the Newspapers category and not with the Magazines? It’s because when the Women’s Weekly was digitised, the only way for Trove to ingest digitised publications was through the newspapers pipeline. Comparable systems for managing magazines, journals, books, images, and other digitised content came later. \n",
    "```"
   ]
  },
  {
   "cell_type": "markdown",
   "id": "fe52bbff-70ef-4ff3-a4ec-22336dcafffd",
   "metadata": {},
   "source": [
    "(all-categories-not-the-same)=\n",
    "## All categories are not the same\n",
    "\n",
    "Broadly speaking, there are two types of categories in Trove: those that aggregate content, in various formats, from range of organisations and sources; and those that are limited to a specific type of resource created or managed by the NLA.\n",
    "\n",
    "Categories that contain aggregated content in a variety of formats:\n",
    "\n",
    "- Books & Libraries\n",
    "- Diaries, Letters &  Archives\n",
    "- Images, Maps & Artefacts\n",
    "- Music, Audio & Video\n",
    "- Research & Reports\n",
    "\n",
    "Categories limited to a specific type of resource:\n",
    "\n",
    "- Lists – created by Trove users\n",
    "- Magazines & Newsletters – digitised periodical articles\n",
    "- Newspapers & Gazettes – digitised newspapers\n",
    "- People & Organisations – identity records\n",
    "- Websites ­– archived copies of born-digital resources\n",
    "\n",
    "Trove being Trove, this distinction is not always clear cut. While newspapers and periodical articles have their own dedicated categories, the rest of the NLA's digitised content (books, maps, photographs etc) are lumped into the general resource pool. The **Magazines & Newsletters** category *almost* exclusively contains articles from periodicals digitised by the NLA, but if you [search for `NOT \"nla.obj\"`](https://trove.nla.gov.au/search/category/magazines?keyword=NOT%20%22nla.obj%22) you'll find a small amount of content from other sources – mostly issues of the *Tattersall's Club Magazine*. And while the 'People & Organisations' category only contains identity records minted by the NLA, these records aggregate and disambiguate data from a number of other sources. Nonetheless, the distinction mostly holds, and it's useful to keep in mind when you start exploring how categories actually work in Trove."
   ]
  },
  {
   "cell_type": "markdown",
   "id": "badb9ce6-3b3c-44a9-9fdb-cd857f8c455a",
   "metadata": {},
   "source": [
    "(contexts-not-collections)=\n",
    "## Contexts not collections\n",
    "\n",
    "The categories that contain a specific type of resource, such as **Newspapers & Gazettes**, are relatively easy to understand – they operate as distinct collections with clear boundaries. But the categories that contain aggregated content are more complicated, and sometimes confusing.\n",
    "\n",
    "The first thing to note is that individual resources can appear in more than one of these categories. For example, if you search for [\"Tasmanian Mineral Chart Series\"](https://trove.nla.gov.au/search?keyword=title%3A%22Tasmania%20mineral%20chart%20series%22) you'll be presented with the same set of results in both the **Research & Reports** and **Images, Maps & Artefacts** categories. Why does this happen? The clue is in the formats of the matched resources – all of them are described both as `Map` and `Government publication`. Unsuprisingly, resources with the format `Map` end up in the **Images, Maps & Artefacts** category. But those described as `Government publication` are routed to **Research & Reports**. Rather than choosing between competing categories, Trove adds them to both.\n",
    "\n",
    "Similarly, a [search for the book *Atlas of Australia with all the gold regions*](https://trove.nla.gov.au/search?keyword=title%3A%22Atlas%20of%20Australia%20with%20all%20the%20gold%20regions%22) returns five results in **Books & Libraries**, with three of those results duplicated in **Images, Maps & Artefacts**. All of them have the format `Book`, but the three in **Images, Maps & Artefacts** also have the format `Map`.\n",
    "\n",
    "There are many examples where resources have multiple, competing formats: \n",
    "\n",
    "- 3,000 resources are both `Book` (Books & Libraries) and `Art work` (Images, Maps & Artefacts)\n",
    "- 22,000 resources are `Government publication` (Research & Reports) and `Video` (Music, Audio & Video)\n",
    "- 1,000 resources are `Object` (Images, Maps & Artefacts) and `Unpublished` (Diaries, Letters &  Archives)\n",
    "\n",
    "These overlaps become even more complex when mixed with Trove's [grouping of works and versions](works-and-versions).\n",
    "\n",
    "By duplicating results across categories, Trove is trying to make these resources easier to find, and that's good! The problem really is with the *idea* of 'categories'. Until 2020, Trove's categories were called 'zones', but during the initial design process they were referred to as 'collection views'.{cite:p}`cathroDevelopingTrovePolicy2010` The 'collection view' label provides a much clearer indication of the purpose of these top-level groupings – **they're not collections, they're contexts for discovery**.\n",
    "\n",
    "They key point is that aggregated resources don't really *belong* to a category. You might have noticed that individual work records in both the web interface and the API, don't tell you the category (or categories) that work belongs to. If you have a work record, the only way to find its associated categories is to run a search for it. Categories only make sense when you're searching. They're not buckets of content, they're windows onto a big pool of aggregated resources.\n",
    "\n",
    "<mark>==Note about the implications of working with data. Using the 'all' option with harvests.==</mark>"
   ]
  },
  {
   "cell_type": "markdown",
   "id": "f81c2d49-c9f8-4317-9965-6f8fe0a21bc4",
   "metadata": {},
   "source": [
    "## What ends up where?\n",
    "\n",
    "But how do formats get associated with categories? The following table is included in the [Trove Data Dictionary](https://trove.nla.gov.au/partners/partner-services/contribute/trove-data-dictionary) to help contributors prepare their metadata for ingest. The contents of the `type` field are used to determine categories, with **Books & Libraries** the default destination.\n",
    "\n",
    "| Category                    | Type                                                         |\n",
    "| :-------------------------- | :----------------------------------------------------------- |\n",
    "| Books & Libraries           | archived website, audio book, book, braille, dissertation,  doctorate, ebook, illustrat*, large print, monograph, musical score,  talking book, thesis |\n",
    "| Diaries, Letters & Archives | archiv*, business record, correspondence, financial record, letter, manuscript, personal papers, scrapbook |\n",
    "| Research & Reports          | data set, dataset, thesis, theses                            |\n",
    "| Music, Audio & Video        | audio, audio book, broadcast, broadcast transcript, lecture,  interview, motion picture, moving image, music, oral, radio score, sheet music, sound, speaking, story, talking book, video |\n",
    "| Images, Maps & Artefacts    | cartoon, chart, diagram, drawing, engraving, etching, flash card,  graph, image, ink, lithograph, object, original art work, painting,  pencil, photograph, postcard, poster, sketch, still image, table,  watercolo* , aerial photograph, atlas, globe |\n",
    "\n",
    "```{admonition} Confused about types and formats?\n",
    "Beware that `type` and `format` can have different meanings depending on where you are in Trove! In the web interface, the facet headed 'Type' is used to distinguish between 'sub categories' such as `newspaper` and `gazette`, while 'Format' describes the resource's format. In the API, the format values are in the `type` field, although you use them with the `format` facet! There can also be a separate `format` field in work and version records that contains a physical description. \n",
    "```\n",
    "\n",
    "Table misses things like articles and gov publications which seem to go to research"
   ]
  },
  {
   "cell_type": "markdown",
   "id": "9cc96580-1588-416a-8bca-f8a72bc013d0",
   "metadata": {},
   "source": [
    "## From zones to categories\n",
    "\n",
    "Trove originally delivered resources through 'zones' rather than 'categories'. Trove's 2020 update introduced 'categories' and redistributed content across them. However, this change only applied to the web interface – the API continued to use zones until the introduction of API version 3 in 2023.\n",
    "\n",
    "```{mermaid}\n",
    "graph LR\n",
    "  Books --> Books & Libraries\n",
    "  Journals -- NLA digitised articles --> Magazines & Newsletters\n",
    "  Journals -- other articles and reports --> Research & Reports\n",
    "  \n",
    "  maps --> image\n",
    "  picture --> image\n",
    "```"
   ]
  },
  {
   "cell_type": "markdown",
   "id": "1beab3b1-f10f-432d-a631-4b7a55355fbe",
   "metadata": {},
   "source": [
    "## Number of resources in each category\n",
    "\n",
    "We can use the Trove API to access data about most categories. For example, here's the total number of resources per category."
   ]
  },
  {
   "cell_type": "code",
   "execution_count": 13,
   "id": "466e5b23-3c6a-4b61-80e6-678625cff352",
   "metadata": {
    "editable": true,
    "slideshow": {
     "slide_type": ""
    },
    "tags": [
     "hide-input"
    ]
   },
   "outputs": [
    {
     "data": {
      "text/html": [
       "<style type=\"text/css\">\n",
       "</style>\n",
       "<table id=\"T_2c151\">\n",
       "  <thead>\n",
       "    <tr>\n",
       "      <th id=\"T_2c151_level0_col0\" class=\"col_heading level0 col0\" >category</th>\n",
       "      <th id=\"T_2c151_level0_col1\" class=\"col_heading level0 col1\" >total</th>\n",
       "    </tr>\n",
       "  </thead>\n",
       "  <tbody>\n",
       "    <tr>\n",
       "      <td id=\"T_2c151_row0_col0\" class=\"data row0 col0\" >Books & Libraries</td>\n",
       "      <td id=\"T_2c151_row0_col1\" class=\"data row0 col1\" >26,837,592</td>\n",
       "    </tr>\n",
       "    <tr>\n",
       "      <td id=\"T_2c151_row1_col0\" class=\"data row1 col0\" >Diaries, Letters & Archives</td>\n",
       "      <td id=\"T_2c151_row1_col1\" class=\"data row1 col1\" >5,055,072</td>\n",
       "    </tr>\n",
       "    <tr>\n",
       "      <td id=\"T_2c151_row2_col0\" class=\"data row2 col0\" >Images, Maps & Artefacts</td>\n",
       "      <td id=\"T_2c151_row2_col1\" class=\"data row2 col1\" >5,958,296</td>\n",
       "    </tr>\n",
       "    <tr>\n",
       "      <td id=\"T_2c151_row3_col0\" class=\"data row3 col0\" >Lists</td>\n",
       "      <td id=\"T_2c151_row3_col1\" class=\"data row3 col1\" >110,069</td>\n",
       "    </tr>\n",
       "    <tr>\n",
       "      <td id=\"T_2c151_row4_col0\" class=\"data row4 col0\" >Magazines & Newsletters</td>\n",
       "      <td id=\"T_2c151_row4_col1\" class=\"data row4 col1\" >1,807,848</td>\n",
       "    </tr>\n",
       "    <tr>\n",
       "      <td id=\"T_2c151_row5_col0\" class=\"data row5 col0\" >Music, Audio & Video</td>\n",
       "      <td id=\"T_2c151_row5_col1\" class=\"data row5 col1\" >3,289,271</td>\n",
       "    </tr>\n",
       "    <tr>\n",
       "      <td id=\"T_2c151_row6_col0\" class=\"data row6 col0\" >Newspapers & Gazettes</td>\n",
       "      <td id=\"T_2c151_row6_col1\" class=\"data row6 col1\" >245,547,193</td>\n",
       "    </tr>\n",
       "    <tr>\n",
       "      <td id=\"T_2c151_row7_col0\" class=\"data row7 col0\" >People & Organisations</td>\n",
       "      <td id=\"T_2c151_row7_col1\" class=\"data row7 col1\" >1,324,436</td>\n",
       "    </tr>\n",
       "    <tr>\n",
       "      <td id=\"T_2c151_row8_col0\" class=\"data row8 col0\" >Research & Reports</td>\n",
       "      <td id=\"T_2c151_row8_col1\" class=\"data row8 col1\" >5,516,852</td>\n",
       "    </tr>\n",
       "  </tbody>\n",
       "</table>\n"
      ],
      "text/plain": [
       "<pandas.io.formats.style.Styler at 0x7fe03c6923d0>"
      ]
     },
     "execution_count": 13,
     "metadata": {},
     "output_type": "execute_result"
    }
   ],
   "source": [
    "import pandas as pd\n",
    "import requests\n",
    "\n",
    "headers = {\"X-API-KEY\": YOUR_API_KEY}\n",
    "params = {\n",
    "    \"category\": \"all\",  # By setting category to all, we get data from all categories\n",
    "    \"n\": 0,\n",
    "    \"encoding\": \"json\",\n",
    "}\n",
    "\n",
    "response = requests.get(\n",
    "    \"https://api.trove.nla.gov.au/v3/result\", params=params, headers=headers\n",
    ")\n",
    "data = response.json()\n",
    "\n",
    "# Get name and total results from each category\n",
    "categories = [\n",
    "    {\"category\": c[\"name\"], \"total\": c[\"records\"][\"total\"]} for c in data[\"category\"]\n",
    "]\n",
    "\n",
    "# Convert to a Pandas DataFrame\n",
    "df_cats = pd.DataFrame(categories)\n",
    "\n",
    "# Display as a table\n",
    "df_cats.style.format(thousands=\",\").hide()"
   ]
  },
  {
   "cell_type": "code",
   "execution_count": 14,
   "id": "1e9f4f72-98c6-4a4f-8f3a-dc8a118e1a65",
   "metadata": {
    "editable": true,
    "slideshow": {
     "slide_type": ""
    },
    "tags": [
     "hide-input"
    ]
   },
   "outputs": [
    {
     "data": {
      "text/html": [
       "\n",
       "<style>\n",
       "  #altair-viz-60f6fc5acf234f418d7008ca497ab45a.vega-embed {\n",
       "    width: 100%;\n",
       "    display: flex;\n",
       "  }\n",
       "\n",
       "  #altair-viz-60f6fc5acf234f418d7008ca497ab45a.vega-embed details,\n",
       "  #altair-viz-60f6fc5acf234f418d7008ca497ab45a.vega-embed details summary {\n",
       "    position: relative;\n",
       "  }\n",
       "</style>\n",
       "<div id=\"altair-viz-60f6fc5acf234f418d7008ca497ab45a\"></div>\n",
       "<script type=\"text/javascript\">\n",
       "  var VEGA_DEBUG = (typeof VEGA_DEBUG == \"undefined\") ? {} : VEGA_DEBUG;\n",
       "  (function(spec, embedOpt){\n",
       "    let outputDiv = document.currentScript.previousElementSibling;\n",
       "    if (outputDiv.id !== \"altair-viz-60f6fc5acf234f418d7008ca497ab45a\") {\n",
       "      outputDiv = document.getElementById(\"altair-viz-60f6fc5acf234f418d7008ca497ab45a\");\n",
       "    }\n",
       "    const paths = {\n",
       "      \"vega\": \"https://cdn.jsdelivr.net/npm/vega@5?noext\",\n",
       "      \"vega-lib\": \"https://cdn.jsdelivr.net/npm/vega-lib?noext\",\n",
       "      \"vega-lite\": \"https://cdn.jsdelivr.net/npm/vega-lite@5.8.0?noext\",\n",
       "      \"vega-embed\": \"https://cdn.jsdelivr.net/npm/vega-embed@6?noext\",\n",
       "    };\n",
       "\n",
       "    function maybeLoadScript(lib, version) {\n",
       "      var key = `${lib.replace(\"-\", \"\")}_version`;\n",
       "      return (VEGA_DEBUG[key] == version) ?\n",
       "        Promise.resolve(paths[lib]) :\n",
       "        new Promise(function(resolve, reject) {\n",
       "          var s = document.createElement('script');\n",
       "          document.getElementsByTagName(\"head\")[0].appendChild(s);\n",
       "          s.async = true;\n",
       "          s.onload = () => {\n",
       "            VEGA_DEBUG[key] = version;\n",
       "            return resolve(paths[lib]);\n",
       "          };\n",
       "          s.onerror = () => reject(`Error loading script: ${paths[lib]}`);\n",
       "          s.src = paths[lib];\n",
       "        });\n",
       "    }\n",
       "\n",
       "    function showError(err) {\n",
       "      outputDiv.innerHTML = `<div class=\"error\" style=\"color:red;\">${err}</div>`;\n",
       "      throw err;\n",
       "    }\n",
       "\n",
       "    function displayChart(vegaEmbed) {\n",
       "      vegaEmbed(outputDiv, spec, embedOpt)\n",
       "        .catch(err => showError(`Javascript Error: ${err.message}<br>This usually means there's a typo in your chart specification. See the javascript console for the full traceback.`));\n",
       "    }\n",
       "\n",
       "    if(typeof define === \"function\" && define.amd) {\n",
       "      requirejs.config({paths});\n",
       "      require([\"vega-embed\"], displayChart, err => showError(`Error loading script: ${err.message}`));\n",
       "    } else {\n",
       "      maybeLoadScript(\"vega\", \"5\")\n",
       "        .then(() => maybeLoadScript(\"vega-lite\", \"5.8.0\"))\n",
       "        .then(() => maybeLoadScript(\"vega-embed\", \"6\"))\n",
       "        .catch(showError)\n",
       "        .then(() => displayChart(vegaEmbed));\n",
       "    }\n",
       "  })({\"config\": {\"view\": {\"continuousWidth\": 300, \"continuousHeight\": 300}}, \"data\": {\"name\": \"data-840c1a2368a3de01b14584c1726a294e\"}, \"mark\": {\"type\": \"bar\"}, \"encoding\": {\"color\": {\"field\": \"category\", \"legend\": null, \"type\": \"nominal\"}, \"tooltip\": [{\"field\": \"category\", \"type\": \"nominal\"}, {\"field\": \"total\", \"format\": \",d\", \"type\": \"quantitative\"}], \"x\": {\"axis\": {\"format\": \",d\"}, \"field\": \"total\", \"type\": \"quantitative\"}, \"y\": {\"field\": \"category\", \"type\": \"nominal\"}}, \"width\": \"container\", \"$schema\": \"https://vega.github.io/schema/vega-lite/v5.8.0.json\", \"datasets\": {\"data-840c1a2368a3de01b14584c1726a294e\": [{\"category\": \"Books & Libraries\", \"total\": 26837592}, {\"category\": \"Diaries, Letters & Archives\", \"total\": 5055072}, {\"category\": \"Images, Maps & Artefacts\", \"total\": 5958296}, {\"category\": \"Lists\", \"total\": 110069}, {\"category\": \"Magazines & Newsletters\", \"total\": 1807848}, {\"category\": \"Music, Audio & Video\", \"total\": 3289271}, {\"category\": \"Newspapers & Gazettes\", \"total\": 245547193}, {\"category\": \"People & Organisations\", \"total\": 1324436}, {\"category\": \"Research & Reports\", \"total\": 5516852}]}}, {\"mode\": \"vega-lite\"});\n",
       "</script>"
      ],
      "text/plain": [
       "alt.Chart(...)"
      ]
     },
     "execution_count": 14,
     "metadata": {},
     "output_type": "execute_result"
    }
   ],
   "source": [
    "import altair as alt\n",
    "\n",
    "alt.Chart(df_cats).mark_bar().encode(\n",
    "    x=alt.X(\"total:Q\", axis=alt.Axis(format=\",d\")),\n",
    "    y=\"category:N\",\n",
    "    color=alt.Color(\"category:N\", legend=None),\n",
    "    tooltip=[\"category:N\", alt.Tooltip(\"total:Q\", format=\",d\")],\n",
    ").properties(width=\"container\")"
   ]
  },
  {
   "cell_type": "markdown",
   "id": "eb1343cc-08d6-4715-a753-6213f5b0d9a7",
   "metadata": {},
   "source": [
    "Some caution is needed when interpreting these figures. As noted above, there are overlaps between categories so some resources will be counted twice. On the other hand, there'll be resources that are not individually counted because they've been wrongly grouped into a 'work'. The numbers are useful for comparison and in observing trends over time, but they don't accurately represent the number of unique resources described in Trove.\n",
    "\n",
    "There's no data about archived websites available through the main API so it doesn't appear in this chart. If it did, it would dramatically reshape the results as it contains billions of website captures.\n",
    "\n",
    "If you're interested in how these totals change over time, the [trove-zone-totals](https://github.com/wragge/trove-zone-totals) repository harvests and saves the data every week."
   ]
  },
  {
   "cell_type": "markdown",
   "id": "24a05406-c784-48e9-9bed-914404bf24ea",
   "metadata": {
    "editable": true,
    "slideshow": {
     "slide_type": ""
    },
    "tags": []
   },
   "source": [
    "## Distribution of formats across categories\n",
    "\n",
    "You can use the `format` facet to see how different types of resources are grouped within categories. Here's the number of different formats in each category according to the `format` facet."
   ]
  },
  {
   "cell_type": "code",
   "execution_count": 74,
   "id": "a8c8028d-f191-4a6c-94c4-f81030eaa391",
   "metadata": {
    "editable": true,
    "slideshow": {
     "slide_type": ""
    },
    "tags": [
     "hide-input"
    ]
   },
   "outputs": [
    {
     "data": {
      "text/html": [
       "<div>\n",
       "<style scoped>\n",
       "    .dataframe tbody tr th:only-of-type {\n",
       "        vertical-align: middle;\n",
       "    }\n",
       "\n",
       "    .dataframe tbody tr th {\n",
       "        vertical-align: top;\n",
       "    }\n",
       "\n",
       "    .dataframe thead th {\n",
       "        text-align: right;\n",
       "    }\n",
       "</style>\n",
       "<table border=\"1\" class=\"dataframe\">\n",
       "  <thead>\n",
       "    <tr style=\"text-align: right;\">\n",
       "      <th></th>\n",
       "      <th>category_name</th>\n",
       "      <th>format</th>\n",
       "    </tr>\n",
       "  </thead>\n",
       "  <tbody>\n",
       "    <tr>\n",
       "      <th>0</th>\n",
       "      <td>Books &amp; Libraries</td>\n",
       "      <td>23</td>\n",
       "    </tr>\n",
       "    <tr>\n",
       "      <th>1</th>\n",
       "      <td>Diaries, Letters &amp; Archives</td>\n",
       "      <td>3</td>\n",
       "    </tr>\n",
       "    <tr>\n",
       "      <th>2</th>\n",
       "      <td>Images, Maps &amp; Artefacts</td>\n",
       "      <td>15</td>\n",
       "    </tr>\n",
       "    <tr>\n",
       "      <th>3</th>\n",
       "      <td>Lists</td>\n",
       "      <td>1</td>\n",
       "    </tr>\n",
       "    <tr>\n",
       "      <th>4</th>\n",
       "      <td>Magazines &amp; Newsletters</td>\n",
       "      <td>10</td>\n",
       "    </tr>\n",
       "    <tr>\n",
       "      <th>5</th>\n",
       "      <td>Music, Audio &amp; Video</td>\n",
       "      <td>10</td>\n",
       "    </tr>\n",
       "    <tr>\n",
       "      <th>6</th>\n",
       "      <td>Newspapers &amp; Gazettes</td>\n",
       "      <td>1</td>\n",
       "    </tr>\n",
       "    <tr>\n",
       "      <th>7</th>\n",
       "      <td>Research &amp; Reports</td>\n",
       "      <td>21</td>\n",
       "    </tr>\n",
       "  </tbody>\n",
       "</table>\n",
       "</div>"
      ],
      "text/plain": [
       "                 category_name  format\n",
       "0            Books & Libraries      23\n",
       "1  Diaries, Letters & Archives       3\n",
       "2     Images, Maps & Artefacts      15\n",
       "3                        Lists       1\n",
       "4      Magazines & Newsletters      10\n",
       "5         Music, Audio & Video      10\n",
       "6        Newspapers & Gazettes       1\n",
       "7           Research & Reports      21"
      ]
     },
     "execution_count": 74,
     "metadata": {},
     "output_type": "execute_result"
    }
   ],
   "source": [
    "import pandas as pd\n",
    "import requests\n",
    "\n",
    "\n",
    "def get_children(term):\n",
    "    facets = []\n",
    "    for child_term in term[\"term\"]:\n",
    "        facets += get_term(child_term)\n",
    "    return facets\n",
    "\n",
    "\n",
    "def get_term(term):\n",
    "    facets = []\n",
    "    facets.append({\"format\": term[\"search\"], \"total\": int(term[\"count\"])})\n",
    "    if \"term\" in term:\n",
    "        facets += get_children(term)\n",
    "    return facets\n",
    "\n",
    "\n",
    "def get_formats(category):\n",
    "    facets = []\n",
    "    try:\n",
    "        for term in category[\"facets\"][\"facet\"][0][\"term\"]:\n",
    "            facets += get_term(term)\n",
    "    except (KeyError, TypeError):\n",
    "        return []\n",
    "    formats = [\n",
    "        dict(\n",
    "            f, **{\"category_name\": category[\"name\"], \"category_code\": category[\"code\"]}\n",
    "        )\n",
    "        for f in facets\n",
    "    ]\n",
    "    return formats\n",
    "\n",
    "headers = {\"X-API-KEY\": YOUR_API_KEY}\n",
    "\n",
    "params = {\n",
    "    \"q\": \" \",\n",
    "    \"category\": \"all\",\n",
    "    \"encoding\": \"json\",\n",
    "    \"n\": 0,\n",
    "    \"key\": YOUR_API_KEY,\n",
    "    \"facet\": \"format\",\n",
    "}\n",
    "\n",
    "formats = []\n",
    "response = requests.get(\"https://api.trove.nla.gov.au/v3/result\", params=params, headers=headers)\n",
    "data = response.json()\n",
    "for category in data[\"category\"]:\n",
    "    formats += get_formats(category)\n",
    "\n",
    "df_formats = pd.DataFrame(formats)\n",
    "\n",
    "df_formats.loc[df_formats[\"total\"] > 0].groupby(\"category_name\")[\"format\"].nunique().to_frame().reset_index()"
   ]
  },
  {
   "cell_type": "markdown",
   "id": "29698372-88a0-4706-917e-bdddebdf93e4",
   "metadata": {
    "editable": true,
    "slideshow": {
     "slide_type": ""
    },
    "tags": []
   },
   "source": [
    "[Formats in Trove](https://trove.nla.gov.au/about/create-something/using-api/api-technical-guide#formats) are arranged hierarchically, with values such as `Book` and `Article` subdivided into groups like `Book/Illustrated` and `Article/Report`. This chart groups formats by their top-level heading (`Book`, `Article` etc) and displays the mix of formats in each category."
   ]
  },
  {
   "cell_type": "code",
   "execution_count": 75,
   "id": "7a1b1340-24d4-4b25-96be-45f6f8ad62f3",
   "metadata": {
    "editable": true,
    "slideshow": {
     "slide_type": ""
    },
    "tags": [
     "hide-input"
    ]
   },
   "outputs": [
    {
     "data": {
      "text/html": [
       "\n",
       "<style>\n",
       "  #altair-viz-2f814289a2a94a9aae0857b1eb2289b9.vega-embed {\n",
       "    width: 100%;\n",
       "    display: flex;\n",
       "  }\n",
       "\n",
       "  #altair-viz-2f814289a2a94a9aae0857b1eb2289b9.vega-embed details,\n",
       "  #altair-viz-2f814289a2a94a9aae0857b1eb2289b9.vega-embed details summary {\n",
       "    position: relative;\n",
       "  }\n",
       "</style>\n",
       "<div id=\"altair-viz-2f814289a2a94a9aae0857b1eb2289b9\"></div>\n",
       "<script type=\"text/javascript\">\n",
       "  var VEGA_DEBUG = (typeof VEGA_DEBUG == \"undefined\") ? {} : VEGA_DEBUG;\n",
       "  (function(spec, embedOpt){\n",
       "    let outputDiv = document.currentScript.previousElementSibling;\n",
       "    if (outputDiv.id !== \"altair-viz-2f814289a2a94a9aae0857b1eb2289b9\") {\n",
       "      outputDiv = document.getElementById(\"altair-viz-2f814289a2a94a9aae0857b1eb2289b9\");\n",
       "    }\n",
       "    const paths = {\n",
       "      \"vega\": \"https://cdn.jsdelivr.net/npm/vega@5?noext\",\n",
       "      \"vega-lib\": \"https://cdn.jsdelivr.net/npm/vega-lib?noext\",\n",
       "      \"vega-lite\": \"https://cdn.jsdelivr.net/npm/vega-lite@5.8.0?noext\",\n",
       "      \"vega-embed\": \"https://cdn.jsdelivr.net/npm/vega-embed@6?noext\",\n",
       "    };\n",
       "\n",
       "    function maybeLoadScript(lib, version) {\n",
       "      var key = `${lib.replace(\"-\", \"\")}_version`;\n",
       "      return (VEGA_DEBUG[key] == version) ?\n",
       "        Promise.resolve(paths[lib]) :\n",
       "        new Promise(function(resolve, reject) {\n",
       "          var s = document.createElement('script');\n",
       "          document.getElementsByTagName(\"head\")[0].appendChild(s);\n",
       "          s.async = true;\n",
       "          s.onload = () => {\n",
       "            VEGA_DEBUG[key] = version;\n",
       "            return resolve(paths[lib]);\n",
       "          };\n",
       "          s.onerror = () => reject(`Error loading script: ${paths[lib]}`);\n",
       "          s.src = paths[lib];\n",
       "        });\n",
       "    }\n",
       "\n",
       "    function showError(err) {\n",
       "      outputDiv.innerHTML = `<div class=\"error\" style=\"color:red;\">${err}</div>`;\n",
       "      throw err;\n",
       "    }\n",
       "\n",
       "    function displayChart(vegaEmbed) {\n",
       "      vegaEmbed(outputDiv, spec, embedOpt)\n",
       "        .catch(err => showError(`Javascript Error: ${err.message}<br>This usually means there's a typo in your chart specification. See the javascript console for the full traceback.`));\n",
       "    }\n",
       "\n",
       "    if(typeof define === \"function\" && define.amd) {\n",
       "      requirejs.config({paths});\n",
       "      require([\"vega-embed\"], displayChart, err => showError(`Error loading script: ${err.message}`));\n",
       "    } else {\n",
       "      maybeLoadScript(\"vega\", \"5\")\n",
       "        .then(() => maybeLoadScript(\"vega-lite\", \"5.8.0\"))\n",
       "        .then(() => maybeLoadScript(\"vega-embed\", \"6\"))\n",
       "        .catch(showError)\n",
       "        .then(() => displayChart(vegaEmbed));\n",
       "    }\n",
       "  })({\"config\": {\"view\": {\"continuousWidth\": 300, \"continuousHeight\": 300}}, \"data\": {\"name\": \"data-305cc80c3995ac4c6ca54fd03e1b76d1\"}, \"mark\": {\"type\": \"bar\"}, \"encoding\": {\"color\": {\"field\": \"format_group\", \"scale\": {\"scheme\": \"category20\"}, \"title\": \"format\", \"type\": \"nominal\"}, \"tooltip\": [{\"field\": \"format_group\", \"title\": \"format\", \"type\": \"nominal\"}], \"x\": {\"axis\": {\"labels\": false, \"ticks\": false}, \"field\": \"total\", \"stack\": \"normalize\", \"title\": null, \"type\": \"quantitative\"}, \"y\": {\"field\": \"category_name\", \"title\": null, \"type\": \"nominal\"}}, \"height\": 300, \"padding\": 20, \"width\": \"container\", \"$schema\": \"https://vega.github.io/schema/vega-lite/v5.8.0.json\", \"datasets\": {\"data-305cc80c3995ac4c6ca54fd03e1b76d1\": [{\"category_name\": \"Books & Libraries\", \"format_group\": \"Archived website\", \"total\": 33076}, {\"category_name\": \"Books & Libraries\", \"format_group\": \"Article\", \"total\": 15030869}, {\"category_name\": \"Books & Libraries\", \"format_group\": \"Audio book\", \"total\": 319175}, {\"category_name\": \"Books & Libraries\", \"format_group\": \"Book\", \"total\": 24936403}, {\"category_name\": \"Books & Libraries\", \"format_group\": \"Conference Proceedings\", \"total\": 479547}, {\"category_name\": \"Books & Libraries\", \"format_group\": \"Data set\", \"total\": 27}, {\"category_name\": \"Books & Libraries\", \"format_group\": \"Government publication\", \"total\": 222926}, {\"category_name\": \"Books & Libraries\", \"format_group\": \"Microform\", \"total\": 952087}, {\"category_name\": \"Books & Libraries\", \"format_group\": \"Periodical\", \"total\": 3944657}, {\"category_name\": \"Books & Libraries\", \"format_group\": \"Thesis\", \"total\": 35136}, {\"category_name\": \"Diaries, Letters & Archives\", \"format_group\": \"Government publication\", \"total\": 2794}, {\"category_name\": \"Diaries, Letters & Archives\", \"format_group\": \"Published\", \"total\": 271575}, {\"category_name\": \"Diaries, Letters & Archives\", \"format_group\": \"Unpublished\", \"total\": 4783349}, {\"category_name\": \"Images, Maps & Artefacts\", \"format_group\": \"Art work\", \"total\": 257490}, {\"category_name\": \"Images, Maps & Artefacts\", \"format_group\": \"Government publication\", \"total\": 178331}, {\"category_name\": \"Images, Maps & Artefacts\", \"format_group\": \"Map\", \"total\": 692893}, {\"category_name\": \"Images, Maps & Artefacts\", \"format_group\": \"Microform\", \"total\": 15381}, {\"category_name\": \"Images, Maps & Artefacts\", \"format_group\": \"Object\", \"total\": 578961}, {\"category_name\": \"Images, Maps & Artefacts\", \"format_group\": \"Photograph\", \"total\": 4617029}, {\"category_name\": \"Images, Maps & Artefacts\", \"format_group\": \"Poster, chart, other\", \"total\": 238377}, {\"category_name\": \"Lists\", \"format_group\": \"List\", \"total\": 110075}, {\"category_name\": \"Magazines & Newsletters\", \"format_group\": \"Article\", \"total\": 3614329}, {\"category_name\": \"Magazines & Newsletters\", \"format_group\": \"Conference Proceedings\", \"total\": 10}, {\"category_name\": \"Magazines & Newsletters\", \"format_group\": \"Government publication\", \"total\": 231}, {\"category_name\": \"Magazines & Newsletters\", \"format_group\": \"Periodical\", \"total\": 1422}, {\"category_name\": \"Music, Audio & Video\", \"format_group\": \"Audio book\", \"total\": 319289}, {\"category_name\": \"Music, Audio & Video\", \"format_group\": \"Government publication\", \"total\": 28869}, {\"category_name\": \"Music, Audio & Video\", \"format_group\": \"Microform\", \"total\": 5439}, {\"category_name\": \"Music, Audio & Video\", \"format_group\": \"Printed music\", \"total\": 637710}, {\"category_name\": \"Music, Audio & Video\", \"format_group\": \"Sound\", \"total\": 2786574}, {\"category_name\": \"Music, Audio & Video\", \"format_group\": \"Video\", \"total\": 1099791}, {\"category_name\": \"Newspapers & Gazettes\", \"format_group\": \"Article\", \"total\": 245547193}, {\"category_name\": \"Research & Reports\", \"format_group\": \"Article\", \"total\": 5694713}, {\"category_name\": \"Research & Reports\", \"format_group\": \"Book\", \"total\": 1955818}, {\"category_name\": \"Research & Reports\", \"format_group\": \"Conference Proceedings\", \"total\": 71733}, {\"category_name\": \"Research & Reports\", \"format_group\": \"Data set\", \"total\": 246238}, {\"category_name\": \"Research & Reports\", \"format_group\": \"Government publication\", \"total\": 2004960}, {\"category_name\": \"Research & Reports\", \"format_group\": \"Microform\", \"total\": 309727}, {\"category_name\": \"Research & Reports\", \"format_group\": \"Periodical\", \"total\": 492691}, {\"category_name\": \"Research & Reports\", \"format_group\": \"Thesis\", \"total\": 660060}]}}, {\"mode\": \"vega-lite\"});\n",
       "</script>"
      ],
      "text/plain": [
       "alt.Chart(...)"
      ]
     },
     "execution_count": 75,
     "metadata": {},
     "output_type": "execute_result"
    }
   ],
   "source": [
    "df_formats[\"format_group\"] = df_formats[\"format\"].apply(lambda x: x.split(\"/\")[0])\n",
    "\n",
    "df_format_group_totals = (\n",
    "    df_formats.groupby([\"category_name\", \"format_group\"])[\"total\"]\n",
    "    .sum()\n",
    "    .to_frame()\n",
    "    .reset_index()\n",
    ")\n",
    "\n",
    "alt.Chart(df_format_group_totals).mark_bar().encode(\n",
    "    y=alt.Y(\"category_name:N\").title(None),\n",
    "    x=alt.X(\"total:Q\").title(None).stack(\"normalize\").axis(labels=False, ticks=False),\n",
    "    color=alt.Color(\"format_group:N\").scale(scheme=\"category20\").title(\"format\"),\n",
    "    tooltip=[alt.Tooltip(\"format_group:N\").title(\"format\")],\n",
    ").properties(width=\"container\", height=300, padding=20)"
   ]
  },
  {
   "cell_type": "markdown",
   "id": "31663544-e4dc-4ea7-90a6-9c803a3f537e",
   "metadata": {
    "editable": true,
    "slideshow": {
     "slide_type": ""
    },
    "tags": []
   },
   "source": [
    "Once again **Websites** are missing as there's no API data available. **People & Organisations** are also missing from this chart, as identity records have no `format`. Of the categories that remain, **Lists**, **Magazines & Newsletters**, and **Newspapers & Gazettes** contain a single record format. The other categories have a mix of formats. This reflects the division, [noted above](all-categories-not-the-same), between categories that contain aggregated content, and those that are limited to a specific type of resource managed by the NLA.\n",
    "\n",
    "Looking more closely at the aggregated categories you can see there's a general alignment between each category's name and focus and the formats it contains. **Books & Libraries** is mostly books, **Images, Maps, & Artefacts** mostly photos, and **Music, Audio, & Video** mostly sound and video. **Research & Reports** contains mostly articles, books, and government publications. It all seems to make sense.\n",
    "\n",
    "However, [as noted above](contexts-not-collections), there are significant overlaps between categories. Why are no books showing up in **Images, Maps, & Artefacts**, or maps in **Books & Libraries**? It turns out that some facet values are hidden, both in the web interface and the API. You can test this for yourself. This blank search in **Images, Maps, & Artefacts** doesn't include `Book` in the list of formats.\n",
    "\n",
    "But if you add `&l-format=Book` to the url, 51,000 books magically appear amongst the formats.\n",
    "\n",
    "I suspect this has been done to simplify the web interface and avoid confusion. But the fact that this carries over to the API results means that `format` facet can't be relied upon in an analysis of the contents of categories. The workaround is run a separate search for each format value and compile the results. "
   ]
  },
  {
   "cell_type": "code",
   "execution_count": 76,
   "id": "babcfa34-f9b5-4d17-bfb4-6194c7e04f67",
   "metadata": {
    "editable": true,
    "slideshow": {
     "slide_type": ""
    },
    "tags": [
     "hide-input"
    ]
   },
   "outputs": [
    {
     "data": {
      "text/html": [
       "<div>\n",
       "<style scoped>\n",
       "    .dataframe tbody tr th:only-of-type {\n",
       "        vertical-align: middle;\n",
       "    }\n",
       "\n",
       "    .dataframe tbody tr th {\n",
       "        vertical-align: top;\n",
       "    }\n",
       "\n",
       "    .dataframe thead th {\n",
       "        text-align: right;\n",
       "    }\n",
       "</style>\n",
       "<table border=\"1\" class=\"dataframe\">\n",
       "  <thead>\n",
       "    <tr style=\"text-align: right;\">\n",
       "      <th></th>\n",
       "      <th>category_name</th>\n",
       "      <th>format</th>\n",
       "    </tr>\n",
       "  </thead>\n",
       "  <tbody>\n",
       "    <tr>\n",
       "      <th>0</th>\n",
       "      <td>Books &amp; Libraries</td>\n",
       "      <td>45</td>\n",
       "    </tr>\n",
       "    <tr>\n",
       "      <th>1</th>\n",
       "      <td>Diaries, Letters &amp; Archives</td>\n",
       "      <td>39</td>\n",
       "    </tr>\n",
       "    <tr>\n",
       "      <th>2</th>\n",
       "      <td>Images, Maps &amp; Artefacts</td>\n",
       "      <td>45</td>\n",
       "    </tr>\n",
       "    <tr>\n",
       "      <th>3</th>\n",
       "      <td>Lists</td>\n",
       "      <td>1</td>\n",
       "    </tr>\n",
       "    <tr>\n",
       "      <th>4</th>\n",
       "      <td>Magazines &amp; Newsletters</td>\n",
       "      <td>20</td>\n",
       "    </tr>\n",
       "    <tr>\n",
       "      <th>5</th>\n",
       "      <td>Music, Audio &amp; Video</td>\n",
       "      <td>43</td>\n",
       "    </tr>\n",
       "    <tr>\n",
       "      <th>6</th>\n",
       "      <td>Newspapers &amp; Gazettes</td>\n",
       "      <td>1</td>\n",
       "    </tr>\n",
       "    <tr>\n",
       "      <th>7</th>\n",
       "      <td>Research &amp; Reports</td>\n",
       "      <td>45</td>\n",
       "    </tr>\n",
       "  </tbody>\n",
       "</table>\n",
       "</div>"
      ],
      "text/plain": [
       "                 category_name  format\n",
       "0            Books & Libraries      45\n",
       "1  Diaries, Letters & Archives      39\n",
       "2     Images, Maps & Artefacts      45\n",
       "3                        Lists       1\n",
       "4      Magazines & Newsletters      20\n",
       "5         Music, Audio & Video      43\n",
       "6        Newspapers & Gazettes       1\n",
       "7           Research & Reports      45"
      ]
     },
     "execution_count": 76,
     "metadata": {},
     "output_type": "execute_result"
    }
   ],
   "source": [
    "import time\n",
    "\n",
    "df_harvested_formats = pd.read_csv(\"https://raw.githubusercontent.com/wragge/trove-zone-totals/main/data/trove-category-formats.csv\")\n",
    "formats = list(df_harvested_formats[\"format\"].unique())\n",
    "categories = list(df_harvested_formats[\"category_code\"].unique())\n",
    "\n",
    "headers = {\"X-API-KEY\": YOUR_API_KEY}\n",
    "\n",
    "# Using category=all in this case causes a 500 error\n",
    "params = {\n",
    "    \"encoding\": \"json\",\n",
    "    \"n\": 0,\n",
    "    \"key\": YOUR_API_KEY,\n",
    "}\n",
    "\n",
    "               \n",
    "format_counts = []\n",
    "\n",
    "for category in categories:\n",
    "    for format in formats:\n",
    "        params[\"category\"] = category\n",
    "        params[\"l-format\"] = format\n",
    "        response = requests.get(\"https://api.trove.nla.gov.au/v3/result\", params=params, headers=headers)\n",
    "        data = response.json()\n",
    "        try:\n",
    "            cat = data[\"category\"][0]\n",
    "        # These are likely 500 errors -- seems to be an API bug when setting l-format in categories like List\n",
    "        except KeyError:\n",
    "            total = 0\n",
    "            # 500 errors are returned quickly so can go over rate limit\n",
    "            time.sleep(0.2)\n",
    "        else:\n",
    "            total = cat[\"records\"][\"total\"]\n",
    "        format_counts.append(\n",
    "            {\n",
    "                \"category_name\": cat[\"name\"],\n",
    "                \"category_code\": cat[\"code\"],\n",
    "                \"format\": format,\n",
    "                \"total\": total,\n",
    "            }\n",
    "        )\n",
    "\n",
    "df_all_formats = pd.DataFrame(format_counts)\n",
    "\n",
    "df_all_formats.loc[df_all_formats[\"total\"] > 0].groupby(\"category_name\")[\"format\"].nunique().to_frame().reset_index()"
   ]
  },
  {
   "cell_type": "code",
   "execution_count": 78,
   "id": "8779e5a7-36c3-478b-8346-4e9d5fcce61d",
   "metadata": {
    "editable": true,
    "scrolled": true,
    "slideshow": {
     "slide_type": ""
    },
    "tags": [
     "hide-input"
    ]
   },
   "outputs": [
    {
     "data": {
      "text/html": [
       "\n",
       "<style>\n",
       "  #altair-viz-ceb94e125789491eb820f81d0ab4e086.vega-embed {\n",
       "    width: 100%;\n",
       "    display: flex;\n",
       "  }\n",
       "\n",
       "  #altair-viz-ceb94e125789491eb820f81d0ab4e086.vega-embed details,\n",
       "  #altair-viz-ceb94e125789491eb820f81d0ab4e086.vega-embed details summary {\n",
       "    position: relative;\n",
       "  }\n",
       "</style>\n",
       "<div id=\"altair-viz-ceb94e125789491eb820f81d0ab4e086\"></div>\n",
       "<script type=\"text/javascript\">\n",
       "  var VEGA_DEBUG = (typeof VEGA_DEBUG == \"undefined\") ? {} : VEGA_DEBUG;\n",
       "  (function(spec, embedOpt){\n",
       "    let outputDiv = document.currentScript.previousElementSibling;\n",
       "    if (outputDiv.id !== \"altair-viz-ceb94e125789491eb820f81d0ab4e086\") {\n",
       "      outputDiv = document.getElementById(\"altair-viz-ceb94e125789491eb820f81d0ab4e086\");\n",
       "    }\n",
       "    const paths = {\n",
       "      \"vega\": \"https://cdn.jsdelivr.net/npm/vega@5?noext\",\n",
       "      \"vega-lib\": \"https://cdn.jsdelivr.net/npm/vega-lib?noext\",\n",
       "      \"vega-lite\": \"https://cdn.jsdelivr.net/npm/vega-lite@5.8.0?noext\",\n",
       "      \"vega-embed\": \"https://cdn.jsdelivr.net/npm/vega-embed@6?noext\",\n",
       "    };\n",
       "\n",
       "    function maybeLoadScript(lib, version) {\n",
       "      var key = `${lib.replace(\"-\", \"\")}_version`;\n",
       "      return (VEGA_DEBUG[key] == version) ?\n",
       "        Promise.resolve(paths[lib]) :\n",
       "        new Promise(function(resolve, reject) {\n",
       "          var s = document.createElement('script');\n",
       "          document.getElementsByTagName(\"head\")[0].appendChild(s);\n",
       "          s.async = true;\n",
       "          s.onload = () => {\n",
       "            VEGA_DEBUG[key] = version;\n",
       "            return resolve(paths[lib]);\n",
       "          };\n",
       "          s.onerror = () => reject(`Error loading script: ${paths[lib]}`);\n",
       "          s.src = paths[lib];\n",
       "        });\n",
       "    }\n",
       "\n",
       "    function showError(err) {\n",
       "      outputDiv.innerHTML = `<div class=\"error\" style=\"color:red;\">${err}</div>`;\n",
       "      throw err;\n",
       "    }\n",
       "\n",
       "    function displayChart(vegaEmbed) {\n",
       "      vegaEmbed(outputDiv, spec, embedOpt)\n",
       "        .catch(err => showError(`Javascript Error: ${err.message}<br>This usually means there's a typo in your chart specification. See the javascript console for the full traceback.`));\n",
       "    }\n",
       "\n",
       "    if(typeof define === \"function\" && define.amd) {\n",
       "      requirejs.config({paths});\n",
       "      require([\"vega-embed\"], displayChart, err => showError(`Error loading script: ${err.message}`));\n",
       "    } else {\n",
       "      maybeLoadScript(\"vega\", \"5\")\n",
       "        .then(() => maybeLoadScript(\"vega-lite\", \"5.8.0\"))\n",
       "        .then(() => maybeLoadScript(\"vega-embed\", \"6\"))\n",
       "        .catch(showError)\n",
       "        .then(() => displayChart(vegaEmbed));\n",
       "    }\n",
       "  })({\"config\": {\"view\": {\"continuousWidth\": 300, \"continuousHeight\": 300}}, \"data\": {\"name\": \"data-ad3aa3a9b21fef4e3c4313c341d1596e\"}, \"mark\": {\"type\": \"bar\"}, \"encoding\": {\"color\": {\"field\": \"format_group\", \"scale\": {\"scheme\": \"category20\"}, \"title\": \"format\", \"type\": \"nominal\"}, \"tooltip\": [{\"field\": \"format_group\", \"title\": \"format\", \"type\": \"nominal\"}], \"x\": {\"axis\": {\"labels\": false, \"ticks\": false}, \"field\": \"total\", \"stack\": \"normalize\", \"title\": null, \"type\": \"quantitative\"}, \"y\": {\"field\": \"category_name\", \"title\": null, \"type\": \"nominal\"}}, \"height\": 300, \"padding\": 20, \"width\": \"container\", \"$schema\": \"https://vega.github.io/schema/vega-lite/v5.8.0.json\", \"datasets\": {\"data-ad3aa3a9b21fef4e3c4313c341d1596e\": [{\"category_name\": \"Books & Libraries\", \"format_group\": \"Archived website\", \"total\": 33076}, {\"category_name\": \"Books & Libraries\", \"format_group\": \"Art work\", \"total\": 3704}, {\"category_name\": \"Books & Libraries\", \"format_group\": \"Article\", \"total\": 15030869}, {\"category_name\": \"Books & Libraries\", \"format_group\": \"Audio book\", \"total\": 319175}, {\"category_name\": \"Books & Libraries\", \"format_group\": \"Book\", \"total\": 24936403}, {\"category_name\": \"Books & Libraries\", \"format_group\": \"Conference Proceedings\", \"total\": 479547}, {\"category_name\": \"Books & Libraries\", \"format_group\": \"Data set\", \"total\": 27}, {\"category_name\": \"Books & Libraries\", \"format_group\": \"Government publication\", \"total\": 222926}, {\"category_name\": \"Books & Libraries\", \"format_group\": \"List\", \"total\": 0}, {\"category_name\": \"Books & Libraries\", \"format_group\": \"Map\", \"total\": 70420}, {\"category_name\": \"Books & Libraries\", \"format_group\": \"Microform\", \"total\": 952087}, {\"category_name\": \"Books & Libraries\", \"format_group\": \"Object\", \"total\": 2953}, {\"category_name\": \"Books & Libraries\", \"format_group\": \"Periodical\", \"total\": 3944657}, {\"category_name\": \"Books & Libraries\", \"format_group\": \"Photograph\", \"total\": 39668}, {\"category_name\": \"Books & Libraries\", \"format_group\": \"Poster, chart, other\", \"total\": 9704}, {\"category_name\": \"Books & Libraries\", \"format_group\": \"Printed music\", \"total\": 1901}, {\"category_name\": \"Books & Libraries\", \"format_group\": \"Published\", \"total\": 3367}, {\"category_name\": \"Books & Libraries\", \"format_group\": \"Sound\", \"total\": 27586}, {\"category_name\": \"Books & Libraries\", \"format_group\": \"Thesis\", \"total\": 35136}, {\"category_name\": \"Books & Libraries\", \"format_group\": \"Unpublished\", \"total\": 13587}, {\"category_name\": \"Books & Libraries\", \"format_group\": \"Video\", \"total\": 2415}, {\"category_name\": \"Diaries, Letters & Archives\", \"format_group\": \"Archived website\", \"total\": 79}, {\"category_name\": \"Diaries, Letters & Archives\", \"format_group\": \"Art work\", \"total\": 12}, {\"category_name\": \"Diaries, Letters & Archives\", \"format_group\": \"Article\", \"total\": 4997}, {\"category_name\": \"Diaries, Letters & Archives\", \"format_group\": \"Audio book\", \"total\": 378}, {\"category_name\": \"Diaries, Letters & Archives\", \"format_group\": \"Book\", \"total\": 20683}, {\"category_name\": \"Diaries, Letters & Archives\", \"format_group\": \"Conference Proceedings\", \"total\": 81}, {\"category_name\": \"Diaries, Letters & Archives\", \"format_group\": \"Data set\", \"total\": 5}, {\"category_name\": \"Diaries, Letters & Archives\", \"format_group\": \"Government publication\", \"total\": 2794}, {\"category_name\": \"Diaries, Letters & Archives\", \"format_group\": \"List\", \"total\": 0}, {\"category_name\": \"Diaries, Letters & Archives\", \"format_group\": \"Map\", \"total\": 130}, {\"category_name\": \"Diaries, Letters & Archives\", \"format_group\": \"Microform\", \"total\": 6730}, {\"category_name\": \"Diaries, Letters & Archives\", \"format_group\": \"Object\", \"total\": 8160}, {\"category_name\": \"Diaries, Letters & Archives\", \"format_group\": \"Periodical\", \"total\": 94}, {\"category_name\": \"Diaries, Letters & Archives\", \"format_group\": \"Photograph\", \"total\": 129}, {\"category_name\": \"Diaries, Letters & Archives\", \"format_group\": \"Poster, chart, other\", \"total\": 10}, {\"category_name\": \"Diaries, Letters & Archives\", \"format_group\": \"Printed music\", \"total\": 17}, {\"category_name\": \"Diaries, Letters & Archives\", \"format_group\": \"Published\", \"total\": 271575}, {\"category_name\": \"Diaries, Letters & Archives\", \"format_group\": \"Sound\", \"total\": 41}, {\"category_name\": \"Diaries, Letters & Archives\", \"format_group\": \"Thesis\", \"total\": 56}, {\"category_name\": \"Diaries, Letters & Archives\", \"format_group\": \"Unpublished\", \"total\": 4783349}, {\"category_name\": \"Diaries, Letters & Archives\", \"format_group\": \"Video\", \"total\": 4}, {\"category_name\": \"Images, Maps & Artefacts\", \"format_group\": \"Archived website\", \"total\": 12}, {\"category_name\": \"Images, Maps & Artefacts\", \"format_group\": \"Art work\", \"total\": 257490}, {\"category_name\": \"Images, Maps & Artefacts\", \"format_group\": \"Article\", \"total\": 19392}, {\"category_name\": \"Images, Maps & Artefacts\", \"format_group\": \"Audio book\", \"total\": 312}, {\"category_name\": \"Images, Maps & Artefacts\", \"format_group\": \"Book\", \"total\": 62865}, {\"category_name\": \"Images, Maps & Artefacts\", \"format_group\": \"Conference Proceedings\", \"total\": 51}, {\"category_name\": \"Images, Maps & Artefacts\", \"format_group\": \"Data set\", \"total\": 34}, {\"category_name\": \"Images, Maps & Artefacts\", \"format_group\": \"Government publication\", \"total\": 178331}, {\"category_name\": \"Images, Maps & Artefacts\", \"format_group\": \"List\", \"total\": 0}, {\"category_name\": \"Images, Maps & Artefacts\", \"format_group\": \"Map\", \"total\": 692893}, {\"category_name\": \"Images, Maps & Artefacts\", \"format_group\": \"Microform\", \"total\": 15381}, {\"category_name\": \"Images, Maps & Artefacts\", \"format_group\": \"Object\", \"total\": 578961}, {\"category_name\": \"Images, Maps & Artefacts\", \"format_group\": \"Periodical\", \"total\": 172}, {\"category_name\": \"Images, Maps & Artefacts\", \"format_group\": \"Photograph\", \"total\": 4617029}, {\"category_name\": \"Images, Maps & Artefacts\", \"format_group\": \"Poster, chart, other\", \"total\": 238377}, {\"category_name\": \"Images, Maps & Artefacts\", \"format_group\": \"Printed music\", \"total\": 217}, {\"category_name\": \"Images, Maps & Artefacts\", \"format_group\": \"Published\", \"total\": 6816}, {\"category_name\": \"Images, Maps & Artefacts\", \"format_group\": \"Sound\", \"total\": 9282}, {\"category_name\": \"Images, Maps & Artefacts\", \"format_group\": \"Thesis\", \"total\": 684}, {\"category_name\": \"Images, Maps & Artefacts\", \"format_group\": \"Unpublished\", \"total\": 1426}, {\"category_name\": \"Images, Maps & Artefacts\", \"format_group\": \"Video\", \"total\": 1986}, {\"category_name\": \"Lists\", \"format_group\": \"List\", \"total\": 110075}, {\"category_name\": \"Lists\", \"format_group\": \"Printed music\", \"total\": 0}, {\"category_name\": \"Lists\", \"format_group\": \"Sound\", \"total\": 0}, {\"category_name\": \"Lists\", \"format_group\": \"Video\", \"total\": 0}, {\"category_name\": \"Magazines & Newsletters\", \"format_group\": \"Archived website\", \"total\": 4}, {\"category_name\": \"Magazines & Newsletters\", \"format_group\": \"Art work\", \"total\": 0}, {\"category_name\": \"Magazines & Newsletters\", \"format_group\": \"Article\", \"total\": 3614329}, {\"category_name\": \"Magazines & Newsletters\", \"format_group\": \"Audio book\", \"total\": 2}, {\"category_name\": \"Magazines & Newsletters\", \"format_group\": \"Book\", \"total\": 1067}, {\"category_name\": \"Magazines & Newsletters\", \"format_group\": \"Conference Proceedings\", \"total\": 10}, {\"category_name\": \"Magazines & Newsletters\", \"format_group\": \"Data set\", \"total\": 0}, {\"category_name\": \"Magazines & Newsletters\", \"format_group\": \"Government publication\", \"total\": 231}, {\"category_name\": \"Magazines & Newsletters\", \"format_group\": \"List\", \"total\": 0}, {\"category_name\": \"Magazines & Newsletters\", \"format_group\": \"Map\", \"total\": 0}, {\"category_name\": \"Magazines & Newsletters\", \"format_group\": \"Microform\", \"total\": 0}, {\"category_name\": \"Magazines & Newsletters\", \"format_group\": \"Object\", \"total\": 0}, {\"category_name\": \"Magazines & Newsletters\", \"format_group\": \"Periodical\", \"total\": 1422}, {\"category_name\": \"Magazines & Newsletters\", \"format_group\": \"Photograph\", \"total\": 0}, {\"category_name\": \"Magazines & Newsletters\", \"format_group\": \"Poster, chart, other\", \"total\": 0}, {\"category_name\": \"Magazines & Newsletters\", \"format_group\": \"Printed music\", \"total\": 0}, {\"category_name\": \"Magazines & Newsletters\", \"format_group\": \"Published\", \"total\": 1}, {\"category_name\": \"Magazines & Newsletters\", \"format_group\": \"Sound\", \"total\": 12}, {\"category_name\": \"Magazines & Newsletters\", \"format_group\": \"Thesis\", \"total\": 1}, {\"category_name\": \"Magazines & Newsletters\", \"format_group\": \"Unpublished\", \"total\": 3}, {\"category_name\": \"Magazines & Newsletters\", \"format_group\": \"Video\", \"total\": 0}, {\"category_name\": \"Music, Audio & Video\", \"format_group\": \"Archived website\", \"total\": 24}, {\"category_name\": \"Music, Audio & Video\", \"format_group\": \"Art work\", \"total\": 298}, {\"category_name\": \"Music, Audio & Video\", \"format_group\": \"Article\", \"total\": 3301}, {\"category_name\": \"Music, Audio & Video\", \"format_group\": \"Audio book\", \"total\": 319289}, {\"category_name\": \"Music, Audio & Video\", \"format_group\": \"Book\", \"total\": 349279}, {\"category_name\": \"Music, Audio & Video\", \"format_group\": \"Conference Proceedings\", \"total\": 591}, {\"category_name\": \"Music, Audio & Video\", \"format_group\": \"Data set\", \"total\": 98}, {\"category_name\": \"Music, Audio & Video\", \"format_group\": \"Government publication\", \"total\": 28869}, {\"category_name\": \"Music, Audio & Video\", \"format_group\": \"List\", \"total\": 0}, {\"category_name\": \"Music, Audio & Video\", \"format_group\": \"Map\", \"total\": 1474}, {\"category_name\": \"Music, Audio & Video\", \"format_group\": \"Microform\", \"total\": 5439}, {\"category_name\": \"Music, Audio & Video\", \"format_group\": \"Object\", \"total\": 3279}, {\"category_name\": \"Music, Audio & Video\", \"format_group\": \"Periodical\", \"total\": 569}, {\"category_name\": \"Music, Audio & Video\", \"format_group\": \"Photograph\", \"total\": 2047}, {\"category_name\": \"Music, Audio & Video\", \"format_group\": \"Poster, chart, other\", \"total\": 531}, {\"category_name\": \"Music, Audio & Video\", \"format_group\": \"Printed music\", \"total\": 637710}, {\"category_name\": \"Music, Audio & Video\", \"format_group\": \"Published\", \"total\": 161}, {\"category_name\": \"Music, Audio & Video\", \"format_group\": \"Sound\", \"total\": 2786574}, {\"category_name\": \"Music, Audio & Video\", \"format_group\": \"Thesis\", \"total\": 634}, {\"category_name\": \"Music, Audio & Video\", \"format_group\": \"Unpublished\", \"total\": 255}, {\"category_name\": \"Music, Audio & Video\", \"format_group\": \"Video\", \"total\": 1099791}, {\"category_name\": \"Newspapers & Gazettes\", \"format_group\": \"Archived website\", \"total\": 0}, {\"category_name\": \"Newspapers & Gazettes\", \"format_group\": \"Art work\", \"total\": 0}, {\"category_name\": \"Newspapers & Gazettes\", \"format_group\": \"Article\", \"total\": 245547193}, {\"category_name\": \"Newspapers & Gazettes\", \"format_group\": \"Audio book\", \"total\": 0}, {\"category_name\": \"Newspapers & Gazettes\", \"format_group\": \"Conference Proceedings\", \"total\": 0}, {\"category_name\": \"Newspapers & Gazettes\", \"format_group\": \"Data set\", \"total\": 0}, {\"category_name\": \"Newspapers & Gazettes\", \"format_group\": \"Government publication\", \"total\": 0}, {\"category_name\": \"Newspapers & Gazettes\", \"format_group\": \"List\", \"total\": 0}, {\"category_name\": \"Newspapers & Gazettes\", \"format_group\": \"Map\", \"total\": 0}, {\"category_name\": \"Newspapers & Gazettes\", \"format_group\": \"Microform\", \"total\": 0}, {\"category_name\": \"Newspapers & Gazettes\", \"format_group\": \"Object\", \"total\": 0}, {\"category_name\": \"Newspapers & Gazettes\", \"format_group\": \"Periodical\", \"total\": 0}, {\"category_name\": \"Newspapers & Gazettes\", \"format_group\": \"Photograph\", \"total\": 0}, {\"category_name\": \"Newspapers & Gazettes\", \"format_group\": \"Poster, chart, other\", \"total\": 0}, {\"category_name\": \"Newspapers & Gazettes\", \"format_group\": \"Printed music\", \"total\": 0}, {\"category_name\": \"Newspapers & Gazettes\", \"format_group\": \"Published\", \"total\": 0}, {\"category_name\": \"Newspapers & Gazettes\", \"format_group\": \"Sound\", \"total\": 0}, {\"category_name\": \"Newspapers & Gazettes\", \"format_group\": \"Thesis\", \"total\": 0}, {\"category_name\": \"Newspapers & Gazettes\", \"format_group\": \"Unpublished\", \"total\": 0}, {\"category_name\": \"Newspapers & Gazettes\", \"format_group\": \"Video\", \"total\": 0}, {\"category_name\": \"Research & Reports\", \"format_group\": \"Archived website\", \"total\": 21837}, {\"category_name\": \"Research & Reports\", \"format_group\": \"Art work\", \"total\": 2323}, {\"category_name\": \"Research & Reports\", \"format_group\": \"Article\", \"total\": 5694713}, {\"category_name\": \"Research & Reports\", \"format_group\": \"Audio book\", \"total\": 2050}, {\"category_name\": \"Research & Reports\", \"format_group\": \"Book\", \"total\": 1955818}, {\"category_name\": \"Research & Reports\", \"format_group\": \"Conference Proceedings\", \"total\": 71733}, {\"category_name\": \"Research & Reports\", \"format_group\": \"Data set\", \"total\": 246238}, {\"category_name\": \"Research & Reports\", \"format_group\": \"Government publication\", \"total\": 2004960}, {\"category_name\": \"Research & Reports\", \"format_group\": \"List\", \"total\": 0}, {\"category_name\": \"Research & Reports\", \"format_group\": \"Map\", \"total\": 340152}, {\"category_name\": \"Research & Reports\", \"format_group\": \"Microform\", \"total\": 309727}, {\"category_name\": \"Research & Reports\", \"format_group\": \"Object\", \"total\": 3231}, {\"category_name\": \"Research & Reports\", \"format_group\": \"Periodical\", \"total\": 492691}, {\"category_name\": \"Research & Reports\", \"format_group\": \"Photograph\", \"total\": 172121}, {\"category_name\": \"Research & Reports\", \"format_group\": \"Poster, chart, other\", \"total\": 5006}, {\"category_name\": \"Research & Reports\", \"format_group\": \"Printed music\", \"total\": 1345}, {\"category_name\": \"Research & Reports\", \"format_group\": \"Published\", \"total\": 1346}, {\"category_name\": \"Research & Reports\", \"format_group\": \"Sound\", \"total\": 22302}, {\"category_name\": \"Research & Reports\", \"format_group\": \"Thesis\", \"total\": 660060}, {\"category_name\": \"Research & Reports\", \"format_group\": \"Unpublished\", \"total\": 4130}, {\"category_name\": \"Research & Reports\", \"format_group\": \"Video\", \"total\": 25683}]}}, {\"mode\": \"vega-lite\"});\n",
       "</script>"
      ],
      "text/plain": [
       "alt.Chart(...)"
      ]
     },
     "execution_count": 78,
     "metadata": {},
     "output_type": "execute_result"
    }
   ],
   "source": [
    "df_all_formats[\"format_group\"] = df_all_formats[\"format\"].apply(lambda x: x.split(\"/\")[0])\n",
    "\n",
    "df_all_format_group_totals = (\n",
    "    df_all_formats.groupby([\"category_name\", \"format_group\"])[\"total\"]\n",
    "    .sum()\n",
    "    .to_frame()\n",
    "    .reset_index()\n",
    ")\n",
    "\n",
    "alt.Chart(df_all_format_group_totals).mark_bar().encode(\n",
    "    y=alt.Y(\"category_name:N\").title(None),\n",
    "    x=alt.X(\"total:Q\").title(None).stack(\"normalize\").axis(labels=False, ticks=False),\n",
    "    color=alt.Color(\"format_group:N\").scale(scheme=\"category20\").title(\"format\"),\n",
    "    tooltip=[alt.Tooltip(\"format_group:N\").title(\"format\")],\n",
    ").properties(width=\"container\", height=300, padding=20)"
   ]
  },
  {
   "cell_type": "markdown",
   "id": "5ed35219-d478-4a38-b23b-3ce223eea48b",
   "metadata": {},
   "source": [
    "## Categories and contributors\n",
    "\n",
    "Mix of contributors will also be different"
   ]
  },
  {
   "cell_type": "markdown",
   "id": "528d0af0-203f-4c6f-a716-b41563f7fb04",
   "metadata": {
    "editable": true,
    "slideshow": {
     "slide_type": ""
    },
    "tags": []
   },
   "source": [
    "## Working notes\n",
    "\n",
    "Zones were called \"collection views\" in development. More accurate.\n",
    "\n",
    "Exploration of overlaps\n",
    "\n",
    "Contributors per zone (facets, point to more complete data)\n",
    "\n",
    "Research and repositories\n",
    "\n",
    "Note that work records don’t tell you what category they’re in (infer from `type`?). Categories manage searches, they’re (mostly) not collections in themselves. **Categories are contexts for discovery.** \n",
    "\n",
    "Categories affected by `type`, `format`, and also the grouping of versions into works (eg an article and book with the same name and author might be grouped). Also the source.\n",
    "\n",
    "Is research the default for IRs?\n",
    "\n",
    "Newspapers, web archive, and people separate.\n",
    "\n",
    "Note that you can’t combine facet values etc because of overlaps.\n",
    "\n",
    "Categories contain a range of formats that aren’t included in the format facet – eg Book in the magazine category. Can illustrate by searching for `NOT format:”Book”`. They’re less obvious in results but still there.\n",
    "\n",
    "It looks like ‘Book/Illustrated’ for examples doesn’t go into Image. The ones in their seem to have something like ‘Art work’ or ‘map’ included.\n",
    "\n",
    "Also ‘formats’ are actually ‘types’ in the metadata. The format field includes physical description info. Perhaps confusing.\n",
    "\n",
    "So that means the `format` facet doesn’t provide a complete list of formats. It also means you might get formats you don’t expect if you harvest from a category (eg books in images)\n",
    "\n",
    "Oddities:\n",
    "\n",
    "- https://trove.nla.gov.au/work/36446349 – annual reports of the Royal Society of Tasmania, multiple years as ‘editions’, description is taken from one and used across all. API records contain 2 versions for each edition. \n",
    "\n",
    "## Categories\n",
    "\n",
    "\n",
    "\n",
    "\n",
    "\n",
    "But why does [this work](https://troveconsole.herokuapp.com/v3/?url=https%3A%2F%2Fapi.trove.nla.gov.au%2Fv3%2Fwork%2F9439997%3Freclevel%3Dfull%26include%3Dworkversions%2Choldings) show up in Research? No mention of data sets or theses, and not held by an IR. Because it’s a ‘Government publication’?\n",
    "\n",
    "[This record](https://troveconsole.herokuapp.com/v3/?url=https%3A%2F%2Fapi.trove.nla.gov.au%2Fv3%2Fwork%2F81126945%3Freclevel%3Dfull%26include%3Dworkversions) combines a book with a chapter from the book (held in an IR)."
   ]
  },
  {
   "cell_type": "code",
   "execution_count": null,
   "id": "a63c2c9a-010a-4a5a-ae9b-4b1274c61f26",
   "metadata": {},
   "outputs": [],
   "source": []
  }
 ],
 "metadata": {
  "jupytext": {
   "formats": "ipynb,md:myst"
  },
  "kernelspec": {
   "display_name": "Python 3 (ipykernel)",
   "language": "python",
   "name": "python3"
  },
  "language_info": {
   "codemirror_mode": {
    "name": "ipython",
    "version": 3
   },
   "file_extension": ".py",
   "mimetype": "text/x-python",
   "name": "python",
   "nbconvert_exporter": "python",
   "pygments_lexer": "ipython3",
   "version": "3.8.12"
  }
 },
 "nbformat": 4,
 "nbformat_minor": 5
}
