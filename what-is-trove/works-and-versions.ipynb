{
 "cells": [
  {
   "cell_type": "markdown",
   "id": "8b910280-8118-4f5b-82d1-df127bf7b863",
   "metadata": {
    "user_expressions": []
   },
   "source": [
    "# Works and versions\n",
    "\n",
    "```{attention}\n",
    "This guide is currently under development. For more information and discussion see [the list of issues](https://github.com/wragge/trove-data-guide/issues) on GitHub. Comments are welcome.\n",
    "```"
   ]
  },
  {
   "cell_type": "markdown",
   "id": "bc3a7774-6c82-4d3b-bcbc-46c0a64663e9",
   "metadata": {},
   "source": [
    "Problematic version groupings:\n",
    "\n",
    "- Malcolm Fraser Electorate Talks - <https://trove.nla.gov.au/work/195160655>"
   ]
  },
  {
   "cell_type": "markdown",
   "id": "5e1b0af3-0ac3-475c-a876-5454c410efeb",
   "metadata": {},
   "source": [
    "May need to unpack versions from works to get a full list of resources for exploration/analysis (eg ABC, Royal Society of Tasmania)\n",
    "\n",
    "PM Transcripts, eg: <https://trove.nla.gov.au/work/195172587>\n"
   ]
  },
  {
   "cell_type": "code",
   "execution_count": null,
   "id": "1934f14b-3dcc-469e-b876-9f3cd9fa6a9f",
   "metadata": {},
   "outputs": [],
   "source": []
  }
 ],
 "metadata": {
  "jupytext": {
   "formats": "ipynb,md:myst"
  },
  "kernelspec": {
   "display_name": "Python 3 (ipykernel)",
   "language": "python",
   "name": "python3"
  },
  "language_info": {
   "codemirror_mode": {
    "name": "ipython",
    "version": 3
   },
   "file_extension": ".py",
   "mimetype": "text/x-python",
   "name": "python",
   "nbconvert_exporter": "python",
   "pygments_lexer": "ipython3",
   "version": "3.8.12"
  }
 },
 "nbformat": 4,
 "nbformat_minor": 5
}
