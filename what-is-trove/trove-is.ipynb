{
 "cells": [
  {
   "cell_type": "markdown",
   "id": "1c5b805e-aae6-4fb0-9935-3202c76fa900",
   "metadata": {
    "user_expressions": []
   },
   "source": [
    "# Trove is...\n",
    "\n",
    "```{attention}\n",
    "This guide is currently under development. For more information and discussion see [the list of issues](https://github.com/wragge/trove-data-guide/issues) on GitHub. Comments are welcome.\n",
    "```\n"
   ]
  },
  {
   "cell_type": "markdown",
   "id": "c8e3d9cb-fd9d-4ca7-8b79-3cb4c18cbb51",
   "metadata": {},
   "source": [
    "- an aggregation of collection {term}`metadata` from Australian {abbr}`GLAM (Galleries, Libraries, Archives, and Museums)` and research organisations (includes pre-aggregated content through Libraries Australia as well as individually harvested collections)\n",
    "- a repository of digitised content from the NLA and partners, includes:\n",
    "    - newspapers\n",
    "    - journals and magazines\n",
    "    - books\n",
    "    - ephemera\n",
    "    - photographs\n",
    "    - maps\n",
    "    - manuscripts\n",
    "- an archive of Australian web content from 1996 onwards\n",
    "- born-digital publications submitted via the electronic legal deposit scheme (access may be restricted)\n",
    "- a platform for user engagement via tags, comments, lists, and OCR corrections\n",
    "- a series of APIs for delivering machine-actionable data"
   ]
  }
 ],
 "metadata": {
  "jupytext": {
   "formats": "ipynb,md:myst"
  },
  "kernelspec": {
   "display_name": "Python 3 (ipykernel)",
   "language": "python",
   "name": "python3"
  },
  "language_info": {
   "codemirror_mode": {
    "name": "ipython",
    "version": 3
   },
   "file_extension": ".py",
   "mimetype": "text/x-python",
   "name": "python",
   "nbconvert_exporter": "python",
   "pygments_lexer": "ipython3",
   "version": "3.8.12"
  }
 },
 "nbformat": 4,
 "nbformat_minor": 5
}
