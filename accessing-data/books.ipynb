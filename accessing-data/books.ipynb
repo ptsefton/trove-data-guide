{
 "cells": [
  {
   "cell_type": "markdown",
   "id": "e596c5a5-aa04-4e29-984c-a4ac0d92dfef",
   "metadata": {},
   "source": [
    "# Books"
   ]
  },
  {
   "cell_type": "markdown",
   "id": "48d687dd-181a-4877-920e-7bc96f41eb95",
   "metadata": {
    "editable": true,
    "slideshow": {
     "slide_type": ""
    },
    "tags": []
   },
   "source": [
    "```{attention}\n",
    "This guide is currently under development. For more information and discussion see [the list of issues](https://github.com/wragge/trove-data-guide/issues) on GitHub. Comments are welcome.\n",
    "```"
   ]
  },
  {
   "cell_type": "markdown",
   "id": "04fe8c88-8b15-468a-8115-e1a71d0b7739",
   "metadata": {},
   "source": [
    "You can get text via the API, but you have to add `include=workversions` then loop through versions, looking in the `description` field for a `value` with `\"type\": \"open_fulltext\"`.\n",
    "\n",
    "I think there are limits on the amount of text you can get from the API -- need to test this."
   ]
  },
  {
   "cell_type": "code",
   "execution_count": null,
   "id": "418a05a2-4abc-48c5-b0cf-0387d46b929d",
   "metadata": {},
   "outputs": [],
   "source": []
  }
 ],
 "metadata": {
  "kernelspec": {
   "display_name": "Python 3 (ipykernel)",
   "language": "python",
   "name": "python3"
  },
  "language_info": {
   "codemirror_mode": {
    "name": "ipython",
    "version": 3
   },
   "file_extension": ".py",
   "mimetype": "text/x-python",
   "name": "python",
   "nbconvert_exporter": "python",
   "pygments_lexer": "ipython3",
   "version": "3.8.12"
  }
 },
 "nbformat": 4,
 "nbformat_minor": 5
}
