{
 "cells": [
  {
   "cell_type": "markdown",
   "id": "f8477376-ab4b-4535-aa47-24524f474e6c",
   "metadata": {
    "editable": true,
    "slideshow": {
     "slide_type": ""
    },
    "tags": []
   },
   "source": [
    "# Newspapers and gazettes\n",
    "\n",
    "```{attention}\n",
    "This guide is currently under development. For more information and discussion see [the list of issues](https://github.com/wragge/trove-data-guide/issues) on GitHub. Comments are welcome.\n",
    "```\n",
    "\n",
    "<mark>==This might link to a fuller discussion in the contexts section?==</mark>\n",
    "\n",
    "Before you start requesting data from Trove's digitised newspapers, it's worth thinking a bit about the way newspapers are represented in Trove and the relationships between **articles**, **pages**, **issues**, and **titles**. You might think that newspapers are organised in a simple hierarchical structure with titles at the top, and articles at the bottom, but it's not quite that straighforward. Articles are linked to both pages and titles. Titles have their own API endpoint that can lead you to issues, though following an issue url will actually take you to a page. Pages have identifiers, and you can browse their contents in the Trove web interface, but they don't exist as separate entities in the API. These sorts of oddities mean that sometimes there's no direct route to the information that you want, but by thinking about what is connected to what, you can find alternative paths. For example, while there's no direct link between issues and articles, if you get the publication date and title from an issue, you can then search for articles published in that issue by using the `date` index and `title` facet.\n",
    "\n",
    "This section is organised by **articles**, **pages**, **issues**, and **titles**. For each entity, I've described a variety of methods to access metadata, text and images – some are straightforward, others are a bit hacky, but they work!\n",
    "\n",
    "```{tableofcontents}\n",
    "```\n",
    "\n",
    "<mark>==Not sure where these bits go yet...==</mark>\n",
    "\n",
    "\n",
    "\n",
    "<mark>==Somewhere -- perhaps in the search section -- need to talk about things like editorial pages with long lists of short news items, often grouped as a single article. What are the implications of this for relevance, and reuse.==</mark>\n",
    "\n",
    "- Articles are linked to pages and titles. A single article can be split across multiple pages. \n",
    "\n",
    "- Pages have unique identifiers and can be browsed using the web interface, but they don't exist as separate entities within the API. You can't search for a page, only for articles published on a page.\n",
    "\n",
    "- An issue is a publication of a particular title on a particular date. Issues have identifiers, and are linked to titles. In the web interface, issue identifiers resolve to the first page of that issue, providing an indirect way of linking titles and issues to pages. Articles are indirectly linked to issues through their publication date.\n",
    "\n",
    "- A title is a particular publication or masthead. Titles have their own identifiers and API endpoint."
   ]
  },
  {
   "cell_type": "markdown",
   "id": "35d57030-dda5-46a1-a75a-0ab615a650a0",
   "metadata": {},
   "source": [
    "Other issues:\n",
    "\n",
    "- missing pages, eg https://trove.nla.gov.au/newspaper/page/20232534\n",
    "- inconsistent page numbering\n",
    "\n",
    "Could I do some analysis to find titles with different page numbering. Eg the number of front pages for a given year should equal the number of issues.\n",
    "\n",
    "Any to get an idea of how many pages are missing? Search for articles in each issue, then look at page numbers in articles. A lot of processing, but quite important to know, particularly if they're spread unevenly."
   ]
  }
 ],
 "metadata": {
  "jupytext": {
   "formats": "ipynb,md:myst"
  },
  "kernelspec": {
   "display_name": "Python 3 (ipykernel)",
   "language": "python",
   "name": "python3"
  },
  "language_info": {
   "codemirror_mode": {
    "name": "ipython",
    "version": 3
   },
   "file_extension": ".py",
   "mimetype": "text/x-python",
   "name": "python",
   "nbconvert_exporter": "python",
   "pygments_lexer": "ipython3",
   "version": "3.8.12"
  }
 },
 "nbformat": 4,
 "nbformat_minor": 5
}
