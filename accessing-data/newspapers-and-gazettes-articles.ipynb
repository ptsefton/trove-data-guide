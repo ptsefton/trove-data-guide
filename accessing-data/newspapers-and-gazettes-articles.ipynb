{
 "cells": [
  {
   "cell_type": "markdown",
   "id": "6956ffdb-3a72-46bc-b93c-d299affb9024",
   "metadata": {},
   "source": [
    "# Accessing data about newspaper and gazette articles\n",
    "\n",
    "```{attention}\n",
    "This guide is currently under development. For more information and discussion see [the list of issues](https://github.com/wragge/trove-data-guide/issues) on GitHub. Comments are welcome.\n",
    "```\n",
    "\n",
    "```{contents}\n",
    ":local:\n",
    "```"
   ]
  },
  {
   "cell_type": "code",
   "execution_count": 1,
   "id": "9962c4ac-93fa-40c0-8343-06ece0df5aad",
   "metadata": {
    "editable": true,
    "slideshow": {
     "slide_type": ""
    },
    "tags": [
     "remove-cell"
    ]
   },
   "outputs": [],
   "source": [
    "import datetime\n",
    "import os\n",
    "\n",
    "import altair as alt\n",
    "import pandas as pd\n",
    "import requests\n",
    "from dotenv import load_dotenv\n",
    "from IPython.display import HTML, JSON\n",
    "from myst_nb import glue\n",
    "\n",
    "load_dotenv()\n",
    "YOUR_API_KEY = os.getenv(\"TROVE_API_KEY\")"
   ]
  },
  {
   "cell_type": "markdown",
   "id": "e5dcd97c-c5d2-41b6-aaeb-afaac70a64f5",
   "metadata": {},
   "source": [
    "![Screenshot of Trove web interface displaying basic article metadata](../images/trove-article-metadata.png)"
   ]
  },
  {
   "cell_type": "markdown",
   "id": "573faf18-f368-41d5-8d43-205c9ff32fcc",
   "metadata": {
    "editable": true,
    "slideshow": {
     "slide_type": ""
    },
    "tags": []
   },
   "source": [
    "## Article metadata\n",
    "\n",
    "Newspaper and gazette article metadata includes basic information such as the article heading, publication date, publication title, and page number. Additional information such as attached tags or comments can be also be retrieved from the Trove API."
   ]
  },
  {
   "cell_type": "markdown",
   "id": "86c7a29b-9f45-4b2d-8969-6e10a4b44aff",
   "metadata": {
    "editable": true,
    "slideshow": {
     "slide_type": ""
    },
    "tags": []
   },
   "source": [
    "### Save article metadata from the web interface\n",
    "\n",
    "Before you dive straight into to the API documentation, remember that there are ways of getting article metadata from the Trove web interface. Each method has its own limitations, but depending on your needs they might do the job. See [](../how-to/create-newspaper-articles-dataset.md) for further tips."
   ]
  },
  {
   "cell_type": "markdown",
   "id": "49ce73ff-e471-4eab-9186-34b54af3205a",
   "metadata": {
    "editable": true,
    "slideshow": {
     "slide_type": ""
    },
    "tags": []
   },
   "source": [
    "#### Saving article metadata with Zotero\n",
    "\n",
    "````{margin}\n",
    "```{seealso}\n",
    "The GLAM Workbench notebook [Upload Trove newspaper articles to Omeka-S](https://glam-workbench.net/trove-newspapers/#upload-trove-newspaper-articles-to-omeka-s) provides an example of how you can access newspaper article metadata saved with Zotero, or in a Trove list, add additional information, and upload the results to an Omeka exhibition.\n",
    "```\n",
    "````\n",
    "\n",
    "[Zotero](https://www.zotero.org/) includes a 'translator' for Trove that saves article metadata into your own research database. It also downloads a PDF copy of the article, and saves the OCRd text into an attached note. You can [add items](https://www.zotero.org/support/adding_items_to_zotero) by clicking on the Zotero icon in your web browser. The translator extracts metadata from the article web page and citation, rather than the Trove API.\n",
    "\n",
    "```{warning}\n",
    "It's not currently possible to save details of multiple newspaper articles from Trove's search results. This is due to changes introduced by Trove's 2020 interface update. Unfortunately, you'll need to add individual articles one by one.\n",
    "```\n",
    "\n",
    "Zotero saves the following fields for each newspaper article:\n",
    "\n",
    "```{list-table} Newspaper and gazette metadata fields extracted by Zotero\n",
    ":header-rows: 1\n",
    ":name: zotero-fields\n",
    "* - Zotero UI\n",
    "  - Zotero field\n",
    "  - Value\n",
    "* - Item Type\n",
    "  - `type`\n",
    "  - `newspaperArticle`\n",
    "* - Title\n",
    "  - `title`\n",
    "  - article heading\n",
    "* - Publication\n",
    "  - `publicationTitle`\n",
    "  - newspaper title (location and date range in brackets is removed)\n",
    "* - Date\n",
    "  - `date`\n",
    "  - publication date\n",
    "* - Place\n",
    "  - `place`\n",
    "  - publication state (extracted from newspaper title)\n",
    "* - Abstract\n",
    "  - `abstract`\n",
    "  - first four lines of text, if available (taken from `description` META tag)\n",
    "* - URL\n",
    "  - `url`\n",
    "  - `http://nla.gov.au/nla.news-article[article ID]`\n",
    "```\n",
    "\n",
    "Zotero provides many ways to [export data](https://www.zotero.org/support/kb/exporting). Once you've assembled a collection of articles you can export them in a suitable format for additional processing or analysis. Alternatively, you can use the [Zotero API](https://www.zotero.org/support/dev/web_api/v3/start) to access and manipulate the saved data. \n",
    "\n",
    "Zotero is a convenient option for creating curated datasets of digitised newspaper articles. Zotero's built-in annotation features enable you to tags and notes to further organise your collection. You can also collaborate on the selection and annotation of articles using shared groups.\n",
    "\n",
    "For example, Zotero's built-in PDF viewer enables you to select sections of newspaper articles for annotation. You could use this to manually highlight sections of interest in long newspaper articles. The annotations and cropped images could then be retrieved from the Zotero API to create your own custom dataset. See [](../how-to/create-newspaper-articles-dataset.md) for further ideas."
   ]
  },
  {
   "cell_type": "markdown",
   "id": "74ae5dc8-cf29-49e3-b907-656464bfbb2a",
   "metadata": {
    "editable": true,
    "slideshow": {
     "slide_type": ""
    },
    "tags": []
   },
   "source": [
    "#### Trove Lists\n",
    "\n",
    "````{margin}\n",
    "```{seealso}\n",
    "The GLAM Workbench notebook [Convert a Trove list into a CSV file](https://glam-workbench.net/trove-lists/convert-a-trove-list-into-a-csv-file/) shows you how to save the full details of newspaper articles in a Trove list as a CSV file. You can also save the articles as PDFs and images, and download the OCRd text.\n",
    "```\n",
    "````\n",
    "Another option for creating collections of manually selected newspaper article metadata is Trove's built-in Lists function. \n",
    "\n",
    "<mark>==Note about adding mutliple items to Lists. Hacking the url to get more==</mark>\n",
    "\n",
    "See the [Trove Lists](./trove-lists) section for information on saving lists metadata."
   ]
  },
  {
   "cell_type": "markdown",
   "id": "ecd25534-50fc-4be5-aa30-9a09399848c6",
   "metadata": {
    "editable": true,
    "slideshow": {
     "slide_type": ""
    },
    "tags": []
   },
   "source": [
    "#### Bulk export\n",
    "\n",
    "<mark>==Include more info once official documentation is available==</mark>\n",
    "\n",
    "<mark>==Note that there are some differences in fields from the API==</mark>\n",
    "\n",
    "- metadata only, 1 million article limit"
   ]
  },
  {
   "cell_type": "markdown",
   "id": "2277093d-ddc3-4316-b916-05dd9a413755",
   "metadata": {},
   "source": [
    "### Get metadata from a search for articles using the API\n",
    "\n",
    "You can retrieve newspaper and gazette articles using the Trove API's `/result` endpoint, just set the `category` parameter to `newspaper`.\n",
    "\n",
    "[![Try it!](../images/try-trove-api-console.svg)](https://troveconsole.herokuapp.com/v3/?url=https%3A%2F%2Fapi.trove.nla.gov.au%2Fv3%2Fresult%3Fcategory%3Dnewspaper%26encoding%3Djson)\n",
    "\n",
    "If we don't include any search parameters, you get everything! You can use this to find out the number of newspaper and gazette articles in Trove:"
   ]
  },
  {
   "cell_type": "code",
   "execution_count": 2,
   "id": "a5c249e9-143e-4713-b2ce-be9607de6b2a",
   "metadata": {},
   "outputs": [
    {
     "data": {
      "text/plain": [
       "{'category': [{'code': 'newspaper',\n",
       "   'name': 'Newspapers & Gazettes',\n",
       "   'records': {'s': '*',\n",
       "    'n': 0,\n",
       "    'total': 243538040,\n",
       "    'next': 'https://api.trove.nla.gov.au/v3/result?category=newspaper&n=0&encoding=json&s=*',\n",
       "    'nextStart': '*'}}]}"
      ]
     },
     "execution_count": 2,
     "metadata": {},
     "output_type": "execute_result"
    }
   ],
   "source": [
    "import requests\n",
    "\n",
    "# Set n to 0 because we don't want any records\n",
    "params = {\"category\": \"newspaper\", \"n\": 0, \"encoding\": \"json\"}\n",
    "\n",
    "# Supply API key using headers\n",
    "headers = {\"X-API-KEY\": YOUR_API_KEY}\n",
    "\n",
    "response = requests.get(\n",
    "    \"https://api.trove.nla.gov.au/v3/result\", params=params, headers=headers\n",
    ")\n",
    "\n",
    "data = response.json()\n",
    "\n",
    "data"
   ]
  },
  {
   "cell_type": "markdown",
   "id": "ec93420d-1531-43ac-8508-b7b799cded08",
   "metadata": {},
   "source": [
    "Note that the example above doesn't return any articles because it sets the `n` parameter to `0`. The current number of newspaper and gazette articles is in the `total` field."
   ]
  },
  {
   "cell_type": "code",
   "execution_count": 3,
   "id": "0e62b103-c56c-4819-b058-9c0fc09a5646",
   "metadata": {},
   "outputs": [
    {
     "name": "stdout",
     "output_type": "stream",
     "text": [
      "As of 18 July 2023, there are 243,538,040 newspaper & gazette articles in Trove\n"
     ]
    }
   ],
   "source": [
    "import datetime\n",
    "\n",
    "# Get the total number of articles\n",
    "total = data[\"category\"][0][\"records\"][\"total\"]\n",
    "# And today's date\n",
    "today = datetime.datetime.now().strftime(\"%d %B %Y\")\n",
    "\n",
    "# Display the result\n",
    "print(f\"As of {today}, there are {total:,} newspaper & gazette articles in Trove\")"
   ]
  },
  {
   "cell_type": "markdown",
   "id": "b23c468c-ed21-410e-b9b7-c9abfe7bd68e",
   "metadata": {},
   "source": [
    "Use the `artType` facet to limit the results to either newspapers or gazettes:\n",
    "\n",
    "- `l-artType=newspapers` – [![Try it!](../images/try-trove-api-console.svg)](https://troveconsole.herokuapp.com/v3/?url=https%3A%2F%2Fapi.trove.nla.gov.au%2Fv3%2Fresult%3Fcategory%3Dnewspaper%26l-artType%3Dnewspapers%26encoding%3Djson)\n",
    "- or `l-artType=gazette` – [![Try it!](../images/try-trove-api-console.svg)](https://troveconsole.herokuapp.com/v3/?url=https%3A%2F%2Fapi.trove.nla.gov.au%2Fv3%2Fresult%3Fcategory%3Dnewspaper%26l-artType%3Dgazette%26encoding%3Djson)\n",
    "\n",
    "Notice that `newspapers` is pluralised, but `gazette` is not."
   ]
  },
  {
   "cell_type": "markdown",
   "id": "ecb8cd14-47bb-45ba-8cef-b7b4fc5da9e0",
   "metadata": {},
   "source": [
    "````{margin}\n",
    "```{seealso}\n",
    "The [trove-query-parser](https://wragge.github.io/trove_query_parser/) Python library makes it easy to translate searches for newspaper articles in Trove's web interface into a form that the API can understand. Just give it the url of a newspaper search and it will generate the set of parameters you'll need to replicate the search using the API.\n",
    "```\n",
    "````"
   ]
  },
  {
   "cell_type": "markdown",
   "id": "97b02e93-d6b3-4eeb-86a2-ff9c1119a51e",
   "metadata": {},
   "source": [
    "Use the `q` parameter to supply search keywords. The query string can be anything you might include in Trove's ['simple' search](../understanding-search/simple-search-options.md) box. Results can be filtered using a number of facets, such as `category`, `state`, `illustrated`, and `decade`.\n",
    "\n",
    "<mark>==More detail on constructing searches here or somewhere else?==</mark>\n",
    "\n",
    "For example, to get the first 100 results of a search for `\"clement wragge\" AND cyclone`, limited to news articles published in Queensland, you would do something like:"
   ]
  },
  {
   "cell_type": "code",
   "execution_count": 3,
   "id": "1bc6a44a-71b8-43ee-82f9-1505566c457d",
   "metadata": {},
   "outputs": [],
   "source": [
    "import requests\n",
    "\n",
    "params = {\n",
    "    # Search string -- note the use of double quotes to search for a phrase\n",
    "    \"q\": '\"clement wragge\" AND cyclone',\n",
    "    \"category\": \"newspaper\",\n",
    "    \"l-artType\": \"newspapers\",\n",
    "    # Limit to articles published in Queensland\n",
    "    \"l-state\": \"Queensland\",\n",
    "    # Limit to news-ish articles\n",
    "    \"l-category\": \"Article\",\n",
    "    # Return 100 results\n",
    "    \"n\": 100,\n",
    "    \"encoding\": \"json\",\n",
    "}\n",
    "\n",
    "# Supply API key using headers\n",
    "headers = {\"X-API-KEY\": YOUR_API_KEY}\n",
    "\n",
    "response = requests.get(\n",
    "    \"https://api.trove.nla.gov.au/v3/result\", params=params, headers=headers\n",
    ")\n",
    "\n",
    "data = response.json()"
   ]
  },
  {
   "cell_type": "markdown",
   "id": "0586e519-c1d5-4d31-8c5f-439479a2e502",
   "metadata": {},
   "source": [
    "[![Try it!](../images/try-trove-api-console.svg)](https://troveconsole.herokuapp.com/v3/?url=https%3A%2F%2Fapi.trove.nla.gov.au%2Fv3%2Fresult%3Fq%3D%22clement+wragge%22+AND+cyclone%26category%3Dnewspaper%26artType%3Dnewspapers%26l-category%3DArticle%26l-state%3DQueensland%26n%3D100%26encoding%3Djson)"
   ]
  },
  {
   "cell_type": "markdown",
   "id": "a584b781-cf2b-4a62-b404-ad69a7f7acbe",
   "metadata": {},
   "source": [
    "The list of article records can be found at `data[\"category\"][0][\"records\"][\"article\"]`. Here's the first record:"
   ]
  },
  {
   "cell_type": "code",
   "execution_count": 4,
   "id": "9f8cb0ae-5320-44e2-926c-2ae886e011dd",
   "metadata": {
    "scrolled": true
   },
   "outputs": [
    {
     "data": {
      "text/plain": [
       "{'id': '169851997',\n",
       " 'url': 'https://api.trove.nla.gov.au/v3/newspaper/169851997',\n",
       " 'heading': 'CYCLONE FORECASTER. MR. CLEMENT WRAGGE.',\n",
       " 'category': 'Article',\n",
       " 'title': {'id': '837', 'title': 'Daily Mercury (Mackay, Qld. : 1906 - 1954)'},\n",
       " 'date': '1927-03-08',\n",
       " 'page': '3',\n",
       " 'pageSequence': '3',\n",
       " 'relevance': {'score': 540.1323852539062, 'value': 'very relevant'},\n",
       " 'snippet': '\"Coyyan\" writes in the Cairns \\'Post\\':-- Mr. Clement Wragge was generally referred to as the Inclement Wragge,\" purely on account of',\n",
       " 'troveUrl': 'https://.nla.gov.au/nla.news-article169851997?searchTerm=%22clement+wragge%22+AND+cyclone'}"
      ]
     },
     "execution_count": 4,
     "metadata": {},
     "output_type": "execute_result"
    }
   ],
   "source": [
    "data[\"category\"][0][\"records\"][\"article\"][0]"
   ]
  },
  {
   "cell_type": "markdown",
   "id": "c6358db1-ff8f-459e-a77e-5f555f2b4cc9",
   "metadata": {},
   "source": [
    "To print the titles of the first 10 articles you could do something like:"
   ]
  },
  {
   "cell_type": "code",
   "execution_count": 5,
   "id": "23a35a0f-aab8-4ac1-b2e8-244b992ad949",
   "metadata": {},
   "outputs": [
    {
     "name": "stdout",
     "output_type": "stream",
     "text": [
      "CYCLONE FORECASTER. MR. CLEMENT WRAGGE.\n",
      "CLEMENT WRAGGE.\n",
      "CYCLONE FORECASTER. MR. CLEMENT WRAGGE. SOME PROOF.\n",
      "CYCLONE FORECASTER. MR. CLEMENT WRAGGE. SOME PROOF.\n",
      "MR. CLEMENT WRAGGE.\n",
      "MR. CLEMENT WRAGGE.\n",
      "CLEMENT WRAGGE'S LATEST PREDICTION.\n",
      "Mr. Clement Wragge at Longreach\n",
      "METEOROLOGY. MR. CLEMENT WRAGGE' PROPOSALS.\n",
      "Weather Wizard. Mr. Clement Wragge. Mount Wellington Observatory.\n"
     ]
    }
   ],
   "source": [
    "for article in data[\"category\"][0][\"records\"][\"article\"][:10]:\n",
    "    print(article[\"heading\"])"
   ]
  },
  {
   "cell_type": "markdown",
   "id": "088ff79f-accb-4f87-bebf-dc2d1993c950",
   "metadata": {},
   "source": [
    "You can use the `reclevel` and `include` parameters to control the amount of metadata provided about each article. For example:\n",
    "\n",
    "Setting `reclevel=full` adds the following fields:\n",
    "\n",
    "- `trovePageUrl` – website url pointing to the page on which the article was published\n",
    "- `illustrated` – is this article illustrated (\"Y\" or \"N\")\n",
    "- `wordCount` – number of words\n",
    "- `correctionCount` – number of OCR corrections\n",
    "- `tagCount` – number of tags attached to this article\n",
    "- `commentCount` – number of tags attached to this article\n",
    "- `listCount` – number of lists this article has been added to\n",
    "- `lastCorrection` – details of last OCR correction, includes date and user name\n",
    "- `pdf` – link to download a PDF version of the page this article was published on\n",
    "\n",
    "[![Try it!](../images/try-trove-api-console.svg)](https://troveconsole.herokuapp.com/v3/?url=https%3A%2F%2Fapi.trove.nla.gov.au%2Fv3%2Fresult%3Fq%3D%22clement+wragge%22+AND+cyclone%26category%3Dnewspaper%26reclevel%3Dfull%26encoding%3Djson)"
   ]
  },
  {
   "cell_type": "markdown",
   "id": "b8787b54-e040-4b6b-8508-aaa2d9526bfa",
   "metadata": {},
   "source": [
    "````{warning}\n",
    "Note that while `wordCount`, `correctionCount`, `tagCount`, `commentCount`, and `listCount` are numbers, the API returns them as *strings*. If you want to run any mathematical operations on them, you'll first need to convert them into integers.\n",
    "\n",
    "```python\n",
    "word_count = int(article[\"wordCount\"])\n",
    "```\n",
    "````"
   ]
  },
  {
   "cell_type": "markdown",
   "id": "7c189176-08b8-4410-b094-828c3343a75f",
   "metadata": {},
   "source": [
    "Use the `include` parameter to add details about tags, comments, and lists. For example, setting `include=tags` will add a list of any attached tags to the article metadata:\n",
    "\n",
    "```json\n",
    "\"tag\": [\n",
    "    {\n",
    "        \"lastupdated\": \"2017-01-02T02:46:49Z\",\n",
    "        \"value\": \"Meteorologist - Clement Wragge\"\n",
    "    },\n",
    "    {\n",
    "        \"lastupdated\": \"2017-01-02T02:46:49Z\",\n",
    "        \"value\": \"Novelist - Marie Corelli\"\n",
    "    }\n",
    "]\n",
    "```\n",
    "\n",
    "[![Try it!](../images/try-trove-api-console.svg)](https://troveconsole.herokuapp.com/v3/?url=https%3A%2F%2Fapi.trove.nla.gov.au%2Fv3%2Fresult%3Fq%3D%22clement+wragge%22+AND+cyclone%26category%3Dnewspaper%26reclevel%3Dfull%26include%3Dtags%26include%3Dcomments%26include%3Dlists%26encoding%3Djson#limit-to-articles-with-illustrations)"
   ]
  },
  {
   "cell_type": "markdown",
   "id": "53274c0c-dbd9-4d45-8b69-0a96c8a2cdb3",
   "metadata": {
    "editable": true,
    "slideshow": {
     "slide_type": ""
    },
    "tags": []
   },
   "source": [
    "### Trove Newspaper Harvester\n",
    "\n",
    "<mark>==Where should this go?==</mark>\n",
    "\n",
    "- metadata, text, images, PDFs\n",
    "- no limit\n",
    "- metadata file captures query details\n",
    "\n",
    "### Get metadata for an individual article"
   ]
  },
  {
   "cell_type": "markdown",
   "id": "754e7f97-7463-4c33-8f89-658b0d2cc861",
   "metadata": {
    "editable": true,
    "slideshow": {
     "slide_type": ""
    },
    "tags": []
   },
   "source": [
    "### Scraping positional information from the web site\n",
    "\n",
    "The OCR process not only extracts text from an image, it generates coordinates that document the position of each piece of text within the parent image. You could use this information to crop an image of the OCRd text out of the parent image. In the case of digitised newspapers, this sort of positional information could help you explore the layout and contents of newspaper pages and how this changes over time.\n",
    "\n",
    "No positional information is available from the Trove API, however, there is some embedded within the web site. If you view the source of a newspaper article's web page, you'll find a number of `<input>` tags like this:\n",
    "\n",
    "```html\n",
    "<input id=\"l1.0.0\" class=\"edit\" type=\"text\" aria-label=\"Line 1.0.0\" data-x=\"2905\" data-y=\"573\" data-w=\"844\" data-h=\"43\" value=\"Mr. Wragge is going to issue a &quot;Wragge.&quot;\" />\n",
    "```\n",
    "\n",
    "The `value` attribute of the tag includes the text of a single line. The `data` attributes provide the positional coordinates of that line:\n",
    "\n",
    "- `data-x`: horizontal offset of the top left corner of a box surrounding the line (in pixels)\n",
    "- `data-y`: vertical offset of the top left corner of a box surrounding the line (in pixels)\n",
    "- `data-w`: the width of a box surrounding the line (in pixels)\n",
    "- `data-h`: the height of a box surrounding the line (in pixels)\n",
    "\n",
    "Individual lines are aggregated into blocks of content labelled as `zones` within the HTML. The position of each zone is also recorded:\n",
    "\n",
    "```html\n",
    "<div class=\"zone onPage readMode\" data-page-id=\"5417618\" data-x=\"2889\" data-y=\"487\" data-w=\"862\" data-h=\"89\" data-rotation=\"-1\" style=\"display: none;\">\n",
    "```\n",
    "\n",
    "Zones can also contain illustrations:\n",
    "\n",
    "```html\n",
    "<div class=\"illustration help-region onPage\" data-x=\"4455\" data-y=\"677\" data-w=\"706\" data-h=\"1031\" data-caption=\"none\" data-type=\"Cartoon\" data-id=\"8281319\" data-part=\"134576145\" >\n",
    "```\n",
    "\n",
    "```{note}\n",
    "The pixel values are absolute, so they relate to a page image at a specific resolution. This resolution is the highest available from the Trove web interface, with a zoom level of `7`. See below for [information on saving page images](download-a-page-image).\n",
    "```\n",
    "\n",
    "````{margin}\n",
    "```{seealso}\n",
    "For a full working example of this, see the GLAM Workbench notebook [Get the page coordinates of a digitised newspaper article from Trove](https://glam-workbench.net/trove-newspapers/#get-the-page-coordinates-of-a-digitised-newspaper-article-from-trove)\n",
    "```\n",
    "````\n",
    "\n",
    "To get the coordinates of a box containing an entire article, you can add up the boxes for each zone. For example, assuming you have the zones in a list you could try:\n",
    "\n",
    "```python\n",
    "left = 10000\n",
    "right = 0\n",
    "top = 10000\n",
    "bottom = 0\n",
    "for zone in zones:\n",
    "    if int(zone[\"data-y\"]) < top:\n",
    "        top = int(zone[\"data-y\"])\n",
    "    if int(zone[\"data-x\"]) < left:\n",
    "        left = int(zone[\"data-x\"])\n",
    "    if (int(zone[\"data-x\"]) + int(zone[\"data-w\"])) > right:\n",
    "        right = int(zone[\"data-x\"]) + int(zone[\"data-w\"])\n",
    "    if (int(zone[\"data-y\"]) + int(zone[\"data-h\"])) > bottom:\n",
    "        bottom = int(zone[\"data-y\"]) + int(zone[\"data-h\"])\n",
    "```\n",
    "\n",
    "We can use this information to extract the image of an individual article or illustration from a page image. See below for details.\n",
    "\n",
    "With an extra little trick you can even get the coordinates of an individual word. This information is not ordinarily contained within the HTML, *but* if you search for a particular word, that word is highlighted and its coordinates included in the HTML. Here's a line of text with a highlighted word:\n",
    "\n",
    "```html\n",
    "<div class=\"read\"><span class=\"highlightedTerm\" data-x=\"4458\" data-y=\"1949\" data-w=\"129\" data-h=\"32\">Wragge,</span> the Government Meteorologist of</div>\n",
    "```\n",
    "\n",
    "You can see that the `<span>` element includes the same set of `data` attributes defining a box around the highlighted word.\n",
    "\n",
    "In theory, you could write some code that gets the positions of every word in an article by looping through the words, adding each one to the page url's `searchTerm` parameter so that it's highlighted, then grabbing the coordinates from the `<span>`. It would be rather inefficient though.\n",
    "\n",
    "As described below, you can use this information to save images of individual words."
   ]
  },
  {
   "cell_type": "markdown",
   "id": "730f5f6d-6c1d-4adb-9ee0-13c45493f844",
   "metadata": {},
   "source": [
    "## Article text"
   ]
  },
  {
   "cell_type": "markdown",
   "id": "c49b3025-89dc-4c37-949a-15700be4d460",
   "metadata": {},
   "source": [
    "Newspaper text is segmented by article. The text is generated by OCR, with manual corrections by volunteers.\n",
    "\n",
    "### API\n",
    "\n",
    "`include=articletext`\n",
    "\n",
    "Note: includes html\n",
    "Note: not the AWW (have to scrape)\n",
    "\n",
    "Trove Newspaper Harvester (including AWW)"
   ]
  },
  {
   "cell_type": "markdown",
   "id": "d646527a-a3a7-4bde-90cd-2e61664d3d7c",
   "metadata": {},
   "source": [
    "## Article images"
   ]
  },
  {
   "cell_type": "markdown",
   "id": "741e9a13-95ff-40ad-a1bb-0699b7ecf783",
   "metadata": {
    "editable": true,
    "slideshow": {
     "slide_type": ""
    },
    "tags": []
   },
   "source": [
    "PDF proxy\n",
    "\n",
    "Save articles as images\n",
    "\n",
    "Save just the illustrations as images\n",
    "\n",
    "Save words as images"
   ]
  },
  {
   "cell_type": "code",
   "execution_count": null,
   "id": "702a2071-c743-479a-9494-75cb23930c41",
   "metadata": {},
   "outputs": [],
   "source": []
  }
 ],
 "metadata": {
  "kernelspec": {
   "display_name": "Python 3 (ipykernel)",
   "language": "python",
   "name": "python3"
  },
  "language_info": {
   "codemirror_mode": {
    "name": "ipython",
    "version": 3
   },
   "file_extension": ".py",
   "mimetype": "text/x-python",
   "name": "python",
   "nbconvert_exporter": "python",
   "pygments_lexer": "ipython3",
   "version": "3.8.12"
  }
 },
 "nbformat": 4,
 "nbformat_minor": 5
}
