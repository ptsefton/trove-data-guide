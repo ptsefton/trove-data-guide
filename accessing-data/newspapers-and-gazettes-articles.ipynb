{
 "cells": [
  {
   "cell_type": "markdown",
   "id": "b728ca20-6120-4bb3-b53b-2a8faaffd1f2",
   "metadata": {},
   "source": [
    "# Accessing data about newspaper and gazette articles"
   ]
  },
  {
   "cell_type": "markdown",
   "id": "e5dcd97c-c5d2-41b6-aaeb-afaac70a64f5",
   "metadata": {},
   "source": [
    "![Screenshot of Trove web interface displaying basic article metadata](../images/trove-article-metadata.png)"
   ]
  },
  {
   "cell_type": "markdown",
   "id": "6956ffdb-3a72-46bc-b93c-d299affb9024",
   "metadata": {},
   "source": [
    "```{attention}\n",
    "This guide is currently under development. For more information and discussion see [the list of issues](https://github.com/wragge/trove-data-guide/issues) on GitHub. Comments are welcome.\n",
    "```\n",
    "\n",
    "```{contents}\n",
    ":local:\n",
    "```"
   ]
  },
  {
   "cell_type": "code",
   "execution_count": 1,
   "id": "9962c4ac-93fa-40c0-8343-06ece0df5aad",
   "metadata": {
    "editable": true,
    "slideshow": {
     "slide_type": ""
    },
    "tags": [
     "remove-cell"
    ]
   },
   "outputs": [],
   "source": [
    "import datetime\n",
    "import os\n",
    "\n",
    "import altair as alt\n",
    "import pandas as pd\n",
    "import requests\n",
    "from dotenv import load_dotenv\n",
    "from IPython.display import HTML, JSON\n",
    "from myst_nb import glue\n",
    "\n",
    "load_dotenv()\n",
    "YOUR_API_KEY = os.getenv(\"TROVE_API_KEY\")"
   ]
  },
  {
   "cell_type": "markdown",
   "id": "91d05c5d-71e1-48dd-a8c1-b9e45496f8f8",
   "metadata": {},
   "source": [
    "## What are articles?\n",
    "\n",
    "When you search in Trove's digitised newspapers, you're searching for *articles*. The boundaries of articles are defined as part of the {term}`OCR` process. In most cases they represent a single piece of content with a heading and some text (or an illustration). But sometimes blocks of content are grouped together. Advertisements, for example, are often grouped as a single 'article' headed 'Advertising'. Articles can also be split across multiple pages."
   ]
  },
  {
   "cell_type": "markdown",
   "id": "0daeae62-1f5d-4580-a6bc-c43fbec5b748",
   "metadata": {},
   "source": [
    "## Article links and connections\n",
    "\n",
    "Articles exist at the bottom of a hierarchy of newspapers, issues, and pages. Article metadata includes information linking articles to other levels in this hierarchy, but the type and form of these links varies.\n",
    "\n",
    "Links to newspaper **titles** are perhaps the most straightforward. Each article is linked to a single newspaper title by the title's unique identifier. An article's metadata record includes a field for `title` that includes both the numeric identifier and the newspaper's masthead. for example:\n",
    "\n",
    "```json\n",
    "\"title\": {\n",
    "    \"id\": \"101\",\n",
    "    \"title\": \"Western Mail (Perth, WA : 1885 - 1954)\"\n",
    "}\n",
    "```\n",
    "\n",
    "You can use the newspaper's `id` to request more information from the `newspaper/titles` API endpoint.\n",
    "\n",
    "There are no direct links from articles to newspaper **issues**. However, articles share a date with their parent issue, so it's possible to use the date to connect them. For example you can use a `date` search to find all the articles in an issue."
   ]
  },
  {
   "cell_type": "markdown",
   "id": "ef18e623-6c0f-4f33-ad38-4f336a36608c",
   "metadata": {
    "editable": true,
    "slideshow": {
     "slide_type": ""
    },
    "tags": []
   },
   "source": [
    "```{admonition} But what about 'editions'?\n",
    ":class: note\n",
    "One problem in trying to link articles with issues is that newspapers often published multiple editions per day. So to identify a specific issue you might need both a date *and* an edition. This is not really possible in Trove, because editions are rarely documented. This is something to keep in mind if, for example, you're trying to match a Trove article with an original paper copy, or trying to track down a pre-Trove reference – a date might not be enough!\n",
    "```"
   ]
  },
  {
   "cell_type": "markdown",
   "id": "9631217f-8522-4994-9b62-1bcc85b3ef9a",
   "metadata": {},
   "source": [
    "There are two ways in which articles are linked to **pages**. The first is simply by the `page` value, which is a number indicating the sequence of a page within an issue. This *usually* corresponds to the page number printed on the page, however, sometimes issues include separately numbered supplements. You can tell if a page is part of a supplement by looking at the confusingly-named `pageSequence` value – it will typically include an 'S' after the page number. There might also be a `pageLabel` value that provides the number printed on the page within the supplement.\n",
    "\n",
    "Here's [an advertisement for abstestos cement](https://trove.nla.gov.au/newspaper/article/48076559/) in a 1957 building supplement published as part of the *Australian Women's Weekly*. The article's metadata record includes the following page values:\n",
    "\n",
    "```json\n",
    "\"page\": \"82\",\n",
    "\"pageSequence\": \"82 S\",\n",
    "\"pageLabel\": \"2\",\n",
    "```\n",
    "\n",
    "This means the article is on the 82nd page of the issue, but this page is within a supplement and is numbered '2' on the printed page.\n",
    "\n",
    "The second way articles are linked to pages is by the page's unique identifier. If you set `reclevel` to `full` when requesting article records, the metadata will include a `trovePageUrl` value, for example:\n",
    "\n",
    "```json\n",
    "\"trovePageUrl\": \"https://nla.gov.au/nla.news-page5417618\"\n",
    "```\n",
    "\n",
    "If you follow the url it will display the page in the Trove web interface, but the numeric part of the url uniquely identifies the page and can be used to do things like downloading an image of a page."
   ]
  },
  {
   "cell_type": "markdown",
   "id": "1a85364e-ff64-413f-a3fd-0bce0758bdb3",
   "metadata": {},
   "source": [
    "```{admonition} What happens when articles are split over multiple pages?\n",
    ":class: note\n",
    "The `page` value in an article's metadata is only ever a single number. If an article is split over multiple pages, then the `page` value will indicate the page on which the article *begins*. The metadata doesn't include the numbers of any subsequent pages. You can, however, find out whether an article is split across pages by looking at the `pdf` field. This field contains a list of links to page PDFs. The number of links will tell you the number of pages the article appears on. (But note that the `pdf` field seems to be missing from *Australian Women's Weekly* articles.) The PDF links also include the page identifiers.\n",
    "```"
   ]
  },
  {
   "cell_type": "markdown",
   "id": "573faf18-f368-41d5-8d43-205c9ff32fcc",
   "metadata": {
    "editable": true,
    "slideshow": {
     "slide_type": ""
    },
    "tags": []
   },
   "source": [
    "## Metadata\n",
    "\n",
    "The {term}`metadata` associated with newspaper and gazette articles in Trove includes the basic information you'd expect to put in a citation, like the article's headline, publication date, newspaper, and page number. Additional fields are added by the OCR and data ingestion processes, such as internal links, the number of words, and the article category. User activity also adds data relating to tags, comments, lists, and corrections."
   ]
  },
  {
   "cell_type": "markdown",
   "id": "2fafc469-ba09-4472-b24c-d8b756d06c2f",
   "metadata": {},
   "source": [
    "```{admonition} Don't get your categories mixed up!\n",
    ":class: note\n",
    "The term `category` is used in two completely different contexts in Trove. It's used to describe the top-level groupings of resources, such as 'Newspapers & Gazettes', 'Books & Libraries', and 'Magazines & Newsletters'. But it's also used to describe different types of newspaper and gazette articles, such as 'Article', 'Advertising', and 'Family Notices'.\n",
    "```"
   ]
  },
  {
   "cell_type": "markdown",
   "id": "86c7a29b-9f45-4b2d-8969-6e10a4b44aff",
   "metadata": {
    "editable": true,
    "slideshow": {
     "slide_type": ""
    },
    "tags": []
   },
   "source": [
    "Before you dive straight into to the API documentation, remember that there are ways of getting article metadata from the Trove web interface. Each method has its own limitations, but depending on your needs they might do the job. See:\n",
    "\n",
    "- [](../how-to/web-interface/use-zotero)\n",
    "- [](../how-to/web-interface/use-lists)\n",
    "- [](../how-to/web-interface/use-bulk-export)\n",
    "\n",
    "See [](../how-to/create-newspaper-articles-dataset.md) for further tips."
   ]
  },
  {
   "cell_type": "markdown",
   "id": "2277093d-ddc3-4316-b916-05dd9a413755",
   "metadata": {},
   "source": [
    "### Find the total number of newspaper & gazette articles\n",
    "\n",
    "You can retrieve newspaper and gazette articles using the Trove API's `/result` endpoint, just set the `category` parameter to `newspaper`.\n",
    "\n",
    "[![Try it!](../images/try-trove-api-console.svg)](https://troveconsole.herokuapp.com/v3/?url=https%3A%2F%2Fapi.trove.nla.gov.au%2Fv3%2Fresult%3Fcategory%3Dnewspaper%26encoding%3Djson)\n",
    "\n",
    "If we don't include any search parameters, you get everything! You can use this to find out the number of newspaper and gazette articles in Trove:"
   ]
  },
  {
   "cell_type": "code",
   "execution_count": 2,
   "id": "a5c249e9-143e-4713-b2ce-be9607de6b2a",
   "metadata": {},
   "outputs": [
    {
     "data": {
      "text/plain": [
       "{'category': [{'code': 'newspaper',\n",
       "   'name': 'Newspapers & Gazettes',\n",
       "   'records': {'s': '*',\n",
       "    'n': 0,\n",
       "    'total': 243538040,\n",
       "    'next': 'https://api.trove.nla.gov.au/v3/result?category=newspaper&n=0&encoding=json&s=*',\n",
       "    'nextStart': '*'}}]}"
      ]
     },
     "execution_count": 2,
     "metadata": {},
     "output_type": "execute_result"
    }
   ],
   "source": [
    "import requests\n",
    "\n",
    "# Set n to 0 because we don't want any records\n",
    "params = {\"category\": \"newspaper\", \"n\": 0, \"encoding\": \"json\"}\n",
    "\n",
    "# Supply API key using headers\n",
    "headers = {\"X-API-KEY\": YOUR_API_KEY}\n",
    "\n",
    "response = requests.get(\n",
    "    \"https://api.trove.nla.gov.au/v3/result\", params=params, headers=headers\n",
    ")\n",
    "\n",
    "data = response.json()\n",
    "\n",
    "data"
   ]
  },
  {
   "cell_type": "markdown",
   "id": "ec93420d-1531-43ac-8508-b7b799cded08",
   "metadata": {},
   "source": [
    "Note that the example above doesn't return any articles because it sets the `n` parameter to `0`. The current number of newspaper and gazette articles is in the `total` field."
   ]
  },
  {
   "cell_type": "code",
   "execution_count": 3,
   "id": "0e62b103-c56c-4819-b058-9c0fc09a5646",
   "metadata": {},
   "outputs": [
    {
     "name": "stdout",
     "output_type": "stream",
     "text": [
      "As of 18 July 2023, there are 243,538,040 newspaper & gazette articles in Trove\n"
     ]
    }
   ],
   "source": [
    "import datetime\n",
    "\n",
    "# Get the total number of articles\n",
    "total = data[\"category\"][0][\"records\"][\"total\"]\n",
    "# And today's date\n",
    "today = datetime.datetime.now().strftime(\"%d %B %Y\")\n",
    "\n",
    "# Display the result\n",
    "print(f\"As of {today}, there are {total:,} newspaper & gazette articles in Trove\")"
   ]
  },
  {
   "cell_type": "markdown",
   "id": "688905c2-e5d9-4f24-a1c5-9ccfb7293a88",
   "metadata": {},
   "source": [
    "### Limit your results to either newspaper *or* gazette articles"
   ]
  },
  {
   "cell_type": "markdown",
   "id": "b23c468c-ed21-410e-b9b7-c9abfe7bd68e",
   "metadata": {},
   "source": [
    "Use the `artType` facet to limit the results to either newspapers or gazettes:\n",
    "\n",
    "- `l-artType=newspapers` – [![Try it!](../images/try-trove-api-console.svg)](https://troveconsole.herokuapp.com/v3/?url=https%3A%2F%2Fapi.trove.nla.gov.au%2Fv3%2Fresult%3Fcategory%3Dnewspaper%26l-artType%3Dnewspapers%26encoding%3Djson)\n",
    "- or `l-artType=gazette` – [![Try it!](../images/try-trove-api-console.svg)](https://troveconsole.herokuapp.com/v3/?url=https%3A%2F%2Fapi.trove.nla.gov.au%2Fv3%2Fresult%3Fcategory%3Dnewspaper%26l-artType%3Dgazette%26encoding%3Djson)\n",
    "\n",
    "Notice that `newspapers` is pluralised, but `gazette` is not."
   ]
  },
  {
   "cell_type": "markdown",
   "id": "ef6dd5da-fdfb-429d-9954-cc359c5ed4bd",
   "metadata": {},
   "source": [
    "### Save metadata from a search"
   ]
  },
  {
   "cell_type": "markdown",
   "id": "ecb8cd14-47bb-45ba-8cef-b7b4fc5da9e0",
   "metadata": {},
   "source": [
    "````{margin}\n",
    "```{seealso}\n",
    "The [trove-query-parser](https://wragge.github.io/trove_query_parser/) Python library makes it easy to translate searches for newspaper articles in Trove's web interface into a form that the API can understand. Just give it the url of a newspaper search and it will generate the set of parameters you'll need to replicate the search using the API.\n",
    "```\n",
    "````"
   ]
  },
  {
   "cell_type": "markdown",
   "id": "97b02e93-d6b3-4eeb-86a2-ff9c1119a51e",
   "metadata": {},
   "source": [
    "Use the `q` parameter to supply search keywords. The query string can be anything you might include in Trove's ['simple' search](../understanding-search/simple-search-options.md) box. Results can also be filtered using a number of facets, such as `category`, `state`, `illustrated`, and `decade`.\n",
    "\n",
    "<mark>==More detail on constructing searches here or somewhere else?==</mark>\n",
    "\n",
    "For example, to get the first 100 results of a search for `\"clement wragge\" AND cyclone`, limited to news articles published in Queensland, you would do something like:"
   ]
  },
  {
   "cell_type": "code",
   "execution_count": 3,
   "id": "1bc6a44a-71b8-43ee-82f9-1505566c457d",
   "metadata": {},
   "outputs": [],
   "source": [
    "import requests\n",
    "\n",
    "params = {\n",
    "    # Search string -- note the use of double quotes to search for a phrase\n",
    "    \"q\": '\"clement wragge\" AND cyclone',\n",
    "    \"category\": \"newspaper\",\n",
    "    \"l-artType\": \"newspapers\",\n",
    "    # Limit to articles published in Queensland\n",
    "    \"l-state\": \"Queensland\",\n",
    "    # Limit to news-ish articles\n",
    "    \"l-category\": \"Article\",\n",
    "    # Return 100 results\n",
    "    \"n\": 100,\n",
    "    \"encoding\": \"json\",\n",
    "}\n",
    "\n",
    "# Supply API key using headers\n",
    "headers = {\"X-API-KEY\": YOUR_API_KEY}\n",
    "\n",
    "response = requests.get(\n",
    "    \"https://api.trove.nla.gov.au/v3/result\", params=params, headers=headers\n",
    ")\n",
    "\n",
    "data = response.json()"
   ]
  },
  {
   "cell_type": "markdown",
   "id": "0586e519-c1d5-4d31-8c5f-439479a2e502",
   "metadata": {},
   "source": [
    "[![Try it!](../images/try-trove-api-console.svg)](https://troveconsole.herokuapp.com/v3/?url=https%3A%2F%2Fapi.trove.nla.gov.au%2Fv3%2Fresult%3Fq%3D%22clement+wragge%22+AND+cyclone%26category%3Dnewspaper%26artType%3Dnewspapers%26l-category%3DArticle%26l-state%3DQueensland%26n%3D100%26encoding%3Djson)"
   ]
  },
  {
   "cell_type": "markdown",
   "id": "a584b781-cf2b-4a62-b404-ad69a7f7acbe",
   "metadata": {},
   "source": [
    "The list of article records can be found at `data[\"category\"][0][\"records\"][\"article\"]`. Here's the first record:"
   ]
  },
  {
   "cell_type": "code",
   "execution_count": 4,
   "id": "9f8cb0ae-5320-44e2-926c-2ae886e011dd",
   "metadata": {
    "scrolled": true
   },
   "outputs": [
    {
     "data": {
      "text/plain": [
       "{'id': '169851997',\n",
       " 'url': 'https://api.trove.nla.gov.au/v3/newspaper/169851997',\n",
       " 'heading': 'CYCLONE FORECASTER. MR. CLEMENT WRAGGE.',\n",
       " 'category': 'Article',\n",
       " 'title': {'id': '837', 'title': 'Daily Mercury (Mackay, Qld. : 1906 - 1954)'},\n",
       " 'date': '1927-03-08',\n",
       " 'page': '3',\n",
       " 'pageSequence': '3',\n",
       " 'relevance': {'score': 540.1323852539062, 'value': 'very relevant'},\n",
       " 'snippet': '\"Coyyan\" writes in the Cairns \\'Post\\':-- Mr. Clement Wragge was generally referred to as the Inclement Wragge,\" purely on account of',\n",
       " 'troveUrl': 'https://.nla.gov.au/nla.news-article169851997?searchTerm=%22clement+wragge%22+AND+cyclone'}"
      ]
     },
     "execution_count": 4,
     "metadata": {},
     "output_type": "execute_result"
    }
   ],
   "source": [
    "data[\"category\"][0][\"records\"][\"article\"][0]"
   ]
  },
  {
   "cell_type": "markdown",
   "id": "c6358db1-ff8f-459e-a77e-5f555f2b4cc9",
   "metadata": {},
   "source": [
    "To print the titles of the first 10 articles you could do something like:"
   ]
  },
  {
   "cell_type": "code",
   "execution_count": 5,
   "id": "23a35a0f-aab8-4ac1-b2e8-244b992ad949",
   "metadata": {},
   "outputs": [
    {
     "name": "stdout",
     "output_type": "stream",
     "text": [
      "CYCLONE FORECASTER. MR. CLEMENT WRAGGE.\n",
      "CLEMENT WRAGGE.\n",
      "CYCLONE FORECASTER. MR. CLEMENT WRAGGE. SOME PROOF.\n",
      "CYCLONE FORECASTER. MR. CLEMENT WRAGGE. SOME PROOF.\n",
      "MR. CLEMENT WRAGGE.\n",
      "MR. CLEMENT WRAGGE.\n",
      "CLEMENT WRAGGE'S LATEST PREDICTION.\n",
      "Mr. Clement Wragge at Longreach\n",
      "METEOROLOGY. MR. CLEMENT WRAGGE' PROPOSALS.\n",
      "Weather Wizard. Mr. Clement Wragge. Mount Wellington Observatory.\n"
     ]
    }
   ],
   "source": [
    "for article in data[\"category\"][0][\"records\"][\"article\"][:10]:\n",
    "    print(article[\"heading\"])"
   ]
  },
  {
   "cell_type": "markdown",
   "id": "85cc4471-f2f6-409b-a636-548aa7bd8275",
   "metadata": {},
   "source": [
    "### Include extra fields in the metadata"
   ]
  },
  {
   "cell_type": "markdown",
   "id": "088ff79f-accb-4f87-bebf-dc2d1993c950",
   "metadata": {},
   "source": [
    "You can use the `reclevel` and `include` parameters to control the amount of metadata provided about each article. For example:\n",
    "\n",
    "Setting `reclevel=full` adds the following fields:\n",
    "\n",
    "- `trovePageUrl` – website url pointing to the page on which the article was published\n",
    "- `illustrated` – is this article illustrated (\"Y\" or \"N\")\n",
    "- `wordCount` – number of words\n",
    "- `correctionCount` – number of OCR corrections\n",
    "- `tagCount` – number of tags attached to this article\n",
    "- `commentCount` – number of tags attached to this article\n",
    "- `listCount` – number of lists this article has been added to\n",
    "- `lastCorrection` – details of last OCR correction, includes date and user name\n",
    "- `pdf` – link to download a PDF version of the page this article was published on\n",
    "\n",
    "[![Try it!](../images/try-trove-api-console.svg)](https://troveconsole.herokuapp.com/v3/?url=https%3A%2F%2Fapi.trove.nla.gov.au%2Fv3%2Fresult%3Fq%3D%22clement+wragge%22+AND+cyclone%26category%3Dnewspaper%26reclevel%3Dfull%26encoding%3Djson)"
   ]
  },
  {
   "cell_type": "markdown",
   "id": "b8787b54-e040-4b6b-8508-aaa2d9526bfa",
   "metadata": {},
   "source": [
    "````{warning}\n",
    "Note that while `wordCount`, `correctionCount`, `tagCount`, `commentCount`, and `listCount` are numbers, the API returns them as *strings*. If you want to run any mathematical operations on them, you'll first need to convert them into integers.\n",
    "\n",
    "```python\n",
    "word_count = int(article[\"wordCount\"])\n",
    "```\n",
    "````"
   ]
  },
  {
   "cell_type": "markdown",
   "id": "7c189176-08b8-4410-b094-828c3343a75f",
   "metadata": {},
   "source": [
    "Use the `include` parameter to add details about tags, comments, and lists. For example, setting `include=tags` will add a list of any attached tags to the article metadata:\n",
    "\n",
    "```json\n",
    "\"tag\": [\n",
    "    {\n",
    "        \"lastupdated\": \"2017-01-02T02:46:49Z\",\n",
    "        \"value\": \"Meteorologist - Clement Wragge\"\n",
    "    },\n",
    "    {\n",
    "        \"lastupdated\": \"2017-01-02T02:46:49Z\",\n",
    "        \"value\": \"Novelist - Marie Corelli\"\n",
    "    }\n",
    "]\n",
    "```\n",
    "\n",
    "[![Try it!](../images/try-trove-api-console.svg)](https://troveconsole.herokuapp.com/v3/?url=https%3A%2F%2Fapi.trove.nla.gov.au%2Fv3%2Fresult%3Fq%3D%22clement+wragge%22+AND+cyclone%26category%3Dnewspaper%26reclevel%3Dfull%26include%3Dtags%26include%3Dcomments%26include%3Dlists%26encoding%3Djson#limit-to-articles-with-illustrations)"
   ]
  },
  {
   "cell_type": "markdown",
   "id": "8c0a6ec7-e8c0-4fca-8ac7-0f7668517d96",
   "metadata": {},
   "source": [
    "### Using facets to get aggregate data about articles\n",
    "\n",
    "<mark>Links to QueryPic and other examples</mark>"
   ]
  },
  {
   "cell_type": "markdown",
   "id": "bf902be8-797e-406e-852f-37052da18582",
   "metadata": {},
   "source": [
    "### Pagination"
   ]
  },
  {
   "cell_type": "markdown",
   "id": "53274c0c-dbd9-4d45-8b69-0a96c8a2cdb3",
   "metadata": {
    "editable": true,
    "slideshow": {
     "slide_type": ""
    },
    "tags": []
   },
   "source": [
    "### Trove Newspaper Harvester\n",
    "\n",
    "<mark>==Where should this go?==</mark>\n",
    "\n",
    "- metadata, text, images, PDFs\n",
    "- no limit\n",
    "- metadata file captures query details\n",
    "\n",
    "### Get metadata for an individual article"
   ]
  },
  {
   "cell_type": "markdown",
   "id": "658dcfd5-50f6-421d-8a12-ffe225a1cd7b",
   "metadata": {},
   "source": [
    "### Get positional information from OCR\n",
    "\n",
    "Additional metadata relating OCRd text to its position on a page can be scraped from the Trove web site, see [](../how-to/newspapers/get-ocr-coordinates)"
   ]
  },
  {
   "cell_type": "markdown",
   "id": "730f5f6d-6c1d-4adb-9ee0-13c45493f844",
   "metadata": {},
   "source": [
    "## Text"
   ]
  },
  {
   "cell_type": "markdown",
   "id": "c49b3025-89dc-4c37-949a-15700be4d460",
   "metadata": {},
   "source": [
    "Newspaper text is segmented by article. The text is generated by OCR, with manual corrections by volunteers.\n",
    "\n",
    "### API\n",
    "\n",
    "`include=articletext`\n",
    "\n",
    "Note: includes html\n",
    "Note: not the AWW (have to scrape)\n",
    "\n",
    "Trove Newspaper Harvester (including AWW)"
   ]
  },
  {
   "cell_type": "markdown",
   "id": "d646527a-a3a7-4bde-90cd-2e61664d3d7c",
   "metadata": {},
   "source": [
    "## Images and PDFs"
   ]
  },
  {
   "cell_type": "markdown",
   "id": "741e9a13-95ff-40ad-a1bb-0699b7ecf783",
   "metadata": {
    "editable": true,
    "slideshow": {
     "slide_type": ""
    },
    "tags": []
   },
   "source": [
    "PDF proxy\n",
    "\n",
    "Save articles as images\n",
    "\n",
    "Save just the illustrations as images\n",
    "\n",
    "Save words as images"
   ]
  },
  {
   "cell_type": "code",
   "execution_count": null,
   "id": "702a2071-c743-479a-9494-75cb23930c41",
   "metadata": {},
   "outputs": [],
   "source": []
  }
 ],
 "metadata": {
  "kernelspec": {
   "display_name": "Python 3 (ipykernel)",
   "language": "python",
   "name": "python3"
  },
  "language_info": {
   "codemirror_mode": {
    "name": "ipython",
    "version": 3
   },
   "file_extension": ".py",
   "mimetype": "text/x-python",
   "name": "python",
   "nbconvert_exporter": "python",
   "pygments_lexer": "ipython3",
   "version": "3.8.12"
  }
 },
 "nbformat": 4,
 "nbformat_minor": 5
}
