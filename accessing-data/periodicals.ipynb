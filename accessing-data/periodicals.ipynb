{
 "cells": [
  {
   "cell_type": "markdown",
   "id": "c59678ed-583a-4928-a305-628881ddb8bc",
   "metadata": {},
   "source": [
    "# Periodicals\n",
    "\n",
    "## Identifiers and links\n",
    "\n",
    "https://nla.gov.au/nla.obj-2904453468/view?sectionId=nla.obj-2910847932&partId=nla.obj-2907109728\n",
    "\n",
    "first id is issue, second is article, third is page\n",
    "\n",
    "article link redirects to issue"
   ]
  },
  {
   "cell_type": "markdown",
   "id": "94c8bfb9-b107-4d33-b614-47e9045781b2",
   "metadata": {},
   "source": [
    "## Articles\n",
    "\n",
    "### Metadata\n",
    "\n",
    "`/search` in `magazine` category and `/work` endpoints \n",
    "\n",
    "`bibliographicCitation` in article records has structured publication metadata\n",
    "\n",
    "Advertisements on multiple pages in an issue grouped as a single work record for discovery: https://trove.nla.gov.au/work/232859472?keyword=fullTextInd%3Ay\n",
    "\n",
    "Can access as separate versions via the API: https://troveconsole.herokuapp.com/v3/?url=https%3A%2F%2Fapi.trove.nla.gov.au%2Fv3%2Fwork%2F232859472%3Fencoding%3Djson%26include%3Dall&comment=\n",
    "\n",
    "### Text\n",
    "\n",
    "Via API\n",
    "\n",
    "### Images and PDFs\n",
    "\n",
    "Page images"
   ]
  },
  {
   "cell_type": "markdown",
   "id": "4ec53928-bf9f-4483-ba0c-115dfda61ec4",
   "metadata": {},
   "source": [
    "## Issues\n",
    "\n",
    "### Metadata\n",
    "\n",
    "`/magazine/title` endpoint\n",
    "\n",
    "Issue id"
   ]
  }
 ],
 "metadata": {
  "kernelspec": {
   "display_name": "Python 3 (ipykernel)",
   "language": "python",
   "name": "python3"
  },
  "language_info": {
   "codemirror_mode": {
    "name": "ipython",
    "version": 3
   },
   "file_extension": ".py",
   "mimetype": "text/x-python",
   "name": "python",
   "nbconvert_exporter": "python",
   "pygments_lexer": "ipython3",
   "version": "3.8.12"
  }
 },
 "nbformat": 4,
 "nbformat_minor": 5
}
