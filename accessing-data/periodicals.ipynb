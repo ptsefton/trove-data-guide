{
 "cells": [
  {
   "cell_type": "markdown",
   "id": "c59678ed-583a-4928-a305-628881ddb8bc",
   "metadata": {},
   "source": [
    "# Periodicals"
   ]
  },
  {
   "cell_type": "markdown",
   "id": "94c8bfb9-b107-4d33-b614-47e9045781b2",
   "metadata": {},
   "source": [
    "`bibliographicCitation` in article records has structured publication metadata"
   ]
  }
 ],
 "metadata": {
  "kernelspec": {
   "display_name": "Python 3 (ipykernel)",
   "language": "python",
   "name": "python3"
  },
  "language_info": {
   "codemirror_mode": {
    "name": "ipython",
    "version": 3
   },
   "file_extension": ".py",
   "mimetype": "text/x-python",
   "name": "python",
   "nbconvert_exporter": "python",
   "pygments_lexer": "ipython3",
   "version": "3.8.12"
  }
 },
 "nbformat": 4,
 "nbformat_minor": 5
}
