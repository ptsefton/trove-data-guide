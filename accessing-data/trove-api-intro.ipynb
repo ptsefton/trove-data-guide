{
 "cells": [
  {
   "cell_type": "markdown",
   "id": "f2e3e056-bb2d-4a56-b49f-9ad8d9c7d06a",
   "metadata": {
    "editable": true,
    "slideshow": {
     "slide_type": ""
    },
    "tags": []
   },
   "source": [
    "# Trove API introduction"
   ]
  },
  {
   "cell_type": "markdown",
   "id": "d6d93f7a-249e-4f07-9a98-1440b95dd843",
   "metadata": {
    "editable": true,
    "slideshow": {
     "slide_type": ""
    },
    "tags": []
   },
   "source": [
    "```{attention}\n",
    "This guide is currently under development. For more information and discussion see [the list of issues](https://github.com/wragge/trove-data-guide/issues) on GitHub. Comments are welcome.\n",
    "```"
   ]
  },
  {
   "cell_type": "markdown",
   "id": "d7fcdd23-c4b2-4ccf-9dda-6d9500bb165e",
   "metadata": {
    "editable": true,
    "slideshow": {
     "slide_type": ""
    },
    "tags": []
   },
   "source": [
    "## Types of requests:\n",
    "\n",
    "- search\n",
    "- individual records\n",
    "- lists of values"
   ]
  },
  {
   "cell_type": "markdown",
   "id": "cfecd062-239e-49bd-a349-586b4c39e755",
   "metadata": {
    "editable": true,
    "slideshow": {
     "slide_type": ""
    },
    "tags": []
   },
   "source": [
    "## Endpoints\n",
    "\n",
    "<mark>==Link where appropriate to sections on specific categories/formats==</mark>\n",
    "\n",
    "### Search\n",
    "\n",
    "- `/result`\n",
    "\n",
    "### Lists\n",
    "\n",
    "- `/newspaper/titles`\n",
    "- `/gazette/titles`\n",
    "- `/magazine/titles`\n",
    "- `/contributor`\n",
    "\n",
    "### Items\n",
    "\n",
    "- `/newspaper/[id]`\n",
    "- `/work/[id]`\n",
    "- `/people/[id]`\n",
    "- `/list/[id]`\n",
    "- `/contributor/[id]`\n",
    "- `/newspaper/title/[id]`\n",
    "- `/gazette/title/[id]`\n",
    "- `/magazine/title/[id]`"
   ]
  },
  {
   "cell_type": "markdown",
   "id": "02bed68c-73e4-4b51-8074-abd1ea46b39e",
   "metadata": {
    "editable": true,
    "slideshow": {
     "slide_type": ""
    },
    "tags": []
   },
   "source": [
    "## Parameters\n",
    "\n",
    "<mark>==How much detail do I go into? Do I just point to Trove docs?==</mark>"
   ]
  },
  {
   "cell_type": "markdown",
   "id": "015eb1b4-695f-43da-af34-571dc0861356",
   "metadata": {
    "editable": true,
    "slideshow": {
     "slide_type": ""
    },
    "tags": []
   },
   "source": [
    "## Translating a web query into an API query\n",
    "\n",
    "- trove-query-parser for newspapers\n",
    "- easier with 'simple' search"
   ]
  },
  {
   "cell_type": "markdown",
   "id": "2e62c82b-7a07-4ebc-895c-9f4283cbf009",
   "metadata": {
    "editable": true,
    "slideshow": {
     "slide_type": ""
    },
    "tags": []
   },
   "source": [
    "## Authentication\n",
    "\n",
    "- anonymous access\n",
    "- API keys"
   ]
  },
  {
   "cell_type": "markdown",
   "id": "d14865b8-1138-44e6-bb21-d79407cabb60",
   "metadata": {
    "editable": true,
    "slideshow": {
     "slide_type": ""
    },
    "tags": []
   },
   "source": [
    "## Making a request\n",
    "\n",
    "Basic examples linked to API Console"
   ]
  },
  {
   "cell_type": "markdown",
   "id": "4092f6cb-b703-46ef-aee9-8fa4614b85c8",
   "metadata": {
    "editable": true,
    "slideshow": {
     "slide_type": ""
    },
    "tags": []
   },
   "source": [
    "## API responses\n",
    "\n",
    "<mark>==Again how much details is required? Specific info can be provided in the sections about particular categories/formats==</mark>"
   ]
  },
  {
   "cell_type": "markdown",
   "id": "2493eff9-00cd-47b2-bb9b-4762c88bd31f",
   "metadata": {
    "editable": true,
    "slideshow": {
     "slide_type": ""
    },
    "tags": []
   },
   "source": [
    "## Harvesting a complete result set\n",
    "\n",
    "- Use of `bulkHarvest` parameter\n",
    "- using `nextStart`\n",
    "- effect of `category=all`\n",
    "\n",
    "Provide a basic code pattern for paginating through a result set.\n",
    "\n",
    "Saving results (ndjson, csv (with flattening) etc)\n"
   ]
  },
  {
   "cell_type": "code",
   "execution_count": null,
   "id": "ce6a8c82-55f3-404e-bb6d-4dbc48c90201",
   "metadata": {
    "editable": true,
    "slideshow": {
     "slide_type": ""
    },
    "tags": []
   },
   "outputs": [],
   "source": []
  }
 ],
 "metadata": {
  "kernelspec": {
   "display_name": "Python 3 (ipykernel)",
   "language": "python",
   "name": "python3"
  },
  "language_info": {
   "codemirror_mode": {
    "name": "ipython",
    "version": 3
   },
   "file_extension": ".py",
   "mimetype": "text/x-python",
   "name": "python",
   "nbconvert_exporter": "python",
   "pygments_lexer": "ipython3",
   "version": "3.8.12"
  }
 },
 "nbformat": 4,
 "nbformat_minor": 5
}
