{
 "cells": [
  {
   "cell_type": "markdown",
   "id": "c661cc8d-a6ef-448c-99a4-dc88353bf694",
   "metadata": {},
   "source": [
    "# Downloading data from the Trove web interface"
   ]
  },
  {
   "cell_type": "markdown",
   "id": "25a39c0a-a4f1-468b-8445-be331d5a453b",
   "metadata": {
    "editable": true,
    "slideshow": {
     "slide_type": ""
    },
    "tags": []
   },
   "source": [
    "```{attention}\n",
    "This guide is currently under development. For more information and discussion see [the list of issues](https://github.com/wragge/trove-data-guide/issues) on GitHub. Comments are welcome.\n",
    "```"
   ]
  },
  {
   "cell_type": "markdown",
   "id": "3d08ec7a-9584-402c-a97f-106ca0393229",
   "metadata": {},
   "source": [
    "- download images and text\n",
    "- download citations\n",
    "- bulk export\n",
    "- download lists\n",
    "- using Zotero (newspapers)"
   ]
  },
  {
   "cell_type": "markdown",
   "id": "5ffb67b2-fb59-47c2-9c2d-5e2d60001ee0",
   "metadata": {},
   "source": [
    "## Downloading images, PDFs, text, and audio\n",
    "\n",
    "The official Trove Help includes a page on [Downloading](https://trove.nla.gov.au/help/using-trove/downloading) that describes the options available in the various Trove categories for downloading images, PDFs, text, and audio. Different formats have different viewers, but generally speaking you just need to find the download tab in the sidebar, select a format, and click the button."
   ]
  },
  {
   "cell_type": "markdown",
   "id": "51090ccb-9c93-4ebc-a026-4708ba0a06a6",
   "metadata": {},
   "source": [
    "```{figure} ../images/web-download-example.png\n",
    ":name: download-tag\n",
    ":width: 300\n",
    "Example of the download tab in the digitised magazines and newsletters viewer\n",
    "```"
   ]
  },
  {
   "cell_type": "markdown",
   "id": "e8ba94e8-8abb-41fd-a0d1-c18700fc0dd8",
   "metadata": {},
   "source": [
    "|Trove category | Item type | Download option | Note |\n",
    "|---------|------|--------|------|\n",
    "| Newspapers & gazettes | article | image | The 'image' option actually delivers an HTML page with embedded images. Long articles will often be sliced up in unfortunate ways to 'fit' an A4 page. To get the images themselves you need to extract them from the HTML and try to reassemble them. See... for alternatives|\n",
    "| Newspapers & gazettes | article | PDF |\n",
    "| Newspapers & gazettes | article | text | The 'text' option actually delivers an HTML page that includes the publication details as well as the article text. If you just want the plain OCRd text you'd need to extract it from the HTML and remove the publication details.\n",
    "| Newspapers & gazettes | page | PDF | Note that there's no option to download a page as an image. See... for alternatives.\n",
    "| Newspapers & gazettes | issue | PDF | \n",
    "| Books & libraries | book (single page, range of pages, or complete) | image | Images (single or multiple) are downloaded in a zip file with a page of copyright information.\n",
    "| Books & libraries | book (single page, range of pages, or complete) | PDF |\n",
    "| Books & libraries | book (single page, range of pages, or complete) | text | Unlike the newspapers, this is plain text with no formatting. \n",
    "| Magazines & newsletters | article | | There's no option to download individual articles as images or text. While you search for individual articles, the viewer only presents pages. This is different to the newspapers where the viewer presents individual articles.\n",
    "| Magazines & newsletters | single page, range of pages, or complete issue | image | Images (single or multiple) are downloaded in a zip file with a page of copyright information.\n",
    "| Magazines & newsletters | single page, range of pages, or complete issue | PDF | \n",
    "| Magazines & newsletters | single page, range of pages, or complete issue | text | Unlike the newspapers, this is plain text with no formatting."
   ]
  },
  {
   "cell_type": "markdown",
   "id": "eb9f25de-2bcb-4994-9db9-1abe1185b4ca",
   "metadata": {},
   "source": [
    "```{admonition} What about image resolutions?\n",
    ":class: note\n",
    "\n",
    "Describe variations...\n",
    "```"
   ]
  },
  {
   "cell_type": "code",
   "execution_count": null,
   "id": "5f7d1e29-1e8a-4e8d-904b-14e2fbd6ce6c",
   "metadata": {},
   "outputs": [],
   "source": []
  }
 ],
 "metadata": {
  "kernelspec": {
   "display_name": "Python 3 (ipykernel)",
   "language": "python",
   "name": "python3"
  },
  "language_info": {
   "codemirror_mode": {
    "name": "ipython",
    "version": 3
   },
   "file_extension": ".py",
   "mimetype": "text/x-python",
   "name": "python",
   "nbconvert_exporter": "python",
   "pygments_lexer": "ipython3",
   "version": "3.8.12"
  }
 },
 "nbformat": 4,
 "nbformat_minor": 5
}
