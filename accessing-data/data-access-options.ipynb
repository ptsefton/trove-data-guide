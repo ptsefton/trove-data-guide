{
 "cells": [
  {
   "cell_type": "markdown",
   "id": "af1f1f9b-9f7a-4ef1-91be-cf6aa6b2fd33",
   "metadata": {
    "editable": true,
    "slideshow": {
     "slide_type": ""
    },
    "tags": []
   },
   "source": [
    "# Data access options"
   ]
  },
  {
   "cell_type": "markdown",
   "id": "05610035-4c78-4610-ac1c-233186b04c02",
   "metadata": {
    "editable": true,
    "slideshow": {
     "slide_type": ""
    },
    "tags": []
   },
   "source": [
    "```{attention}\n",
    "This guide is currently under development. For more information and discussion see [the list of issues](https://github.com/wragge/trove-data-guide/issues) on GitHub. Comments are welcome.\n",
    "```"
   ]
  },
  {
   "cell_type": "markdown",
   "id": "693e7afa-0ef9-4d83-8372-e9ca1ed81a37",
   "metadata": {
    "editable": true,
    "slideshow": {
     "slide_type": ""
    },
    "tags": []
   },
   "source": [
    "This section documents methods for obtaining {term}`machine-readable data` from Trove. You can manually download some types of data, such as images, from Trove's web interface. But the focus here is on reusable and extensible methods that can be used in a variety of workflows, such as the creation of datasets for further analysis.\n",
    "\n",
    "There are a number of ways in which you can access data from Trove:\n",
    "\n",
    "- using the web interface\n",
    "- downloading pre-harvested datasets\n",
    "- querying APIs"
   ]
  },
  {
   "cell_type": "markdown",
   "id": "69e37593-aa1c-484c-baa6-765e67086434",
   "metadata": {
    "editable": true,
    "slideshow": {
     "slide_type": ""
    },
    "tags": []
   },
   "source": [
    "## Using the web interface\n",
    "\n",
    "- download images and text\n",
    "- download citations\n",
    "- scrape metadata\n",
    "- bulk export\n",
    "- download lists"
   ]
  },
  {
   "cell_type": "markdown",
   "id": "4ad5f32f-02ac-46d4-a9d8-25d8569ca0f8",
   "metadata": {
    "editable": true,
    "slideshow": {
     "slide_type": ""
    },
    "tags": []
   },
   "source": [
    "## Downloading pre-harvested datasets\n",
    "\n",
    "- [Sources of Australian GLAM data](https://glam-workbench.net/glam-data-list/)"
   ]
  },
  {
   "cell_type": "markdown",
   "id": "f0ef1956-40db-452e-9fe8-94263d239a3a",
   "metadata": {
    "editable": true,
    "slideshow": {
     "slide_type": ""
    },
    "tags": []
   },
   "source": [
    "## Querying APIs\n",
    "\n",
    "- Introduction to APIs\n",
    "- Trove APIs overview"
   ]
  },
  {
   "cell_type": "code",
   "execution_count": null,
   "id": "beca6d66-79da-4ed7-a83c-98c51687f048",
   "metadata": {
    "editable": true,
    "slideshow": {
     "slide_type": ""
    },
    "tags": []
   },
   "outputs": [],
   "source": []
  }
 ],
 "metadata": {
  "kernelspec": {
   "display_name": "Python 3 (ipykernel)",
   "language": "python",
   "name": "python3"
  },
  "language_info": {
   "codemirror_mode": {
    "name": "ipython",
    "version": 3
   },
   "file_extension": ".py",
   "mimetype": "text/x-python",
   "name": "python",
   "nbconvert_exporter": "python",
   "pygments_lexer": "ipython3",
   "version": "3.8.12"
  }
 },
 "nbformat": 4,
 "nbformat_minor": 5
}
