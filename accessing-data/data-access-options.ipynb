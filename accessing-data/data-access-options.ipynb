{
 "cells": [
  {
   "cell_type": "markdown",
   "id": "af1f1f9b-9f7a-4ef1-91be-cf6aa6b2fd33",
   "metadata": {
    "editable": true,
    "slideshow": {
     "slide_type": ""
    },
    "tags": []
   },
   "source": [
    "# Data access options"
   ]
  },
  {
   "cell_type": "markdown",
   "id": "05610035-4c78-4610-ac1c-233186b04c02",
   "metadata": {
    "editable": true,
    "slideshow": {
     "slide_type": ""
    },
    "tags": []
   },
   "source": [
    "```{attention}\n",
    "This guide is currently under development. For more information and discussion see [the list of issues](https://github.com/wragge/trove-data-guide/issues) on GitHub. Comments are welcome.\n",
    "```"
   ]
  },
  {
   "cell_type": "markdown",
   "id": "693e7afa-0ef9-4d83-8372-e9ca1ed81a37",
   "metadata": {
    "editable": true,
    "slideshow": {
     "slide_type": ""
    },
    "tags": []
   },
   "source": [
    "There are many different [types of data](types-of-data/types-of-data) available from Trove and many different ways of accessing it. You can manually download some data, such as images, from Trove's web interface. If you're creating small, selective datasets, these manual methods might be all you need.\n",
    "\n",
    "But what if you want to save *all* the results from a search, automate downloading of images and text, or create a pipeline to feed Trove data into a specific tool for analysis? In these sorts of cases, you need access methods that are reusable and extensible – methods that can be invoked using code and that deliver data in a {term}`machine readable` format that computers can manipulate.\n",
    "\n",
    "The Trove {term}`Application Programming Interface (API)` is the main way of accessing machine-readable data using automated methods. Computer programs can request data from the API and have it delivered in a predictable, structured format. Using the API you can construct reusable data-processing workflows, and create datasets containing millions of items.\n",
    "\n",
    "However, the Trove API does have a few gaps and inconsistencies. Sometimes there's just no convenient way of getting the data you want. In these cases you might need to resort to {term}`screen scraping` – a process of extracting structured data from regular web pages. Compared to API access, screen scraping tends to be inefficient and error prone. But it's a handy technique when other methods fail. See, for example: [](/how-to/newspapers/get-ocr-coordinates).\n",
    "\n",
    "It's also possible that someone might have done all the work for you! There are a number of ready-made datasets available for you to download and explore."
   ]
  },
  {
   "cell_type": "markdown",
   "id": "706cf695-b726-4746-8094-af7b4ad79260",
   "metadata": {
    "editable": true,
    "slideshow": {
     "slide_type": ""
    },
    "tags": []
   },
   "source": [
    "```{tableofcontents}\n",
    "```"
   ]
  }
 ],
 "metadata": {
  "kernelspec": {
   "display_name": "Python 3 (ipykernel)",
   "language": "python",
   "name": "python3"
  },
  "language_info": {
   "codemirror_mode": {
    "name": "ipython",
    "version": 3
   },
   "file_extension": ".py",
   "mimetype": "text/x-python",
   "name": "python",
   "nbconvert_exporter": "python",
   "pygments_lexer": "ipython3",
   "version": "3.8.12"
  }
 },
 "nbformat": 4,
 "nbformat_minor": 5
}
