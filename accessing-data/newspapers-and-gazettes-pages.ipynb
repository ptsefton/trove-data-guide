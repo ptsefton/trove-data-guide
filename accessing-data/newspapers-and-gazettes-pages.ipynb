{
 "cells": [
  {
   "cell_type": "markdown",
   "id": "ef291d70-a93a-4b41-9af1-c852108658eb",
   "metadata": {},
   "source": [
    "# Accessing data about newspaper & gazette pages\n",
    "\n",
    "```{attention}\n",
    "This guide is currently under development. For more information and discussion see [the list of issues](https://github.com/wragge/trove-data-guide/issues) on GitHub. Comments are welcome.\n",
    "```\n",
    "\n",
    "```{contents}\n",
    ":local:\n",
    "```"
   ]
  },
  {
   "cell_type": "code",
   "execution_count": null,
   "id": "cb6042c8-ff79-4c54-903c-6e886e73f2c6",
   "metadata": {},
   "outputs": [],
   "source": [
    "import datetime\n",
    "import os\n",
    "\n",
    "import altair as alt\n",
    "import pandas as pd\n",
    "import requests\n",
    "from dotenv import load_dotenv\n",
    "from IPython.display import HTML, JSON\n",
    "from myst_nb import glue\n",
    "\n",
    "load_dotenv()\n",
    "YOUR_API_KEY = os.getenv(\"TROVE_API_KEY\")"
   ]
  },
  {
   "cell_type": "markdown",
   "id": "d602fa67-deaf-45fb-9863-7f818ce9cc3e",
   "metadata": {},
   "source": [
    "## Metadata"
   ]
  },
  {
   "cell_type": "markdown",
   "id": "387af313-ac69-499b-9a12-c5c2cd2ec0fb",
   "metadata": {
    "editable": true,
    "slideshow": {
     "slide_type": ""
    },
    "tags": []
   },
   "source": [
    "<mark>==Include something about the different ways pages are represented -- as images with identifiers, as consecutive numbers in navigation, and as labels.==</mark>\n",
    "\n",
    "There is no direct method for requesting metadata about a newspaper page in Trove. You can, however, get some information about pages from issues and articles.\n",
    "\n",
    "(get-a-list-of-front-page-urls)=\n",
    "### Get a list of front page urls\n",
    "\n",
    "As described below, you can get information about individual issues from the `newspaper/title` and `gazette/title` endpoints. The issue data includes a `date` and a `url`. If you request the url you are redirected to the first page of that issue. Therefore, by working through each issue, it's possible to get a list of all of the front page urls for a particular newspaper. Here's an example:"
   ]
  },
  {
   "cell_type": "code",
   "execution_count": 3,
   "id": "50d49b65-1cb4-485b-8cb6-6836011fdaf0",
   "metadata": {},
   "outputs": [],
   "source": [
    "import requests\n",
    "\n",
    "params = {\"encoding\": \"json\", \"include\": \"years\", \"range\": \"19300101-19351231\"}\n",
    "\n",
    "# Supply API key using headers\n",
    "headers = {\"X-API-KEY\": YOUR_API_KEY}\n",
    "\n",
    "url = f\"https://api.trove.nla.gov.au/v3/newspaper/title/11\"\n",
    "response = requests.get(url, params=params, headers=headers)\n",
    "data = response.json()\n",
    "years = data[\"year\"]\n",
    "\n",
    "# Let's get issue details for our range\n",
    "issues = []\n",
    "for year in years:\n",
    "    # If the year is in our range it will include an `issue` value\n",
    "    if \"issue\" in year:\n",
    "        # Add this year's issues\n",
    "        issues += year[\"issue\"]"
   ]
  },
  {
   "cell_type": "code",
   "execution_count": 4,
   "id": "9f934631-f21d-49d7-9877-bb57f608ec0e",
   "metadata": {
    "editable": true,
    "slideshow": {
     "slide_type": ""
    },
    "tags": []
   },
   "outputs": [
    {
     "name": "stdout",
     "output_type": "stream",
     "text": [
      "1930-01-01: page 1, https://trove.nla.gov.au/newspaper/page/517916\n",
      "1930-01-02: page 1, https://trove.nla.gov.au/newspaper/page/517925\n",
      "1930-01-03: page 1, https://trove.nla.gov.au/newspaper/page/517940\n",
      "1930-01-04: page 1, https://trove.nla.gov.au/newspaper/page/517954\n",
      "1930-01-06: page 1, https://trove.nla.gov.au/newspaper/page/517967\n"
     ]
    }
   ],
   "source": [
    "# We'll use the first 5 values from a list of issues of the Canberra Times (see below for details)\n",
    "for issue in issues[:5]:\n",
    "    # This request is getting a web page, so no params or headers required\n",
    "    response = requests.get(issue[\"url\"])\n",
    "\n",
    "    # The request has been redirected to the first page of the issue.\n",
    "    # We can get the new redirected url from the response object.\n",
    "    page_url = response.url\n",
    "\n",
    "    print(f\"{issue['date']}: page 1, {page_url}\")"
   ]
  },
  {
   "cell_type": "markdown",
   "id": "2b467826-c7c6-47ae-a789-3e336ea0896a",
   "metadata": {
    "editable": true,
    "slideshow": {
     "slide_type": ""
    },
    "tags": []
   },
   "source": [
    "The number at the end of the page url uniquely identifies that page. It can be used to download an image of the page ([see below](download-a-page-image)). While this method is a bit inefficient, forcing us to fire off a request for every issue, it does enable us to link three important pieces of page metadata – the date, the page number, and the page identifier."
   ]
  },
  {
   "cell_type": "markdown",
   "id": "64fc941b-df9c-4c0b-97d1-1bc7d4d3ea95",
   "metadata": {
    "editable": true,
    "slideshow": {
     "slide_type": ""
    },
    "tags": []
   },
   "source": [
    "### Get a page url for a specific title, date, and page\n",
    "\n",
    "````{margin}\n",
    "```{seealso}\n",
    "The [Today's News Yesterday](https://glam-workbench.net/trove-newspapers/#todays-news-yesterday) notebook in the GLAM Workbench provides an example of using `date` and `firstpageseq` to get a particular page.\n",
    "```\n",
    "````\n",
    "\n",
    "You can also get page identifiers from a search for newspaper articles using the `/result` endpoint. To find the identifier for a particular page in a particular issue, you need to specify the title (the newspaper name), the publication date, and the page number.\n",
    "\n",
    "First you need to tell the Trove API you want to search for newspaper articles. You do this by setting the `category` parameter to `newspaper`.\n",
    "\n",
    "The title is set using the `l-title` parameter. As noted above, the identifier for the *Canberra Times* is `11`, so to limit your search to the *Canberra Times* you'd set `l-title=11`.\n",
    "\n",
    "The date is set using the `date` index within the `q` (query) parameter. You use the `date` index by supplying a date range. If you want a single day, the first date in the range should be the day **before** the date you want. The dates need to be in ISO format – `YYYY-MM-DDT00:00:00Z`. For example, if we wanted a page from 2 November 1942, we'd set the `q` parameter to `date:[1942-11-01T00:00:00Z TO 1942-11-02T00:00:00Z]`.\n",
    "\n",
    "To request a specific page number, you use the `firstpageseq` index in the `q` parameter. To find page 3, you'd add `firstpageseq:3` to the value for `q`.\n",
    "\n",
    "Finally, you need to add `reclevel=full` to the request. This asks for additional metadata about the article, including the url of the page. You can also add `n=1` to the request if you want. This sets the number of articles required. In this case we only need one.\n",
    "\n",
    "So, in summary, if we wanted the identifier of page 3 of the *Canberra Times* from 2 November 1942, your request would include the following parameters:\n",
    "\n",
    "- `category=newspaper`\n",
    "- `l-title=11`\n",
    "- `q=date:[1942-11-01T00:00:00Z TO 1942-11-02T00:00:00Z] firstpageseq:3`\n",
    "- `reclevel=full`\n",
    "- `n=1`\n",
    "\n",
    "[![Try it!](../images/try-trove-api-console.svg)](https://troveconsole.herokuapp.com/v3/?url=https%3A%2F%2Fapi.trove.nla.gov.au%2Fv3%2Fresult%3Fq%3Ddate%3A%5B1942-11-01T00%3A00%3A00Z+TO+1942-11-02T00%3A00%3A00Z%5D+firstpageseq%3A3%26category%3Dnewspaper%26l-title%3D11%26reclevel%3Dfull%26n%3D1%26encoding%3Djson)\n",
    "\n",
    "More detail about using the `/result` endpoint to get information about articles is included below.\n",
    "\n",
    "The article metadata returned by this search will include a value for `trovePageUrl`, for example: `https://nla.gov.au/nla.news-page682904`. You could use this identifier to retrieve an image of the page using the [method described below](download-a-page-image). Here's a full example:"
   ]
  },
  {
   "cell_type": "code",
   "execution_count": 11,
   "id": "a84bb06a-02f1-4875-b8ae-67e74813b952",
   "metadata": {
    "editable": true,
    "slideshow": {
     "slide_type": ""
    },
    "tags": []
   },
   "outputs": [
    {
     "data": {
      "text/plain": [
       "'https://nla.gov.au/nla.news-page682904'"
      ]
     },
     "execution_count": 11,
     "metadata": {},
     "output_type": "execute_result"
    }
   ],
   "source": [
    "# Search parameters\n",
    "params = {\n",
    "    \"q\": \"date:[1942-11-01T00:00:00Z TO 1942-11-02T00:00:00Z] firstPageSeq:3\",\n",
    "    \"category\": \"newspaper\",\n",
    "    \"l-title\": \"11\",\n",
    "    \"reclevel\": \"full\",\n",
    "    \"n\": 1,\n",
    "    \"encoding\": \"json\",\n",
    "}\n",
    "\n",
    "# Make the request\n",
    "response = requests.get(\n",
    "    \"https://api.trove.nla.gov.au/v3/result\", params=params, headers=headers\n",
    ")\n",
    "\n",
    "# Get the results as JSON\n",
    "data = response.json()\n",
    "\n",
    "# Get the `trovePageUrl` value from the first article in the result set\n",
    "page_identifier = data[\"category\"][0][\"records\"][\"article\"][0][\"trovePageUrl\"]\n",
    "\n",
    "page_identifier"
   ]
  },
  {
   "cell_type": "markdown",
   "id": "f20406f9-9096-4505-b1af-8854ee037383",
   "metadata": {},
   "source": [
    "## Page text"
   ]
  },
  {
   "cell_type": "markdown",
   "id": "95826e20-a612-44a2-a733-38596e7b21d9",
   "metadata": {},
   "source": [
    "aggregated articles\n",
    "\n",
    "Trove Newspaper harvester file titles -- how to reaggregate"
   ]
  },
  {
   "cell_type": "markdown",
   "id": "d53e7c55-e0af-43e3-b2f9-599db998048c",
   "metadata": {},
   "source": [
    "## Page images and PDFs"
   ]
  },
  {
   "cell_type": "markdown",
   "id": "4bd75fda-c951-4488-9754-e4b84900753e",
   "metadata": {},
   "source": [
    "````{margin}\n",
    "```{seealso}\n",
    "If you want to quickly get a page image from an article url, try the GLAM Workbench's [Download a page image](https://trove-newspaper-apps.uw.r.appspot.com/voila/render/Save-page-image.ipynb) app.\n",
    "```\n",
    "````\n",
    "\n",
    "(download-a-page-image)=\n",
    "### Download a page image\n",
    "\n",
    "Once you know the secret formula, getting page images is easy. You can download a page image using a url like this:\n",
    "\n",
    "```html\n",
    "https://trove.nla.gov.au/ndp/imageservice/nla.news-page[PAGE ID]/level[ZOOM LEVEL]\n",
    "```\n",
    "\n",
    "Where `[PAGE ID]` is the page's numeric identifier, and `[ZOOM LEVEL]` is a number between 1 and 7, corresponding to the zoom levels in the web interface. The higher the zoom level, the larger the image. As a rough guide:\n",
    "\n",
    "- level `1` gives an image around 900 x 1200 px (500kb)\n",
    "- level `4` gives an image around 2700 x 3500 px (3mb)\n",
    "- level `7` gives an image around 6100 x 7800 px (7mb)\n",
    "\n",
    "For example, this url loads the image for the page with the id `517916`: <https://trove.nla.gov.au/ndp/imageservice/nla.news-page517916/level4>\n",
    "\n",
    "But where do you get the page identifiers from?\n",
    "\n",
    "- If you're viewing an article in the web interface, click on the 'Cite' tab to display the full page identifier. Just copy the number at the end of the url.\n",
    "- If you're working with article records from the API, make sure you include the `reclevel` parameter with a value of `full`. The article records will then include a `trovePageUrl` value. Just copy the number at the end of the url.\n",
    "\n",
    "### Download a collection of page images\n",
    "\n",
    "Perhaps you want to download all the front pages of a particular newspaper, or the front page of all newspapers on a particular date. Use one of the methods described above to get a list of page urls. Then loop through the list, extracting the page id, and constructing the image download url for each page. The GLAM Workbench provides an example of this in the [Harvest Australian Women's Weekly covers (or the front pages of any newspaper)](https://glam-workbench.net/trove-newspapers/#harvest-australian-womens-weekly-covers-or-the-front-pages-of-any-newspaper) notebook.\n",
    "\n",
    "### Page as PDF"
   ]
  },
  {
   "cell_type": "code",
   "execution_count": null,
   "id": "c8d194dd-059c-4d69-b57d-ffb5c0f12526",
   "metadata": {},
   "outputs": [],
   "source": []
  }
 ],
 "metadata": {
  "kernelspec": {
   "display_name": "Python 3 (ipykernel)",
   "language": "python",
   "name": "python3"
  },
  "language_info": {
   "codemirror_mode": {
    "name": "ipython",
    "version": 3
   },
   "file_extension": ".py",
   "mimetype": "text/x-python",
   "name": "python",
   "nbconvert_exporter": "python",
   "pygments_lexer": "ipython3",
   "version": "3.8.12"
  }
 },
 "nbformat": 4,
 "nbformat_minor": 5
}
