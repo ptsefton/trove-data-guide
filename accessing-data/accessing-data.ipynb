{
 "cells": [
  {
   "cell_type": "markdown",
   "id": "5d7d99ff-6452-4044-904e-3e2912868723",
   "metadata": {},
   "source": [
    "# Accessing data"
   ]
  }
 ],
 "metadata": {
  "jupytext": {
   "formats": "ipynb,md:myst"
  },
  "kernelspec": {
   "display_name": "Python 3 (ipykernel)",
   "language": "python",
   "name": "python3"
  },
  "language_info": {
   "codemirror_mode": {
    "name": "ipython",
    "version": 3
   },
   "file_extension": ".py",
   "mimetype": "text/x-python",
   "name": "python",
   "nbconvert_exporter": "python",
   "pygments_lexer": "ipython3",
   "version": "3.8.12"
  }
 },
 "nbformat": 4,
 "nbformat_minor": 5
}
