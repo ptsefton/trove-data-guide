{
 "cells": [
  {
   "cell_type": "markdown",
   "id": "e735ecc4-3ae9-48dd-80f0-8d28757ffbd5",
   "metadata": {},
   "source": [
    "# Digitised books, pamphlets, and print music"
   ]
  },
  {
   "cell_type": "markdown",
   "id": "24bba747-c9ff-4243-80bf-df4379a50f24",
   "metadata": {},
   "source": [
    "Print publications with multiple pages.\n",
    "\n",
    "Can be individual items or collections of items (eg multi-volume books)."
   ]
  },
  {
   "cell_type": "markdown",
   "id": "ab28b308-a6cc-4360-9123-57020d1cb349",
   "metadata": {},
   "source": [
    "## Metadata\n",
    "\n",
    "There seem to be a lot of duplicate records -- Libraries Australia and Trove DL (why not merged?)\n",
    "\n",
    "- work records (via search and `/work/` endpoints)\n",
    "- embedded metadata\n",
    "    - pages (number of pages important for text, images, pdf)\n",
    "    - chapters?\n",
    "- lists of items in collections\n",
    "\n",
    "Create datasets\n",
    "\n",
    "Pre-harvested datasets -- digitised books with OCR\n",
    "\n",
    "Search and formats/categories\n",
    "\n",
    "Facets -- eg language? (but usual work/version problems)"
   ]
  },
  {
   "cell_type": "markdown",
   "id": "27f3717f-b9a0-4468-8e4f-87865907cd76",
   "metadata": {
    "editable": true,
    "slideshow": {
     "slide_type": ""
    },
    "tags": []
   },
   "source": [
    "## Text\n",
    "\n",
    "Some in API but not all and limits on length -- don't use!\n",
    "\n",
    "Once you have number of pages can download --> how to\n",
    "\n",
    "Pre-harvested datasets"
   ]
  },
  {
   "cell_type": "markdown",
   "id": "3fd20adf-1abd-40b2-8cb1-26d877df4bc6",
   "metadata": {},
   "source": [
    "## Images and PDF\n",
    "\n",
    "Once you have number of pages can download --> how to\n",
    "\n",
    "Some allow view but not download: https://nla.gov.au/nla.obj-2490195342/view"
   ]
  },
  {
   "cell_type": "markdown",
   "id": "6f139532-4776-4b51-b655-1b081d42014b",
   "metadata": {},
   "source": [
    "## Oddities\n",
    "\n",
    "This is a collection, but instead of the items in the collection having their own work records, they're versions of the work. This makes it hard to get at the individual items via the API.\n",
    "\n",
    "https://trove.nla.gov.au/work/12938999/"
   ]
  }
 ],
 "metadata": {
  "kernelspec": {
   "display_name": "Python 3 (ipykernel)",
   "language": "python",
   "name": "python3"
  },
  "language_info": {
   "codemirror_mode": {
    "name": "ipython",
    "version": 3
   },
   "file_extension": ".py",
   "mimetype": "text/x-python",
   "name": "python",
   "nbconvert_exporter": "python",
   "pygments_lexer": "ipython3",
   "version": "3.8.12"
  }
 },
 "nbformat": 4,
 "nbformat_minor": 5
}
