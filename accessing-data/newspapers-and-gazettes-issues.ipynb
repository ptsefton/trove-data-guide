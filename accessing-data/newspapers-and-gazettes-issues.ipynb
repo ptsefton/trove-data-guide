{
 "cells": [
  {
   "cell_type": "markdown",
   "id": "1febbc63-506f-42a8-a36b-c8b31ee87d45",
   "metadata": {},
   "source": [
    "# Accessing data about newspaper & gazette issues\n",
    "\n",
    "```{attention}\n",
    "This guide is currently under development. For more information and discussion see [the list of issues](https://github.com/wragge/trove-data-guide/issues) on GitHub. Comments are welcome.\n",
    "```\n",
    "\n",
    "```{contents}\n",
    ":local:\n",
    "```"
   ]
  },
  {
   "cell_type": "code",
   "execution_count": 1,
   "id": "9962c4ac-93fa-40c0-8343-06ece0df5aad",
   "metadata": {
    "editable": true,
    "slideshow": {
     "slide_type": ""
    },
    "tags": [
     "remove-cell"
    ]
   },
   "outputs": [],
   "source": [
    "import datetime\n",
    "import os\n",
    "\n",
    "import altair as alt\n",
    "import pandas as pd\n",
    "import requests\n",
    "from dotenv import load_dotenv\n",
    "from IPython.display import HTML, JSON\n",
    "from myst_nb import glue\n",
    "\n",
    "load_dotenv()\n",
    "YOUR_API_KEY = os.getenv(\"TROVE_API_KEY\")"
   ]
  },
  {
   "cell_type": "markdown",
   "id": "36832f74-9eb8-451c-81a6-273a031dd756",
   "metadata": {},
   "source": [
    "## Metadata"
   ]
  },
  {
   "cell_type": "markdown",
   "id": "d851d45d-b731-49fc-bd44-7ae8349b71b7",
   "metadata": {
    "editable": true,
    "slideshow": {
     "slide_type": ""
    },
    "tags": []
   },
   "source": [
    "### Get the number of issues per year for a title\n",
    "\n",
    "You can use the `newspaper/title` and `gazette/title` endpoints to get the total number of digitised issues per year for a newspaper or gazette title. You just add the `include` parameter and set its value to `years`.\n",
    "\n",
    "[![Try it!](../images/try-trove-api-console.svg)](https://troveconsole.herokuapp.com/v3/?url=https%3A%2F%2Fapi.trove.nla.gov.au%2Fv3%2Fnewspaper%2Ftitle%2F11%3Fencoding%3Djson%26include%3Dyears)\n",
    "\n",
    "Here's an example getting the number of issues per year from the *Canberra Times* (whose title identifier is `11`)."
   ]
  },
  {
   "cell_type": "code",
   "execution_count": 7,
   "id": "eee141eb-c289-4f8c-ade2-2963d9980791",
   "metadata": {
    "editable": true,
    "slideshow": {
     "slide_type": ""
    },
    "tags": []
   },
   "outputs": [
    {
     "data": {
      "text/plain": [
       "[{'date': '1926', 'issuecount': 18},\n",
       " {'date': '1927', 'issuecount': 86},\n",
       " {'date': '1928', 'issuecount': 285},\n",
       " {'date': '1929', 'issuecount': 312},\n",
       " {'date': '1930', 'issuecount': 311}]"
      ]
     },
     "execution_count": 7,
     "metadata": {},
     "output_type": "execute_result"
    }
   ],
   "source": [
    "title_id = \"11\"\n",
    "params = {\"encoding\": \"json\", \"include\": \"years\"}\n",
    "\n",
    "url = f\"https://api.trove.nla.gov.au/v3/newspaper/title/{title_id}\"\n",
    "response = requests.get(url, params=params, headers=headers)\n",
    "data = response.json()\n",
    "year_totals = data[\"year\"]\n",
    "\n",
    "# Show the first 5 values\n",
    "year_totals[0:5]"
   ]
  },
  {
   "cell_type": "markdown",
   "id": "219a97cf-e8bd-44b6-813e-32dfdb39ad05",
   "metadata": {
    "editable": true,
    "slideshow": {
     "slide_type": ""
    },
    "tags": []
   },
   "source": [
    "To find the total number of issues for a title, you just add up all the `issuecount` values."
   ]
  },
  {
   "cell_type": "code",
   "execution_count": 8,
   "id": "5dce7da3-c528-43ef-9909-983724e8ad73",
   "metadata": {
    "editable": true,
    "slideshow": {
     "slide_type": ""
    },
    "tags": []
   },
   "outputs": [
    {
     "data": {
      "text/plain": [
       "22148"
      ]
     },
     "execution_count": 8,
     "metadata": {},
     "output_type": "execute_result"
    }
   ],
   "source": [
    "# Convert the list of counts by year into a dataframe\n",
    "df_years = pd.DataFrame(year_totals)\n",
    "\n",
    "# Add all the issuecount values together\n",
    "df_years[\"issuecount\"].sum()"
   ]
  },
  {
   "cell_type": "code",
   "execution_count": 9,
   "id": "b68db803-5c14-4cda-842b-5d7dae6a25a6",
   "metadata": {
    "editable": true,
    "slideshow": {
     "slide_type": ""
    },
    "tags": [
     "remove-cell"
    ]
   },
   "outputs": [
    {
     "data": {
      "text/html": [
       "\n",
       "<style>\n",
       "  #altair-viz-4b5bb74904294c69979183179d91fbcc.vega-embed {\n",
       "    width: 100%;\n",
       "    display: flex;\n",
       "  }\n",
       "\n",
       "  #altair-viz-4b5bb74904294c69979183179d91fbcc.vega-embed details,\n",
       "  #altair-viz-4b5bb74904294c69979183179d91fbcc.vega-embed details summary {\n",
       "    position: relative;\n",
       "  }\n",
       "</style>\n",
       "<div id=\"altair-viz-4b5bb74904294c69979183179d91fbcc\"></div>\n",
       "<script type=\"text/javascript\">\n",
       "  var VEGA_DEBUG = (typeof VEGA_DEBUG == \"undefined\") ? {} : VEGA_DEBUG;\n",
       "  (function(spec, embedOpt){\n",
       "    let outputDiv = document.currentScript.previousElementSibling;\n",
       "    if (outputDiv.id !== \"altair-viz-4b5bb74904294c69979183179d91fbcc\") {\n",
       "      outputDiv = document.getElementById(\"altair-viz-4b5bb74904294c69979183179d91fbcc\");\n",
       "    }\n",
       "    const paths = {\n",
       "      \"vega\": \"https://cdn.jsdelivr.net/npm/vega@5?noext\",\n",
       "      \"vega-lib\": \"https://cdn.jsdelivr.net/npm/vega-lib?noext\",\n",
       "      \"vega-lite\": \"https://cdn.jsdelivr.net/npm/vega-lite@5.8.0?noext\",\n",
       "      \"vega-embed\": \"https://cdn.jsdelivr.net/npm/vega-embed@6?noext\",\n",
       "    };\n",
       "\n",
       "    function maybeLoadScript(lib, version) {\n",
       "      var key = `${lib.replace(\"-\", \"\")}_version`;\n",
       "      return (VEGA_DEBUG[key] == version) ?\n",
       "        Promise.resolve(paths[lib]) :\n",
       "        new Promise(function(resolve, reject) {\n",
       "          var s = document.createElement('script');\n",
       "          document.getElementsByTagName(\"head\")[0].appendChild(s);\n",
       "          s.async = true;\n",
       "          s.onload = () => {\n",
       "            VEGA_DEBUG[key] = version;\n",
       "            return resolve(paths[lib]);\n",
       "          };\n",
       "          s.onerror = () => reject(`Error loading script: ${paths[lib]}`);\n",
       "          s.src = paths[lib];\n",
       "        });\n",
       "    }\n",
       "\n",
       "    function showError(err) {\n",
       "      outputDiv.innerHTML = `<div class=\"error\" style=\"color:red;\">${err}</div>`;\n",
       "      throw err;\n",
       "    }\n",
       "\n",
       "    function displayChart(vegaEmbed) {\n",
       "      vegaEmbed(outputDiv, spec, embedOpt)\n",
       "        .catch(err => showError(`Javascript Error: ${err.message}<br>This usually means there's a typo in your chart specification. See the javascript console for the full traceback.`));\n",
       "    }\n",
       "\n",
       "    if(typeof define === \"function\" && define.amd) {\n",
       "      requirejs.config({paths});\n",
       "      require([\"vega-embed\"], displayChart, err => showError(`Error loading script: ${err.message}`));\n",
       "    } else {\n",
       "      maybeLoadScript(\"vega\", \"5\")\n",
       "        .then(() => maybeLoadScript(\"vega-lite\", \"5.8.0\"))\n",
       "        .then(() => maybeLoadScript(\"vega-embed\", \"6\"))\n",
       "        .catch(showError)\n",
       "        .then(() => displayChart(vegaEmbed));\n",
       "    }\n",
       "  })({\"config\": {\"view\": {\"continuousWidth\": 300, \"continuousHeight\": 300}}, \"data\": {\"name\": \"data-a3eb0f21e56b85303bfda2cddd61ac45\"}, \"mark\": {\"type\": \"line\"}, \"encoding\": {\"x\": {\"field\": \"date\", \"type\": \"temporal\"}, \"y\": {\"field\": \"issuecount\", \"title\": \"number of issues\", \"type\": \"quantitative\"}}, \"width\": 600, \"$schema\": \"https://vega.github.io/schema/vega-lite/v5.8.0.json\", \"datasets\": {\"data-a3eb0f21e56b85303bfda2cddd61ac45\": [{\"date\": \"1926\", \"issuecount\": 18}, {\"date\": \"1927\", \"issuecount\": 86}, {\"date\": \"1928\", \"issuecount\": 285}, {\"date\": \"1929\", \"issuecount\": 312}, {\"date\": \"1930\", \"issuecount\": 311}, {\"date\": \"1931\", \"issuecount\": 311}, {\"date\": \"1932\", \"issuecount\": 312}, {\"date\": \"1933\", \"issuecount\": 310}, {\"date\": \"1934\", \"issuecount\": 311}, {\"date\": \"1935\", \"issuecount\": 311}, {\"date\": \"1936\", \"issuecount\": 312}, {\"date\": \"1937\", \"issuecount\": 311}, {\"date\": \"1938\", \"issuecount\": 311}, {\"date\": \"1939\", \"issuecount\": 310}, {\"date\": \"1940\", \"issuecount\": 312}, {\"date\": \"1941\", \"issuecount\": 311}, {\"date\": \"1942\", \"issuecount\": 311}, {\"date\": \"1943\", \"issuecount\": 311}, {\"date\": \"1944\", \"issuecount\": 311}, {\"date\": \"1945\", \"issuecount\": 311}, {\"date\": \"1946\", \"issuecount\": 311}, {\"date\": \"1947\", \"issuecount\": 311}, {\"date\": \"1948\", \"issuecount\": 312}, {\"date\": \"1949\", \"issuecount\": 311}, {\"date\": \"1950\", \"issuecount\": 310}, {\"date\": \"1951\", \"issuecount\": 311}, {\"date\": \"1952\", \"issuecount\": 312}, {\"date\": \"1953\", \"issuecount\": 311}, {\"date\": \"1954\", \"issuecount\": 311}, {\"date\": \"1955\", \"issuecount\": 311}, {\"date\": \"1956\", \"issuecount\": 309}, {\"date\": \"1957\", \"issuecount\": 311}, {\"date\": \"1958\", \"issuecount\": 310}, {\"date\": \"1959\", \"issuecount\": 310}, {\"date\": \"1960\", \"issuecount\": 312}, {\"date\": \"1961\", \"issuecount\": 310}, {\"date\": \"1962\", \"issuecount\": 311}, {\"date\": \"1963\", \"issuecount\": 311}, {\"date\": \"1964\", \"issuecount\": 309}, {\"date\": \"1965\", \"issuecount\": 310}, {\"date\": \"1966\", \"issuecount\": 311}, {\"date\": \"1967\", \"issuecount\": 311}, {\"date\": \"1968\", \"issuecount\": 312}, {\"date\": \"1969\", \"issuecount\": 311}, {\"date\": \"1970\", \"issuecount\": 312}, {\"date\": \"1971\", \"issuecount\": 312}, {\"date\": \"1972\", \"issuecount\": 312}, {\"date\": \"1973\", \"issuecount\": 310}, {\"date\": \"1974\", \"issuecount\": 311}, {\"date\": \"1975\", \"issuecount\": 311}, {\"date\": \"1976\", \"issuecount\": 311}, {\"date\": \"1977\", \"issuecount\": 311}, {\"date\": \"1978\", \"issuecount\": 333}, {\"date\": \"1979\", \"issuecount\": 363}, {\"date\": \"1980\", \"issuecount\": 365}, {\"date\": \"1981\", \"issuecount\": 364}, {\"date\": \"1982\", \"issuecount\": 364}, {\"date\": \"1983\", \"issuecount\": 364}, {\"date\": \"1984\", \"issuecount\": 364}, {\"date\": \"1985\", \"issuecount\": 362}, {\"date\": \"1986\", \"issuecount\": 363}, {\"date\": \"1987\", \"issuecount\": 363}, {\"date\": \"1988\", \"issuecount\": 365}, {\"date\": \"1989\", \"issuecount\": 364}, {\"date\": \"1990\", \"issuecount\": 364}, {\"date\": \"1991\", \"issuecount\": 364}, {\"date\": \"1992\", \"issuecount\": 365}, {\"date\": \"1993\", \"issuecount\": 364}, {\"date\": \"1994\", \"issuecount\": 365}, {\"date\": \"1995\", \"issuecount\": 365}]}}, {\"mode\": \"vega-lite\"});\n",
       "</script>"
      ],
      "text/plain": [
       "alt.Chart(...)"
      ]
     },
     "execution_count": 9,
     "metadata": {},
     "output_type": "execute_result"
    }
   ],
   "source": [
    "alt.Chart(df_years).mark_line().encode(\n",
    "    x=\"date:T\",\n",
    "    y=alt.Y(\"issuecount:Q\", title=\"number of issues\"),\n",
    ").properties(width=600)"
   ]
  },
  {
   "cell_type": "markdown",
   "id": "86da7485-4ddf-4f87-b4c8-5cbe92d6dc91",
   "metadata": {
    "editable": true,
    "slideshow": {
     "slide_type": ""
    },
    "tags": []
   },
   "source": [
    "### Details of issues within a date range\n",
    "\n",
    "You can also use the `newspaper/title` and `gazette/title` endpoints to get some details about individual issues, including their date and identifier. To do this you add the `range` parameter to your request, and set its value to a date range using the format `YYYYMMDD-YYYYMMDD`. For example to find issues published between 1930 and 1935, you'd set the `range` parameter to `19300101-19351231`.\n",
    "\n",
    "[![Try it!](../images/try-trove-api-console.svg)](https://troveconsole.herokuapp.com/v3/?url=https%3A%2F%2Fapi.trove.nla.gov.au%2Fv3%2Fnewspaper%2Ftitle%2F11%3Fencoding%3Djson%26include%3Dyears%26range%3D19300101-19351231)\n",
    "\n",
    "You could use the title's `startDate` and `endDate` values to construct the range. However, keep in mind that if a newspaper was published daily over a long period you might be asking for a lot of data in one hit. It might be better to request the data in chunks, such as a year at a time. The GLAM Workbench provides an example of this in the [Harvest information about newspaper issues](https://glam-workbench.net/trove-newspapers/#harvest-information-about-newspaper-issues) notebook.\n",
    "\n",
    "For years within the requested range, an additional `issue` value will provide a list of available issues published in that year. Each issue will include values for `id`, `date`, and `url`.\n",
    "\n",
    "Here's an example using the range `19300101-19351231` for the *Canberra Times*."
   ]
  },
  {
   "cell_type": "code",
   "execution_count": 10,
   "id": "7451ab1f-0c28-4f3d-be3e-82f4d26ba8d6",
   "metadata": {
    "editable": true,
    "slideshow": {
     "slide_type": ""
    },
    "tags": []
   },
   "outputs": [
    {
     "data": {
      "text/plain": [
       "[{'id': '55379',\n",
       "  'date': '1930-01-01',\n",
       "  'url': 'https://nla.gov.au/nla.news-issue55379'},\n",
       " {'id': '55380',\n",
       "  'date': '1930-01-02',\n",
       "  'url': 'https://nla.gov.au/nla.news-issue55380'},\n",
       " {'id': '55381',\n",
       "  'date': '1930-01-03',\n",
       "  'url': 'https://nla.gov.au/nla.news-issue55381'},\n",
       " {'id': '55382',\n",
       "  'date': '1930-01-04',\n",
       "  'url': 'https://nla.gov.au/nla.news-issue55382'},\n",
       " {'id': '55383',\n",
       "  'date': '1930-01-06',\n",
       "  'url': 'https://nla.gov.au/nla.news-issue55383'}]"
      ]
     },
     "execution_count": 10,
     "metadata": {},
     "output_type": "execute_result"
    }
   ],
   "source": [
    "params = {\"encoding\": \"json\", \"include\": \"years\", \"range\": \"19300101-19351231\"}\n",
    "\n",
    "url = f\"https://api.trove.nla.gov.au/v3/newspaper/title/{title_id}\"\n",
    "response = requests.get(url, params=params, headers=headers)\n",
    "data = response.json()\n",
    "years = data[\"year\"]\n",
    "\n",
    "# Let's get issue details for our range\n",
    "issues = []\n",
    "for year in years:\n",
    "    # If the year is in our range it will include an `issue` value\n",
    "    if \"issue\" in year:\n",
    "        # Add this year's issues\n",
    "        issues += year[\"issue\"]\n",
    "\n",
    "# Show the first 5 issues\n",
    "issues[0:5]"
   ]
  },
  {
   "cell_type": "markdown",
   "id": "8e4fd785-920f-48dd-87b4-8eeeef4b31f4",
   "metadata": {
    "editable": true,
    "slideshow": {
     "slide_type": ""
    },
    "tags": []
   },
   "source": [
    "```{note}\n",
    "You might be wondering where an issue's `url` actually goes to, as there's no issue landing page in Trove. If you try clicking on one of the links, you'll notice that you're redirected from the issue url to a url that points to the first page of that issue. This provides a useful shortcut if you want to assemble a collection of front pages ([see below for details](get-a-list-of-front-page-urls)).\n",
    "```"
   ]
  },
  {
   "cell_type": "markdown",
   "id": "4df8ed90-f29e-4a65-976d-6489cee902ac",
   "metadata": {},
   "source": [
    "## Text"
   ]
  },
  {
   "cell_type": "markdown",
   "id": "2d96bfac-4c82-411c-9953-d36f638ca3b8",
   "metadata": {},
   "source": [
    "## Images and PDFs"
   ]
  },
  {
   "cell_type": "markdown",
   "id": "ce4a60c3-8bc5-4aa1-8d6e-0be701dd4462",
   "metadata": {
    "editable": true,
    "slideshow": {
     "slide_type": ""
    },
    "tags": []
   },
   "source": [
    "#### Get an issue as a PDF\n",
    "\n",
    "````{margin}\n",
    "```{seealso}\n",
    "To download all the issues of a newspaper within a specified date range as PDFs see the GLAM Workbench notebook [Harvest the issues of a newspaper as PDFs](https://glam-workbench.net/trove-newspapers/#harvest-the-issues-of-a-newspaper-as-pdfs).\n",
    "```\n",
    "````\n",
    "\n",
    "You can download a newspaper or gazette issue as a PDF from the web interface.\n",
    "\n",
    "- click on the **Download** tab\n",
    "- select 'Issue' from the dropdown list\n",
    "- when PDF generation is complete, click on the **View PDF** button\n",
    "\n",
    "Downloading issue PDFs automatically using code is a bit more complicated. There are three steps:\n",
    "\n",
    "- ask for a PDF to be generated for a particular issue ID\n",
    "- ping Trove at regular intervals to check whether the PDF is ready\n",
    "- once the PDF is ready, download it\n",
    "\n",
    "See [How to get a newspaper issue or article as a PDF](../how-to/get-newspaper-issue-article-pdfs) for a full example."
   ]
  },
  {
   "cell_type": "code",
   "execution_count": null,
   "id": "2b4556d2-417f-4309-9ed1-0262b4aa25be",
   "metadata": {},
   "outputs": [],
   "source": []
  }
 ],
 "metadata": {
  "kernelspec": {
   "display_name": "Python 3 (ipykernel)",
   "language": "python",
   "name": "python3"
  },
  "language_info": {
   "codemirror_mode": {
    "name": "ipython",
    "version": 3
   },
   "file_extension": ".py",
   "mimetype": "text/x-python",
   "name": "python",
   "nbconvert_exporter": "python",
   "pygments_lexer": "ipython3",
   "version": "3.8.12"
  }
 },
 "nbformat": 4,
 "nbformat_minor": 5
}
